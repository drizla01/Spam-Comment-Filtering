{
 "cells": [
  {
   "cell_type": "code",
   "execution_count": 1,
   "id": "3a518843",
   "metadata": {},
   "outputs": [],
   "source": [
    "import matplotlib.pyplot as plt\n",
    "import pandas as pd\n",
    "import numpy as np"
   ]
  },
  {
   "cell_type": "code",
   "execution_count": 2,
   "id": "8b160cee",
   "metadata": {},
   "outputs": [
    {
     "data": {
      "text/html": [
       "<div>\n",
       "<style scoped>\n",
       "    .dataframe tbody tr th:only-of-type {\n",
       "        vertical-align: middle;\n",
       "    }\n",
       "\n",
       "    .dataframe tbody tr th {\n",
       "        vertical-align: top;\n",
       "    }\n",
       "\n",
       "    .dataframe thead th {\n",
       "        text-align: right;\n",
       "    }\n",
       "</style>\n",
       "<table border=\"1\" class=\"dataframe\">\n",
       "  <thead>\n",
       "    <tr style=\"text-align: right;\">\n",
       "      <th></th>\n",
       "      <th>COMMENT_ID</th>\n",
       "      <th>AUTHOR</th>\n",
       "      <th>DATE</th>\n",
       "      <th>CONTENT</th>\n",
       "      <th>CLASS</th>\n",
       "    </tr>\n",
       "  </thead>\n",
       "  <tbody>\n",
       "    <tr>\n",
       "      <th>0</th>\n",
       "      <td>z12pgdhovmrktzm3i23es5d5junftft3f</td>\n",
       "      <td>lekanaVEVO1</td>\n",
       "      <td>2014-07-22T15:27:50</td>\n",
       "      <td>i love this so much. AND also I Generate Free ...</td>\n",
       "      <td>1</td>\n",
       "    </tr>\n",
       "    <tr>\n",
       "      <th>1</th>\n",
       "      <td>z13yx345uxepetggz04ci5rjcxeohzlrtf4</td>\n",
       "      <td>Pyunghee</td>\n",
       "      <td>2014-07-27T01:57:16</td>\n",
       "      <td>http://www.billboard.com/articles/columns/pop-...</td>\n",
       "      <td>1</td>\n",
       "    </tr>\n",
       "    <tr>\n",
       "      <th>2</th>\n",
       "      <td>z12lsjvi3wa5x1vwh04cibeaqnzrevxajw00k</td>\n",
       "      <td>Erica Ross</td>\n",
       "      <td>2014-07-27T02:51:43</td>\n",
       "      <td>Hey guys! Please join me in my fight to help a...</td>\n",
       "      <td>1</td>\n",
       "    </tr>\n",
       "    <tr>\n",
       "      <th>3</th>\n",
       "      <td>z13jcjuovxbwfr0ge04cev2ipsjdfdurwck</td>\n",
       "      <td>Aviel Haimov</td>\n",
       "      <td>2014-08-01T12:27:48</td>\n",
       "      <td>http://psnboss.com/?ref=2tGgp3pV6L this is the...</td>\n",
       "      <td>1</td>\n",
       "    </tr>\n",
       "    <tr>\n",
       "      <th>4</th>\n",
       "      <td>z13qybua2yfydzxzj04cgfpqdt2syfx53ms0k</td>\n",
       "      <td>John Bello</td>\n",
       "      <td>2014-08-01T21:04:03</td>\n",
       "      <td>Hey everyone. Watch this trailer!!!!!!!!  http...</td>\n",
       "      <td>1</td>\n",
       "    </tr>\n",
       "    <tr>\n",
       "      <th>...</th>\n",
       "      <td>...</td>\n",
       "      <td>...</td>\n",
       "      <td>...</td>\n",
       "      <td>...</td>\n",
       "      <td>...</td>\n",
       "    </tr>\n",
       "    <tr>\n",
       "      <th>345</th>\n",
       "      <td>z12sjp3zgtqnvlysj23zuxxaolrvd1oj504</td>\n",
       "      <td>Kacy Cluley</td>\n",
       "      <td>2015-06-05T18:59:52</td>\n",
       "      <td>This song means so much to me thank you  soooo...</td>\n",
       "      <td>0</td>\n",
       "    </tr>\n",
       "    <tr>\n",
       "      <th>346</th>\n",
       "      <td>z132enrpoy35yxpoe04cjr4zur3jvbyq3xo0k</td>\n",
       "      <td>Kasia Fabisiewicz</td>\n",
       "      <td>2015-06-05T19:02:05</td>\n",
       "      <td>&amp;lt;3﻿</td>\n",
       "      <td>0</td>\n",
       "    </tr>\n",
       "    <tr>\n",
       "      <th>347</th>\n",
       "      <td>z132jbmxfqm4fjysg23nwjfb2mv2vxnua</td>\n",
       "      <td>Decio Alves Martins</td>\n",
       "      <td>2015-06-05T19:29:20</td>\n",
       "      <td>KATY PERRY, I AM THE \"DÉCIO CABELO\", \"DECIO HA...</td>\n",
       "      <td>1</td>\n",
       "    </tr>\n",
       "    <tr>\n",
       "      <th>348</th>\n",
       "      <td>z12cdlswetvnejcri04cex0jfwy2u3tzj54</td>\n",
       "      <td>Rafi Hossain</td>\n",
       "      <td>2015-06-05T19:55:08</td>\n",
       "      <td>Honestly speaking except taylor swift and adel...</td>\n",
       "      <td>0</td>\n",
       "    </tr>\n",
       "    <tr>\n",
       "      <th>349</th>\n",
       "      <td>z120e5uautvcuper304ccf4bjrjugdpbwrc0k</td>\n",
       "      <td>moaz adnan</td>\n",
       "      <td>2015-06-05T20:01:23</td>\n",
       "      <td>who is going to reach the billion first : katy...</td>\n",
       "      <td>0</td>\n",
       "    </tr>\n",
       "  </tbody>\n",
       "</table>\n",
       "<p>350 rows × 5 columns</p>\n",
       "</div>"
      ],
      "text/plain": [
       "                                COMMENT_ID               AUTHOR  \\\n",
       "0        z12pgdhovmrktzm3i23es5d5junftft3f          lekanaVEVO1   \n",
       "1      z13yx345uxepetggz04ci5rjcxeohzlrtf4             Pyunghee   \n",
       "2    z12lsjvi3wa5x1vwh04cibeaqnzrevxajw00k           Erica Ross   \n",
       "3      z13jcjuovxbwfr0ge04cev2ipsjdfdurwck         Aviel Haimov   \n",
       "4    z13qybua2yfydzxzj04cgfpqdt2syfx53ms0k           John Bello   \n",
       "..                                     ...                  ...   \n",
       "345    z12sjp3zgtqnvlysj23zuxxaolrvd1oj504          Kacy Cluley   \n",
       "346  z132enrpoy35yxpoe04cjr4zur3jvbyq3xo0k    Kasia Fabisiewicz   \n",
       "347      z132jbmxfqm4fjysg23nwjfb2mv2vxnua  Decio Alves Martins   \n",
       "348    z12cdlswetvnejcri04cex0jfwy2u3tzj54         Rafi Hossain   \n",
       "349  z120e5uautvcuper304ccf4bjrjugdpbwrc0k           moaz adnan   \n",
       "\n",
       "                    DATE                                            CONTENT  \\\n",
       "0    2014-07-22T15:27:50  i love this so much. AND also I Generate Free ...   \n",
       "1    2014-07-27T01:57:16  http://www.billboard.com/articles/columns/pop-...   \n",
       "2    2014-07-27T02:51:43  Hey guys! Please join me in my fight to help a...   \n",
       "3    2014-08-01T12:27:48  http://psnboss.com/?ref=2tGgp3pV6L this is the...   \n",
       "4    2014-08-01T21:04:03  Hey everyone. Watch this trailer!!!!!!!!  http...   \n",
       "..                   ...                                                ...   \n",
       "345  2015-06-05T18:59:52  This song means so much to me thank you  soooo...   \n",
       "346  2015-06-05T19:02:05                                             &lt;3﻿   \n",
       "347  2015-06-05T19:29:20  KATY PERRY, I AM THE \"DÉCIO CABELO\", \"DECIO HA...   \n",
       "348  2015-06-05T19:55:08  Honestly speaking except taylor swift and adel...   \n",
       "349  2015-06-05T20:01:23  who is going to reach the billion first : katy...   \n",
       "\n",
       "     CLASS  \n",
       "0        1  \n",
       "1        1  \n",
       "2        1  \n",
       "3        1  \n",
       "4        1  \n",
       "..     ...  \n",
       "345      0  \n",
       "346      0  \n",
       "347      1  \n",
       "348      0  \n",
       "349      0  \n",
       "\n",
       "[350 rows x 5 columns]"
      ]
     },
     "execution_count": 2,
     "metadata": {},
     "output_type": "execute_result"
    }
   ],
   "source": [
    "kperry = pd.read_csv(\"Youtube02-KatyPerry.csv\")  \n",
    "kperry"
   ]
  },
  {
   "cell_type": "code",
   "execution_count": 3,
   "id": "ea7c1c9c",
   "metadata": {},
   "outputs": [
    {
     "data": {
      "text/html": [
       "<div>\n",
       "<style scoped>\n",
       "    .dataframe tbody tr th:only-of-type {\n",
       "        vertical-align: middle;\n",
       "    }\n",
       "\n",
       "    .dataframe tbody tr th {\n",
       "        vertical-align: top;\n",
       "    }\n",
       "\n",
       "    .dataframe thead th {\n",
       "        text-align: right;\n",
       "    }\n",
       "</style>\n",
       "<table border=\"1\" class=\"dataframe\">\n",
       "  <thead>\n",
       "    <tr style=\"text-align: right;\">\n",
       "      <th></th>\n",
       "      <th>CONTENT</th>\n",
       "      <th>CLASS</th>\n",
       "    </tr>\n",
       "  </thead>\n",
       "  <tbody>\n",
       "    <tr>\n",
       "      <th>0</th>\n",
       "      <td>i love this so much. AND also I Generate Free ...</td>\n",
       "      <td>1</td>\n",
       "    </tr>\n",
       "    <tr>\n",
       "      <th>1</th>\n",
       "      <td>http://www.billboard.com/articles/columns/pop-...</td>\n",
       "      <td>1</td>\n",
       "    </tr>\n",
       "    <tr>\n",
       "      <th>2</th>\n",
       "      <td>Hey guys! Please join me in my fight to help a...</td>\n",
       "      <td>1</td>\n",
       "    </tr>\n",
       "    <tr>\n",
       "      <th>3</th>\n",
       "      <td>http://psnboss.com/?ref=2tGgp3pV6L this is the...</td>\n",
       "      <td>1</td>\n",
       "    </tr>\n",
       "    <tr>\n",
       "      <th>4</th>\n",
       "      <td>Hey everyone. Watch this trailer!!!!!!!!  http...</td>\n",
       "      <td>1</td>\n",
       "    </tr>\n",
       "    <tr>\n",
       "      <th>...</th>\n",
       "      <td>...</td>\n",
       "      <td>...</td>\n",
       "    </tr>\n",
       "    <tr>\n",
       "      <th>345</th>\n",
       "      <td>This song means so much to me thank you  soooo...</td>\n",
       "      <td>0</td>\n",
       "    </tr>\n",
       "    <tr>\n",
       "      <th>346</th>\n",
       "      <td>&amp;lt;3﻿</td>\n",
       "      <td>0</td>\n",
       "    </tr>\n",
       "    <tr>\n",
       "      <th>347</th>\n",
       "      <td>KATY PERRY, I AM THE \"DÉCIO CABELO\", \"DECIO HA...</td>\n",
       "      <td>1</td>\n",
       "    </tr>\n",
       "    <tr>\n",
       "      <th>348</th>\n",
       "      <td>Honestly speaking except taylor swift and adel...</td>\n",
       "      <td>0</td>\n",
       "    </tr>\n",
       "    <tr>\n",
       "      <th>349</th>\n",
       "      <td>who is going to reach the billion first : katy...</td>\n",
       "      <td>0</td>\n",
       "    </tr>\n",
       "  </tbody>\n",
       "</table>\n",
       "<p>350 rows × 2 columns</p>\n",
       "</div>"
      ],
      "text/plain": [
       "                                               CONTENT  CLASS\n",
       "0    i love this so much. AND also I Generate Free ...      1\n",
       "1    http://www.billboard.com/articles/columns/pop-...      1\n",
       "2    Hey guys! Please join me in my fight to help a...      1\n",
       "3    http://psnboss.com/?ref=2tGgp3pV6L this is the...      1\n",
       "4    Hey everyone. Watch this trailer!!!!!!!!  http...      1\n",
       "..                                                 ...    ...\n",
       "345  This song means so much to me thank you  soooo...      0\n",
       "346                                             &lt;3﻿      0\n",
       "347  KATY PERRY, I AM THE \"DÉCIO CABELO\", \"DECIO HA...      1\n",
       "348  Honestly speaking except taylor swift and adel...      0\n",
       "349  who is going to reach the billion first : katy...      0\n",
       "\n",
       "[350 rows x 2 columns]"
      ]
     },
     "execution_count": 3,
     "metadata": {},
     "output_type": "execute_result"
    }
   ],
   "source": [
    "kperry.drop(columns=['COMMENT_ID', 'AUTHOR','DATE'], inplace = True)\n",
    "kperry   #spam = 1, ham(legimimate) = 0"
   ]
  },
  {
   "cell_type": "code",
   "execution_count": 4,
   "id": "46f80917",
   "metadata": {},
   "outputs": [
    {
     "data": {
      "text/plain": [
       "CONTENT    False\n",
       "CLASS      False\n",
       "dtype: bool"
      ]
     },
     "execution_count": 4,
     "metadata": {},
     "output_type": "execute_result"
    }
   ],
   "source": [
    "kperry.isna().any()"
   ]
  },
  {
   "cell_type": "code",
   "execution_count": 5,
   "id": "76ce8465",
   "metadata": {},
   "outputs": [
    {
     "data": {
      "text/plain": [
       "0"
      ]
     },
     "execution_count": 5,
     "metadata": {},
     "output_type": "execute_result"
    }
   ],
   "source": [
    "kperry.drop_duplicates(inplace = True)\n",
    "kperry.duplicated().sum()"
   ]
  },
  {
   "cell_type": "code",
   "execution_count": 6,
   "id": "0d48b433",
   "metadata": {},
   "outputs": [
    {
     "data": {
      "text/plain": [
       "CONTENT    175\n",
       "CLASS      175\n",
       "dtype: int64"
      ]
     },
     "execution_count": 6,
     "metadata": {},
     "output_type": "execute_result"
    }
   ],
   "source": [
    "kperry[kperry['CLASS']== 1].count()"
   ]
  },
  {
   "cell_type": "code",
   "execution_count": 7,
   "id": "731f0006",
   "metadata": {},
   "outputs": [
    {
     "data": {
      "text/plain": [
       "CONTENT    173\n",
       "CLASS      173\n",
       "dtype: int64"
      ]
     },
     "execution_count": 7,
     "metadata": {},
     "output_type": "execute_result"
    }
   ],
   "source": [
    "# ham\n",
    "kperry[kperry['CLASS'] == 0].count()"
   ]
  },
  {
   "cell_type": "markdown",
   "id": "3dc321c5",
   "metadata": {},
   "source": [
    "## Data Preprocessing"
   ]
  },
  {
   "cell_type": "code",
   "execution_count": 8,
   "id": "f5d47b80",
   "metadata": {},
   "outputs": [],
   "source": [
    "import nltk\n",
    "import string\n",
    "from nltk.corpus import stopwords\n",
    "from nltk.stem.wordnet import WordNetLemmatizer\n",
    "from nltk.tokenize import word_tokenize\n",
    "from nltk.stem.porter import PorterStemmer\n",
    "ps = PorterStemmer()"
   ]
  },
  {
   "cell_type": "code",
   "execution_count": 9,
   "id": "5852c054",
   "metadata": {},
   "outputs": [],
   "source": [
    "'''\n",
    "Create a function that\n",
    "- changes all the words to lower case\n",
    "- tokenize the words\n",
    "- remove special characters\n",
    "- remove stop words and punctuation\n",
    "- stemming\n",
    "\n",
    "'''\n",
    "\n",
    "def text_processing(CONTENT):\n",
    "    text = CONTENT.lower()\n",
    "    text = nltk.word_tokenize(text)\n",
    "\n",
    "    y = []\n",
    "    for i in text:\n",
    "        if i.isalnum():\n",
    "            y.append(i)\n",
    "    text = y[:]\n",
    "    y.clear()\n",
    "    \n",
    "    for j in text:\n",
    "        if j not in stopwords.words('english') and i not in string.punctuation:\n",
    "            y.append(j)\n",
    "    text = y[:]\n",
    "    y.clear()\n",
    "\n",
    "    for w in text:\n",
    "     #   y.append(ps.stem(w))     incase for stemming\n",
    "        y.append(w)\n",
    "    return \" \".join(y)"
   ]
  },
  {
   "cell_type": "code",
   "execution_count": 10,
   "id": "8c466bcd",
   "metadata": {},
   "outputs": [
    {
     "data": {
      "text/html": [
       "<div>\n",
       "<style scoped>\n",
       "    .dataframe tbody tr th:only-of-type {\n",
       "        vertical-align: middle;\n",
       "    }\n",
       "\n",
       "    .dataframe tbody tr th {\n",
       "        vertical-align: top;\n",
       "    }\n",
       "\n",
       "    .dataframe thead th {\n",
       "        text-align: right;\n",
       "    }\n",
       "</style>\n",
       "<table border=\"1\" class=\"dataframe\">\n",
       "  <thead>\n",
       "    <tr style=\"text-align: right;\">\n",
       "      <th></th>\n",
       "      <th>CONTENT</th>\n",
       "      <th>CLASS</th>\n",
       "      <th>TEXT_PROCESSED</th>\n",
       "    </tr>\n",
       "  </thead>\n",
       "  <tbody>\n",
       "    <tr>\n",
       "      <th>0</th>\n",
       "      <td>i love this so much. AND also I Generate Free ...</td>\n",
       "      <td>1</td>\n",
       "      <td>love much also generate free leads auto pilot ...</td>\n",
       "    </tr>\n",
       "    <tr>\n",
       "      <th>1</th>\n",
       "      <td>http://www.billboard.com/articles/columns/pop-...</td>\n",
       "      <td>1</td>\n",
       "      <td>http vote sones please vips please help us gt lt</td>\n",
       "    </tr>\n",
       "    <tr>\n",
       "      <th>2</th>\n",
       "      <td>Hey guys! Please join me in my fight to help a...</td>\n",
       "      <td>1</td>\n",
       "      <td>hey guys please join fight help animals fund g...</td>\n",
       "    </tr>\n",
       "    <tr>\n",
       "      <th>3</th>\n",
       "      <td>http://psnboss.com/?ref=2tGgp3pV6L this is the...</td>\n",
       "      <td>1</td>\n",
       "      <td>http</td>\n",
       "    </tr>\n",
       "    <tr>\n",
       "      <th>4</th>\n",
       "      <td>Hey everyone. Watch this trailer!!!!!!!!  http...</td>\n",
       "      <td>1</td>\n",
       "      <td>hey everyone watch trailer http</td>\n",
       "    </tr>\n",
       "    <tr>\n",
       "      <th>5</th>\n",
       "      <td>check out my rapping hope you guys like it  ht...</td>\n",
       "      <td>1</td>\n",
       "      <td>check rapping hope guys like https follow message</td>\n",
       "    </tr>\n",
       "    <tr>\n",
       "      <th>6</th>\n",
       "      <td>Subscribe pleaaaase to my instagram account , ...</td>\n",
       "      <td>1</td>\n",
       "      <td>subscribe pleaaaase instagram account subscrib...</td>\n",
       "    </tr>\n",
       "    <tr>\n",
       "      <th>7</th>\n",
       "      <td>hey guys!! visit my channel pleaase (i'm searc...</td>\n",
       "      <td>1</td>\n",
       "      <td>hey guys visit channel pleaase searching dream</td>\n",
       "    </tr>\n",
       "    <tr>\n",
       "      <th>8</th>\n",
       "      <td>Nice! http://www.barnesandnoble.com/s/BDP?csrf...</td>\n",
       "      <td>1</td>\n",
       "      <td>nice http amp amp amp amp amp amp</td>\n",
       "    </tr>\n",
       "    <tr>\n",
       "      <th>9</th>\n",
       "      <td>http://www.twitch.tv/daconnormc﻿</td>\n",
       "      <td>1</td>\n",
       "      <td>http</td>\n",
       "    </tr>\n",
       "    <tr>\n",
       "      <th>10</th>\n",
       "      <td>Hey Guys this is Glamour Beauty! I just starte...</td>\n",
       "      <td>1</td>\n",
       "      <td>hey guys glamour beauty started youtube channe...</td>\n",
       "    </tr>\n",
       "    <tr>\n",
       "      <th>11</th>\n",
       "      <td>Hey guys! My mom said if i got 100 subs before...</td>\n",
       "      <td>1</td>\n",
       "      <td>hey guys mom said got 100 subs christmas get k...</td>\n",
       "    </tr>\n",
       "    <tr>\n",
       "      <th>12</th>\n",
       "      <td>https://www.facebook.com/photo.php?fbid=543627...</td>\n",
       "      <td>1</td>\n",
       "      <td>https amp</td>\n",
       "    </tr>\n",
       "    <tr>\n",
       "      <th>13</th>\n",
       "      <td>https://www.facebook.com/photo.php?v=448317985...</td>\n",
       "      <td>1</td>\n",
       "      <td>https amp amp amp theater</td>\n",
       "    </tr>\n",
       "    <tr>\n",
       "      <th>14</th>\n",
       "      <td>https://soundcloud.com/artady please check my ...</td>\n",
       "      <td>1</td>\n",
       "      <td>https please check stuff make</td>\n",
       "    </tr>\n",
       "    <tr>\n",
       "      <th>15</th>\n",
       "      <td>Take a break from Katie and help me reach 100 ...</td>\n",
       "      <td>1</td>\n",
       "      <td>take break katie help reach 100 subscribers mo...</td>\n",
       "    </tr>\n",
       "    <tr>\n",
       "      <th>16</th>\n",
       "      <td>Subscribe me please﻿</td>\n",
       "      <td>1</td>\n",
       "      <td>subscribe</td>\n",
       "    </tr>\n",
       "    <tr>\n",
       "      <th>17</th>\n",
       "      <td>Check out my covers I have a video coming out ...</td>\n",
       "      <td>1</td>\n",
       "      <td>check covers video coming please</td>\n",
       "    </tr>\n",
       "    <tr>\n",
       "      <th>18</th>\n",
       "      <td>Subscribe to My CHANNEL﻿</td>\n",
       "      <td>1</td>\n",
       "      <td>subscribe</td>\n",
       "    </tr>\n",
       "    <tr>\n",
       "      <th>19</th>\n",
       "      <td>Hey guys. I am a very small YouTuber I upload ...</td>\n",
       "      <td>1</td>\n",
       "      <td>hey guys small youtuber upload videos nearly e...</td>\n",
       "    </tr>\n",
       "  </tbody>\n",
       "</table>\n",
       "</div>"
      ],
      "text/plain": [
       "                                              CONTENT  CLASS  \\\n",
       "0   i love this so much. AND also I Generate Free ...      1   \n",
       "1   http://www.billboard.com/articles/columns/pop-...      1   \n",
       "2   Hey guys! Please join me in my fight to help a...      1   \n",
       "3   http://psnboss.com/?ref=2tGgp3pV6L this is the...      1   \n",
       "4   Hey everyone. Watch this trailer!!!!!!!!  http...      1   \n",
       "5   check out my rapping hope you guys like it  ht...      1   \n",
       "6   Subscribe pleaaaase to my instagram account , ...      1   \n",
       "7   hey guys!! visit my channel pleaase (i'm searc...      1   \n",
       "8   Nice! http://www.barnesandnoble.com/s/BDP?csrf...      1   \n",
       "9                    http://www.twitch.tv/daconnormc﻿      1   \n",
       "10  Hey Guys this is Glamour Beauty! I just starte...      1   \n",
       "11  Hey guys! My mom said if i got 100 subs before...      1   \n",
       "12  https://www.facebook.com/photo.php?fbid=543627...      1   \n",
       "13  https://www.facebook.com/photo.php?v=448317985...      1   \n",
       "14  https://soundcloud.com/artady please check my ...      1   \n",
       "15  Take a break from Katie and help me reach 100 ...      1   \n",
       "16                               Subscribe me please﻿      1   \n",
       "17  Check out my covers I have a video coming out ...      1   \n",
       "18                           Subscribe to My CHANNEL﻿      1   \n",
       "19  Hey guys. I am a very small YouTuber I upload ...      1   \n",
       "\n",
       "                                       TEXT_PROCESSED  \n",
       "0   love much also generate free leads auto pilot ...  \n",
       "1    http vote sones please vips please help us gt lt  \n",
       "2   hey guys please join fight help animals fund g...  \n",
       "3                                                http  \n",
       "4                     hey everyone watch trailer http  \n",
       "5   check rapping hope guys like https follow message  \n",
       "6   subscribe pleaaaase instagram account subscrib...  \n",
       "7      hey guys visit channel pleaase searching dream  \n",
       "8                   nice http amp amp amp amp amp amp  \n",
       "9                                                http  \n",
       "10  hey guys glamour beauty started youtube channe...  \n",
       "11  hey guys mom said got 100 subs christmas get k...  \n",
       "12                                          https amp  \n",
       "13                          https amp amp amp theater  \n",
       "14                      https please check stuff make  \n",
       "15  take break katie help reach 100 subscribers mo...  \n",
       "16                                          subscribe  \n",
       "17                   check covers video coming please  \n",
       "18                                          subscribe  \n",
       "19  hey guys small youtuber upload videos nearly e...  "
      ]
     },
     "execution_count": 10,
     "metadata": {},
     "output_type": "execute_result"
    }
   ],
   "source": [
    "#Adding a new column for the processed text from the content column\n",
    "kperry['TEXT_PROCESSED'] = kperry['CONTENT'].apply(text_processing)\n",
    "kperry.head(20)"
   ]
  },
  {
   "cell_type": "markdown",
   "id": "a08ca87d",
   "metadata": {},
   "source": [
    "## Model Building\n",
    "Algorithm used are\n",
    "- Support Vector Classification(Linear, Polynomial, Gaussian)\n",
    "- The Naive Bayes Method(Multinomial, Bernouli, Gaussian)\n",
    "- Random Forest\n",
    "- Decision Tree(CART)\n",
    "- KNNeighbor\n",
    "- Logistics Regression"
   ]
  },
  {
   "cell_type": "code",
   "execution_count": 11,
   "id": "d164d424",
   "metadata": {},
   "outputs": [
    {
     "data": {
      "text/plain": [
       "(348, 1129)"
      ]
     },
     "execution_count": 11,
     "metadata": {},
     "output_type": "execute_result"
    }
   ],
   "source": [
    "from sklearn.feature_extraction.text import CountVectorizer, TfidfVectorizer\n",
    "tfidf = TfidfVectorizer(max_features = 3000 )\n",
    "X = tfidf.fit_transform(kperry['TEXT_PROCESSED']).toarray()\n",
    "y = kperry['CLASS'].values\n",
    "#X.shape\n",
    "#X = CountVectorizer(analyzer=text_processing).fit_transform(psy['CONTENT'])\n",
    "#bag_of_words.shape\n",
    "X.shape\n"
   ]
  },
  {
   "cell_type": "code",
   "execution_count": 12,
   "id": "772e9a22",
   "metadata": {},
   "outputs": [],
   "source": [
    "'''\n",
    "splitting the data into training and testing set \n",
    "importing the necessary library for the Supervised Techniques and checking the accuracy/validity of the model\n",
    "'''\n",
    "from sklearn.model_selection import train_test_split\n",
    "X_train,X_test,y_train,y_test = train_test_split(X,y,test_size=0.2,random_state= 0)\n",
    "\n",
    "from sklearn.linear_model import LogisticRegression\n",
    "from sklearn.svm import SVC\n",
    "from sklearn.tree import DecisionTreeClassifier\n",
    "from sklearn.neighbors import KNeighborsClassifier\n",
    "from sklearn.ensemble import RandomForestClassifier\n",
    "from sklearn.naive_bayes import GaussianNB,MultinomialNB,BernoulliNB\n",
    "from sklearn.metrics import accuracy_score,confusion_matrix,precision_score,f1_score, matthews_corrcoef"
   ]
  },
  {
   "cell_type": "code",
   "execution_count": 13,
   "id": "20fb1f15",
   "metadata": {},
   "outputs": [],
   "source": [
    "svc_Linear = SVC()\n",
    "svc_Polynomial = SVC(kernel='poly')\n",
    "svc_Gaussian = SVC(kernel='rbf')\n",
    "knc = KNeighborsClassifier(n_neighbors=3)\n",
    "dtc = DecisionTreeClassifier()\n",
    "lrc = LogisticRegression(solver='liblinear')\n",
    "rfc = RandomForestClassifier(n_estimators=80)\n",
    "gnb = GaussianNB()\n",
    "mnb = MultinomialNB()\n",
    "bnb = BernoulliNB()"
   ]
  },
  {
   "cell_type": "code",
   "execution_count": 14,
   "id": "3bfe4d19",
   "metadata": {},
   "outputs": [],
   "source": [
    "clfs = {\n",
    "    'SVM_Linear' : svc_Linear,\n",
    "    'SVM_Polynomial' : svc_Polynomial,\n",
    "    'SVM_Gaussian' : svc_Gaussian,\n",
    "    'KNNeighbor' : knc, \n",
    "    'CART': dtc, \n",
    "    'LogisticsRegression': lrc, \n",
    "    'RandomForest': rfc, \n",
    "    'GaussianNB': gnb,\n",
    "    'MultinomialNB': mnb,\n",
    "    'BernoulliNB':bnb\n",
    "}"
   ]
  },
  {
   "cell_type": "code",
   "execution_count": 15,
   "id": "c2815772",
   "metadata": {},
   "outputs": [],
   "source": [
    "def train_classifier(clf,X_train,y_train,X_test,y_test):\n",
    "    clf.fit(X_train,y_train)\n",
    "    y_pred = clf.predict(X_test)\n",
    "    accuracy = accuracy_score(y_test,y_pred)\n",
    "    precision = precision_score(y_test,y_pred)\n",
    "    f_score = f1_score(y_test, y_pred)\n",
    "    con_matrices =confusion_matrix(y_test,y_pred)\n",
    "    return accuracy,precision,f_score,con_matrices"
   ]
  },
  {
   "cell_type": "markdown",
   "id": "3decb08d",
   "metadata": {},
   "source": [
    "## Model Performance(UnOptimized)\n",
    "- Matthew correlation Coefficient\n",
    "- Accuracy\n",
    "- Precision\n",
    "- F_score\n",
    "- Confusion Matrix"
   ]
  },
  {
   "cell_type": "code",
   "execution_count": 16,
   "id": "f65583ef",
   "metadata": {},
   "outputs": [
    {
     "name": "stdout",
     "output_type": "stream",
     "text": [
      "==================\n",
      "SVM_Linear\n",
      "0.8918918918918919\n",
      "==================\n",
      "SVM_Polynomial\n",
      "0.5764316524276827\n",
      "==================\n",
      "SVM_Gaussian\n",
      "0.8918918918918919\n",
      "==================\n",
      "KNNeighbor\n",
      "0.40778049119200566\n",
      "==================\n",
      "CART\n",
      "0.9177921019176088\n",
      "==================\n",
      "LogisticsRegression\n",
      "0.944400281603035\n",
      "==================\n",
      "RandomForest\n",
      "0.9717798726186446\n",
      "==================\n",
      "GaussianNB\n",
      "0.5413595413595413\n",
      "==================\n",
      "MultinomialNB\n",
      "0.8853398853398854\n",
      "==================\n",
      "BernoulliNB\n",
      "0.6821546013313323\n",
      "--------------------------------\n",
      "SVM_Linear\n",
      "Accuracy  0.9428571428571428\n",
      "Precision -  1.0\n",
      "f1_scores 0.9428571428571428\n",
      "Confusion Matrix\n",
      "  [[33  0]\n",
      " [ 4 33]]\n",
      "--------------------------------\n",
      "--------------------------------\n",
      "SVM_Polynomial\n",
      "Accuracy  0.7428571428571429\n",
      "Precision -  1.0\n",
      "f1_scores 0.6785714285714285\n",
      "Confusion Matrix\n",
      "  [[33  0]\n",
      " [18 19]]\n",
      "--------------------------------\n",
      "--------------------------------\n",
      "SVM_Gaussian\n",
      "Accuracy  0.9428571428571428\n",
      "Precision -  1.0\n",
      "f1_scores 0.9428571428571428\n",
      "Confusion Matrix\n",
      "  [[33  0]\n",
      " [ 4 33]]\n",
      "--------------------------------\n",
      "--------------------------------\n",
      "KNNeighbor\n",
      "Accuracy  0.6285714285714286\n",
      "Precision -  1.0\n",
      "f1_scores 0.4583333333333333\n",
      "Confusion Matrix\n",
      "  [[33  0]\n",
      " [26 11]]\n",
      "--------------------------------\n",
      "--------------------------------\n",
      "CART\n",
      "Accuracy  0.9714285714285714\n",
      "Precision -  1.0\n",
      "f1_scores 0.9722222222222222\n",
      "Confusion Matrix\n",
      "  [[33  0]\n",
      " [ 2 35]]\n",
      "--------------------------------\n",
      "--------------------------------\n",
      "LogisticsRegression\n",
      "Accuracy  0.9714285714285714\n",
      "Precision -  1.0\n",
      "f1_scores 0.9722222222222222\n",
      "Confusion Matrix\n",
      "  [[33  0]\n",
      " [ 2 35]]\n",
      "--------------------------------\n",
      "--------------------------------\n",
      "RandomForest\n",
      "Accuracy  0.9857142857142858\n",
      "Precision -  1.0\n",
      "f1_scores 0.9863013698630138\n",
      "Confusion Matrix\n",
      "  [[33  0]\n",
      " [ 1 36]]\n",
      "--------------------------------\n",
      "--------------------------------\n",
      "GaussianNB\n",
      "Accuracy  0.7714285714285715\n",
      "Precision -  0.7837837837837838\n",
      "f1_scores 0.7837837837837838\n",
      "Confusion Matrix\n",
      "  [[25  8]\n",
      " [ 8 29]]\n",
      "--------------------------------\n",
      "--------------------------------\n",
      "MultinomialNB\n",
      "Accuracy  0.9428571428571428\n",
      "Precision -  0.9459459459459459\n",
      "f1_scores 0.9459459459459459\n",
      "Confusion Matrix\n",
      "  [[31  2]\n",
      " [ 2 35]]\n",
      "--------------------------------\n",
      "--------------------------------\n",
      "BernoulliNB\n",
      "Accuracy  0.8142857142857143\n",
      "Precision -  1.0\n",
      "f1_scores 0.7868852459016393\n",
      "Confusion Matrix\n",
      "  [[33  0]\n",
      " [13 24]]\n",
      "--------------------------------\n"
     ]
    }
   ],
   "source": [
    "'''\n",
    "   Using the Matthews correlation coefficient\n",
    "'''\n",
    "\n",
    "mcc_scores = []\n",
    "for name, clf in clfs.items():\n",
    "    clf.fit(X_train,y_train)\n",
    "    current_mcc = matthews_corrcoef(y_test,clf.predict(X_test))\n",
    "   \n",
    "    print(\"==================\")\n",
    "    print(name)\n",
    "    print(current_mcc)\n",
    "    mcc_scores.append(current_mcc)\n",
    "\n",
    "\n",
    "'''\n",
    "    Checking the Accuracy, Precision, F-score and the confusion Matrix\n",
    "'''\n",
    "\n",
    "accuracy_scores = []\n",
    "precision_scores = []\n",
    "f1_scores = []\n",
    "confusion_matrices = []\n",
    "for name,clf in clfs.items():\n",
    "    \n",
    "    current_accuracy,current_precision,current_f1_score, confusion_matrice = train_classifier(clf, X_train,y_train,X_test,y_test)\n",
    "    print('--------------------------------')\n",
    "    print(name)\n",
    "    print(\"Accuracy \",current_accuracy)\n",
    "    print(\"Precision - \",current_precision)\n",
    "    print(\"f1_scores\" , current_f1_score) \n",
    "    print('Confusion Matrix\\n ',confusion_matrice)  \n",
    "    accuracy_scores.append(current_accuracy)\n",
    "    precision_scores.append(current_precision)\n",
    "    f1_scores.append(current_f1_score)\n",
    "    confusion_matrices.append(confusion_matrice)\n",
    "\n",
    "    print('--------------------------------')"
   ]
  },
  {
   "cell_type": "code",
   "execution_count": 17,
   "id": "46db2459",
   "metadata": {},
   "outputs": [
    {
     "data": {
      "text/html": [
       "<div>\n",
       "<style scoped>\n",
       "    .dataframe tbody tr th:only-of-type {\n",
       "        vertical-align: middle;\n",
       "    }\n",
       "\n",
       "    .dataframe tbody tr th {\n",
       "        vertical-align: top;\n",
       "    }\n",
       "\n",
       "    .dataframe thead th {\n",
       "        text-align: right;\n",
       "    }\n",
       "</style>\n",
       "<table border=\"1\" class=\"dataframe\">\n",
       "  <thead>\n",
       "    <tr style=\"text-align: right;\">\n",
       "      <th></th>\n",
       "      <th>Algorithm</th>\n",
       "      <th>Accuracy</th>\n",
       "      <th>Precision</th>\n",
       "      <th>F_scores</th>\n",
       "      <th>MCC_scores</th>\n",
       "    </tr>\n",
       "  </thead>\n",
       "  <tbody>\n",
       "    <tr>\n",
       "      <th>6</th>\n",
       "      <td>RandomForest</td>\n",
       "      <td>0.985714</td>\n",
       "      <td>1.000000</td>\n",
       "      <td>0.986301</td>\n",
       "      <td>0.971780</td>\n",
       "    </tr>\n",
       "    <tr>\n",
       "      <th>5</th>\n",
       "      <td>LogisticsRegression</td>\n",
       "      <td>0.971429</td>\n",
       "      <td>1.000000</td>\n",
       "      <td>0.972222</td>\n",
       "      <td>0.944400</td>\n",
       "    </tr>\n",
       "    <tr>\n",
       "      <th>4</th>\n",
       "      <td>CART</td>\n",
       "      <td>0.971429</td>\n",
       "      <td>1.000000</td>\n",
       "      <td>0.972222</td>\n",
       "      <td>0.917792</td>\n",
       "    </tr>\n",
       "    <tr>\n",
       "      <th>0</th>\n",
       "      <td>SVM_Linear</td>\n",
       "      <td>0.942857</td>\n",
       "      <td>1.000000</td>\n",
       "      <td>0.942857</td>\n",
       "      <td>0.891892</td>\n",
       "    </tr>\n",
       "    <tr>\n",
       "      <th>2</th>\n",
       "      <td>SVM_Gaussian</td>\n",
       "      <td>0.942857</td>\n",
       "      <td>1.000000</td>\n",
       "      <td>0.942857</td>\n",
       "      <td>0.891892</td>\n",
       "    </tr>\n",
       "    <tr>\n",
       "      <th>8</th>\n",
       "      <td>MultinomialNB</td>\n",
       "      <td>0.942857</td>\n",
       "      <td>0.945946</td>\n",
       "      <td>0.945946</td>\n",
       "      <td>0.885340</td>\n",
       "    </tr>\n",
       "    <tr>\n",
       "      <th>9</th>\n",
       "      <td>BernoulliNB</td>\n",
       "      <td>0.814286</td>\n",
       "      <td>1.000000</td>\n",
       "      <td>0.786885</td>\n",
       "      <td>0.682155</td>\n",
       "    </tr>\n",
       "    <tr>\n",
       "      <th>1</th>\n",
       "      <td>SVM_Polynomial</td>\n",
       "      <td>0.742857</td>\n",
       "      <td>1.000000</td>\n",
       "      <td>0.678571</td>\n",
       "      <td>0.576432</td>\n",
       "    </tr>\n",
       "    <tr>\n",
       "      <th>7</th>\n",
       "      <td>GaussianNB</td>\n",
       "      <td>0.771429</td>\n",
       "      <td>0.783784</td>\n",
       "      <td>0.783784</td>\n",
       "      <td>0.541360</td>\n",
       "    </tr>\n",
       "    <tr>\n",
       "      <th>3</th>\n",
       "      <td>KNNeighbor</td>\n",
       "      <td>0.628571</td>\n",
       "      <td>1.000000</td>\n",
       "      <td>0.458333</td>\n",
       "      <td>0.407780</td>\n",
       "    </tr>\n",
       "  </tbody>\n",
       "</table>\n",
       "</div>"
      ],
      "text/plain": [
       "             Algorithm  Accuracy  Precision  F_scores  MCC_scores\n",
       "6         RandomForest  0.985714   1.000000  0.986301    0.971780\n",
       "5  LogisticsRegression  0.971429   1.000000  0.972222    0.944400\n",
       "4                 CART  0.971429   1.000000  0.972222    0.917792\n",
       "0           SVM_Linear  0.942857   1.000000  0.942857    0.891892\n",
       "2         SVM_Gaussian  0.942857   1.000000  0.942857    0.891892\n",
       "8        MultinomialNB  0.942857   0.945946  0.945946    0.885340\n",
       "9          BernoulliNB  0.814286   1.000000  0.786885    0.682155\n",
       "1       SVM_Polynomial  0.742857   1.000000  0.678571    0.576432\n",
       "7           GaussianNB  0.771429   0.783784  0.783784    0.541360\n",
       "3           KNNeighbor  0.628571   1.000000  0.458333    0.407780"
      ]
     },
     "execution_count": 17,
     "metadata": {},
     "output_type": "execute_result"
    }
   ],
   "source": [
    "'''\n",
    "    Arranging the performance based on the Matthew correlation coefficient in descending order for each Algorithm\n",
    "'''\n",
    "performance_kperry = pd.DataFrame({'Algorithm':clfs.keys(),'Accuracy':accuracy_scores,'Precision':precision_scores, 'F_scores':f1_scores, 'MCC_scores': mcc_scores}).sort_values('MCC_scores', ascending=False)\n",
    "performance_kperry"
   ]
  },
  {
   "cell_type": "code",
   "execution_count": 18,
   "id": "23421b75",
   "metadata": {},
   "outputs": [
    {
     "data": {
      "text/plain": [
       "<AxesSubplot:xlabel='Algorithm'>"
      ]
     },
     "execution_count": 18,
     "metadata": {},
     "output_type": "execute_result"
    },
    {
     "data": {
      "image/png": "[encoded data removed]",
      "text/plain": [
       "<Figure size 720x432 with 1 Axes>"
      ]
     },
     "metadata": {
      "needs_background": "light"
     },
     "output_type": "display_data"
    }
   ],
   "source": [
    "performance_kperry.plot(x='Algorithm', y='MCC_scores', label='MCC_ scores for Techniques used', figsize = [10,6] )"
   ]
  },
  {
   "cell_type": "markdown",
   "id": "9c193f1c",
   "metadata": {},
   "source": [
    "## TUNING RESULT USING GRID SEARCH  "
   ]
  },
  {
   "cell_type": "code",
   "execution_count": 19,
   "id": "0b230419",
   "metadata": {},
   "outputs": [
    {
     "name": "stdout",
     "output_type": "stream",
     "text": [
      "-----------\n",
      "C = 100\n",
      "gamma = 0.01\n",
      "kernel = rbf\n"
     ]
    }
   ],
   "source": [
    "'''\n",
    "    Tuning the support vectors for Linear, Polynomial and Gaussian to give the optimal parameter\n",
    "'''\n",
    "from sklearn.pipeline import Pipeline\n",
    "from sklearn.model_selection import GridSearchCV\n",
    "param_grid = [\n",
    "    {\n",
    "        'C':[0.5,1,10,100,0.1,0.01],\n",
    "        'gamma':['scale',1, 0.1, 0.01, 0.001, 0.0001],\n",
    "        'kernel':['rbf'] # ['rbf','poly','linear']\n",
    "    }\n",
    "]\n",
    "optimal_params = GridSearchCV(\n",
    "    SVC(),\n",
    "    param_grid,\n",
    "    cv=10,\n",
    "    scoring='accuracy',\n",
    "    verbose=0\n",
    ")\n",
    "C,g,k = optimal_params.fit(X_train, y_train).best_params_.values()\n",
    "print(f\"-----------\")\n",
    "print(f\"C = {C}\")\n",
    "print(f\"gamma = {g}\")\n",
    "print(f\"kernel = {k}\")\n"
   ]
  },
  {
   "cell_type": "code",
   "execution_count": 20,
   "id": "6c590ec9",
   "metadata": {},
   "outputs": [
    {
     "name": "stdout",
     "output_type": "stream",
     "text": [
      "Fitting 10 folds for each of 100 candidates, totalling 1000 fits\n",
      "GaussianNB(var_smoothing=0.012328467394420659)\n"
     ]
    }
   ],
   "source": [
    "\n",
    "'''\n",
    "    Tuning the Naive Bayes method for Bernoulli, Multinomial and Gaussian to give the optimal parameter\n",
    "'''\n",
    "\n",
    "param_grid_nb = {\n",
    "        'var_smoothing': np.logspace(0, -9, num = 100)\n",
    "    }\n",
    "\n",
    "optimal_params = GridSearchCV(estimator = GaussianNB(),param_grid= param_grid_nb,\n",
    "    cv=10,\n",
    "    scoring='accuracy',\n",
    "    verbose=1\n",
    ") # [multinomialNB, GaussianNB, BernouliNB]\n",
    "optimal_params.fit(X_train, y_train)\n",
    "print(optimal_params.best_estimator_)"
   ]
  },
  {
   "cell_type": "code",
   "execution_count": 21,
   "id": "8a79b904",
   "metadata": {},
   "outputs": [
    {
     "name": "stdout",
     "output_type": "stream",
     "text": [
      "KNeighborsClassifier(n_neighbors=9)\n"
     ]
    }
   ],
   "source": [
    "\n",
    "'''\n",
    "    Tuning the Naive Bayes method for KNNeigbor\n",
    "'''\n",
    "\n",
    "param_grid_knn = {\n",
    "        'n_neighbors': [1,3,5,7,9]\n",
    "    }\n",
    "\n",
    "optimal_params = GridSearchCV(estimator = KNeighborsClassifier(),param_grid= param_grid_knn,\n",
    "    cv=10,\n",
    "    scoring='accuracy',\n",
    "    verbose=0\n",
    ") \n",
    "optimal_params.fit(X_train, y_train)\n",
    "print(optimal_params.best_estimator_)\n"
   ]
  },
  {
   "cell_type": "code",
   "execution_count": 22,
   "id": "d0dc6248",
   "metadata": {},
   "outputs": [
    {
     "name": "stdout",
     "output_type": "stream",
     "text": [
      "RandomForestClassifier(n_estimators=80)\n"
     ]
    }
   ],
   "source": [
    "'''\n",
    "    Tuning the RandomForest \n",
    "'''\n",
    "\n",
    "param_grid_rfc = {\n",
    "        'n_estimators': [20,40,60,80,100]\n",
    "    }\n",
    "\n",
    "optimal_params = GridSearchCV(estimator = RandomForestClassifier(),param_grid= param_grid_rfc,\n",
    "    cv=10,\n",
    "    scoring='accuracy',\n",
    "    verbose=0\n",
    ") \n",
    "optimal_params.fit(X_train, y_train)\n",
    "print(optimal_params.best_estimator_)\n",
    "\n"
   ]
  },
  {
   "cell_type": "code",
   "execution_count": 23,
   "id": "8c71421a",
   "metadata": {},
   "outputs": [
    {
     "name": "stdout",
     "output_type": "stream",
     "text": [
      "LogisticRegression(C=10)\n"
     ]
    }
   ],
   "source": [
    "'''\n",
    "    Tuning the RandomForest \n",
    "'''\n",
    "param_grid_lrc = [\n",
    "{\n",
    "        'C': [10, 15,20,30],\n",
    "     }\n",
    "\n",
    "]\n",
    "\n",
    "optimal_params = GridSearchCV(estimator = LogisticRegression(),param_grid= param_grid_lrc,\n",
    "    cv=10,\n",
    "    scoring='accuracy',\n",
    "    verbose=0\n",
    ") \n",
    "optimal_params.fit(X_train, y_train)\n",
    "print(optimal_params.best_estimator_)\n"
   ]
  },
  {
   "cell_type": "code",
   "execution_count": 24,
   "id": "4000b789",
   "metadata": {},
   "outputs": [
    {
     "name": "stdout",
     "output_type": "stream",
     "text": [
      "DecisionTreeClassifier()\n"
     ]
    }
   ],
   "source": [
    "'''\n",
    "    Tuning the Decision Tree (CART) \n",
    "'''\n",
    "param_grid_dtc = [\n",
    "{\n",
    "        'criterion': [\"gini\"],\n",
    "        'random_state':[None, 1,2,4,8,10]\n",
    "     }\n",
    "\n",
    "]\n",
    "\n",
    "optimal_params = GridSearchCV(estimator = DecisionTreeClassifier(),param_grid= param_grid_dtc,\n",
    "    cv= 10,\n",
    "    scoring ='accuracy',\n",
    "    verbose=0\n",
    ") \n",
    "optimal_params.fit(X_train, y_train)\n",
    "print(optimal_params.best_estimator_)"
   ]
  },
  {
   "cell_type": "markdown",
   "id": "16acb6f7",
   "metadata": {},
   "source": [
    "## OPTIMIZED MODEL(Performance)"
   ]
  },
  {
   "cell_type": "code",
   "execution_count": 25,
   "id": "322d9b8d",
   "metadata": {},
   "outputs": [
    {
     "name": "stdout",
     "output_type": "stream",
     "text": [
      "             Algorithm  Accuracy  Precision  F_scores  MCC_scores\n",
      "6         RandomForest  0.985714   1.000000  0.986301    0.971780\n",
      "5  LogisticsRegression  0.971429   1.000000  0.972222    0.944400\n",
      "4                 CART  0.971429   1.000000  0.972222    0.917792\n",
      "0           SVM_Linear  0.942857   1.000000  0.942857    0.891892\n",
      "2         SVM_Gaussian  0.942857   1.000000  0.942857    0.891892\n",
      "8        MultinomialNB  0.942857   0.945946  0.945946    0.885340\n",
      "9          BernoulliNB  0.814286   1.000000  0.786885    0.682155\n",
      "1       SVM_Polynomial  0.742857   1.000000  0.678571    0.576432\n",
      "7           GaussianNB  0.771429   0.783784  0.783784    0.541360\n",
      "3           KNNeighbor  0.628571   1.000000  0.458333    0.407780\n"
     ]
    },
    {
     "data": {
      "text/plain": [
       "<AxesSubplot:xlabel='Algorithm'>"
      ]
     },
     "execution_count": 25,
     "metadata": {},
     "output_type": "execute_result"
    },
    {
     "data": {
      "image/png": "[encoded data removed]",
      "text/plain": [
       "<Figure size 720x432 with 1 Axes>"
      ]
     },
     "metadata": {
      "needs_background": "light"
     },
     "output_type": "display_data"
    },
    {
     "data": {
      "image/png": "[encoded data removed]",
      "text/plain": [
       "<Figure size 720x432 with 1 Axes>"
      ]
     },
     "metadata": {
      "needs_background": "light"
     },
     "output_type": "display_data"
    },
    {
     "data": {
      "image/png": "[encoded data removed]",
      "text/plain": [
       "<Figure size 720x432 with 1 Axes>"
      ]
     },
     "metadata": {
      "needs_background": "light"
     },
     "output_type": "display_data"
    }
   ],
   "source": [
    "svc_Linear = SVC(kernel='linear', C=1, gamma = \"scale\")\n",
    "svc_Polynomial = SVC(kernel='poly', C= 1, gamma = \"scale\")\n",
    "svc_Gaussian = SVC(kernel='sigmoid',C = 10, gamma= 0.1)\n",
    "knc = KNeighborsClassifier(n_neighbors=9, algorithm= \"auto\")\n",
    "mnb = MultinomialNB()\n",
    "dtc = DecisionTreeClassifier(random_state=4)\n",
    "lrc = LogisticRegression(solver='liblinear', penalty='l1', C = 10)\n",
    "rfc = RandomForestClassifier(n_estimators=60, random_state=80)\n",
    "gnb = GaussianNB( var_smoothing=0.012328467394420659)\n",
    "bnb = BernoulliNB()\n",
    "\n",
    "clfs = {\n",
    "    'SVM_Linear' : svc_Linear,\n",
    "    'SVM_Polynomial' : svc_Polynomial,\n",
    "    'SVM_Gaussian' : svc_Gaussian,\n",
    "    'KNNeighbor' : knc, \n",
    "    'CART': dtc, \n",
    "    'LogisticsRegression': lrc, \n",
    "    'RandomForest': rfc, \n",
    "    'GaussianNB': gnb,\n",
    "    'MultinomialNB': mnb,\n",
    "    'BernoulliNB':bnb\n",
    "}\n",
    "\n",
    "def train_classifier(clf,X_train,y_train,X_test,y_test):\n",
    "    clf.fit(X_train,y_train)\n",
    "    y_pred = clf.predict(X_test)\n",
    "    accuracy = accuracy_score(y_test,y_pred)\n",
    "    precision = precision_score(y_test,y_pred)\n",
    "    f_score = f1_score(y_test, y_pred)\n",
    "    con_matrices =confusion_matrix(y_test,y_pred)\n",
    "    return accuracy,precision,f_score,con_matrices\n",
    "\n",
    "'''\n",
    "    Arranging the performance based on the Matthew correlation coefficient in descending order for each Algorithm\n",
    "'''\n",
    "performance_kperry = pd.DataFrame({'Algorithm':clfs.keys(),'Accuracy':accuracy_scores,'Precision':precision_scores, 'F_scores':f1_scores, 'MCC_scores': mcc_scores}).sort_values('MCC_scores', ascending=False)\n",
    "print(performance_kperry)\n",
    "\n",
    "performance_kperry.plot(x='Algorithm', y='MCC_scores', label='MCC_ scores for Techniques ', figsize = [10,6] )\n",
    "\n",
    "performance_kperry.plot(x='Algorithm', y='Accuracy', label='Accuracy for Techniques ', figsize = [10,6] )\n",
    "\n",
    "performance_kperry.plot(x='Algorithm', y='Precision', label='Precision for Techniques ', figsize = [10,6] )"
   ]
  },
  {
   "cell_type": "code",
   "execution_count": 26,
   "id": "da58cfc4",
   "metadata": {},
   "outputs": [
    {
     "data": {
      "text/plain": [
       "<AxesSubplot:>"
      ]
     },
     "execution_count": 26,
     "metadata": {},
     "output_type": "execute_result"
    },
    {
     "data": {
      "image/png": "[encoded data removed]",
      "text/plain": [
       "<Figure size 504x648 with 2 Axes>"
      ]
     },
     "metadata": {
      "needs_background": "light"
     },
     "output_type": "display_data"
    }
   ],
   "source": [
    "import seaborn as sns\n",
    "'''\n",
    "    A Heatmap confusion matrix for the predicted outcome for Linear support Vector Algorithms\n",
    "'''\n",
    "svc_Linear.fit(X_train,y_train)\n",
    "y_pred_svc = svc_Linear.predict(X_test)\n",
    "cm = confusion_matrix(y_test,y_pred_svc)\n",
    "plt.figure(figsize=(7,9) )\n",
    "sns.heatmap(cm/np.sum(cm), annot=True, fmt='.2%', cmap='Blues')\n"
   ]
  },
  {
   "cell_type": "code",
   "execution_count": 27,
   "id": "ed151cbb",
   "metadata": {},
   "outputs": [
    {
     "data": {
      "text/plain": [
       "<AxesSubplot:>"
      ]
     },
     "execution_count": 27,
     "metadata": {},
     "output_type": "execute_result"
    },
    {
     "data": {
      "image/png": "[encoded data removed]",
      "text/plain": [
       "<Figure size 504x648 with 2 Axes>"
      ]
     },
     "metadata": {
      "needs_background": "light"
     },
     "output_type": "display_data"
    }
   ],
   "source": [
    "'''\n",
    "    A Heatmap confusion matrix for the predicted outcome for Linear support Vector Algorithms\n",
    "'''\n",
    "rfc.fit(X_train,y_train)\n",
    "y_pred_rfc = rfc.predict(X_test)\n",
    "cm = confusion_matrix(y_test,y_pred_rfc)\n",
    "plt.figure(figsize=(7,9))\n",
    "sns.heatmap(cm/np.sum(cm), annot=True, fmt='.2%', cmap='Blues')\n"
   ]
  },
  {
   "cell_type": "code",
   "execution_count": null,
   "id": "73c136f7",
   "metadata": {},
   "outputs": [],
   "source": []
  }
 ],
 "metadata": {
  "kernelspec": {
   "display_name": "Python 3 (ipykernel)",
   "language": "python",
   "name": "python3"
  },
  "language_info": {
   "codemirror_mode": {
    "name": "ipython",
    "version": 3
   },
   "file_extension": ".py",
   "mimetype": "text/x-python",
   "name": "python",
   "nbconvert_exporter": "python",
   "pygments_lexer": "ipython3",
   "version": "3.8.8"
  }
 },
 "nbformat": 4,
 "nbformat_minor": 5
}

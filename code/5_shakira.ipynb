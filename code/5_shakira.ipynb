{
 "cells": [
  {
   "cell_type": "code",
   "execution_count": 2,
   "id": "3a518843",
   "metadata": {},
   "outputs": [],
   "source": [
    "import matplotlib.pyplot as plt\n",
    "import pandas as pd\n",
    "import numpy as np"
   ]
  },
  {
   "cell_type": "code",
   "execution_count": 3,
   "id": "8b160cee",
   "metadata": {},
   "outputs": [
    {
     "data": {
      "text/html": [
       "<div>\n",
       "<style scoped>\n",
       "    .dataframe tbody tr th:only-of-type {\n",
       "        vertical-align: middle;\n",
       "    }\n",
       "\n",
       "    .dataframe tbody tr th {\n",
       "        vertical-align: top;\n",
       "    }\n",
       "\n",
       "    .dataframe thead th {\n",
       "        text-align: right;\n",
       "    }\n",
       "</style>\n",
       "<table border=\"1\" class=\"dataframe\">\n",
       "  <thead>\n",
       "    <tr style=\"text-align: right;\">\n",
       "      <th></th>\n",
       "      <th>COMMENT_ID</th>\n",
       "      <th>AUTHOR</th>\n",
       "      <th>DATE</th>\n",
       "      <th>CONTENT</th>\n",
       "      <th>CLASS</th>\n",
       "    </tr>\n",
       "  </thead>\n",
       "  <tbody>\n",
       "    <tr>\n",
       "      <th>0</th>\n",
       "      <td>z13lgffb5w3ddx1ul22qy1wxspy5cpkz504</td>\n",
       "      <td>dharma pal</td>\n",
       "      <td>2015-05-29T02:30:18.971000</td>\n",
       "      <td>Nice song﻿</td>\n",
       "      <td>0</td>\n",
       "    </tr>\n",
       "    <tr>\n",
       "      <th>1</th>\n",
       "      <td>z123dbgb0mqjfxbtz22ucjc5jvzcv3ykj</td>\n",
       "      <td>Tiza Arellano</td>\n",
       "      <td>2015-05-29T00:14:48.748000</td>\n",
       "      <td>I love song ﻿</td>\n",
       "      <td>0</td>\n",
       "    </tr>\n",
       "    <tr>\n",
       "      <th>2</th>\n",
       "      <td>z12quxxp2vutflkxv04cihggzt2azl34pms0k</td>\n",
       "      <td>Prìñçeśś Âliś Łøvê Dømíñø Mâđiś™ ﻿</td>\n",
       "      <td>2015-05-28T21:00:08.607000</td>\n",
       "      <td>I love song ﻿</td>\n",
       "      <td>0</td>\n",
       "    </tr>\n",
       "    <tr>\n",
       "      <th>3</th>\n",
       "      <td>z12icv3ysqvlwth2c23eddlykyqut5z1h</td>\n",
       "      <td>Eric Gonzalez</td>\n",
       "      <td>2015-05-28T20:47:12.193000</td>\n",
       "      <td>860,000,000 lets make it first female to reach...</td>\n",
       "      <td>0</td>\n",
       "    </tr>\n",
       "    <tr>\n",
       "      <th>4</th>\n",
       "      <td>z133stly3kete3tly22petvwdpmghrlli</td>\n",
       "      <td>Analena López</td>\n",
       "      <td>2015-05-28T17:08:29.827000</td>\n",
       "      <td>shakira is best for worldcup﻿</td>\n",
       "      <td>0</td>\n",
       "    </tr>\n",
       "    <tr>\n",
       "      <th>...</th>\n",
       "      <td>...</td>\n",
       "      <td>...</td>\n",
       "      <td>...</td>\n",
       "      <td>...</td>\n",
       "      <td>...</td>\n",
       "    </tr>\n",
       "    <tr>\n",
       "      <th>365</th>\n",
       "      <td>_2viQ_Qnc6-bMSjqyL1NKj57ROicCSJV5SwTrw-RFFA</td>\n",
       "      <td>Katie Mettam</td>\n",
       "      <td>2013-07-13T13:27:39.441000</td>\n",
       "      <td>I love this song because we sing it at Camp al...</td>\n",
       "      <td>0</td>\n",
       "    </tr>\n",
       "    <tr>\n",
       "      <th>366</th>\n",
       "      <td>_2viQ_Qnc6-pY-1yR6K2FhmC5i48-WuNx5CumlHLDAI</td>\n",
       "      <td>Sabina Pearson-Smith</td>\n",
       "      <td>2013-07-13T13:14:30.021000</td>\n",
       "      <td>I love this song for two reasons: 1.it is abou...</td>\n",
       "      <td>0</td>\n",
       "    </tr>\n",
       "    <tr>\n",
       "      <th>367</th>\n",
       "      <td>_2viQ_Qnc6_k_n_Bse9zVhJP8tJReZpo8uM2uZfnzDs</td>\n",
       "      <td>jeffrey jules</td>\n",
       "      <td>2013-07-13T12:09:31.188000</td>\n",
       "      <td>wow</td>\n",
       "      <td>0</td>\n",
       "    </tr>\n",
       "    <tr>\n",
       "      <th>368</th>\n",
       "      <td>_2viQ_Qnc6_yBt8UGMWyg3vh0PulTqcqyQtdE7d4Fl0</td>\n",
       "      <td>Aishlin Maciel</td>\n",
       "      <td>2013-07-13T11:17:52.308000</td>\n",
       "      <td>Shakira u are so wiredo</td>\n",
       "      <td>0</td>\n",
       "    </tr>\n",
       "    <tr>\n",
       "      <th>369</th>\n",
       "      <td>_2viQ_Qnc685RPw1aSa1tfrIuHXRvAQ2rPT9R06KTqA</td>\n",
       "      <td>Latin Bosch</td>\n",
       "      <td>2013-07-12T22:33:27.916000</td>\n",
       "      <td>Shakira is the best dancer</td>\n",
       "      <td>0</td>\n",
       "    </tr>\n",
       "  </tbody>\n",
       "</table>\n",
       "<p>370 rows × 5 columns</p>\n",
       "</div>"
      ],
      "text/plain": [
       "                                      COMMENT_ID  \\\n",
       "0            z13lgffb5w3ddx1ul22qy1wxspy5cpkz504   \n",
       "1              z123dbgb0mqjfxbtz22ucjc5jvzcv3ykj   \n",
       "2          z12quxxp2vutflkxv04cihggzt2azl34pms0k   \n",
       "3              z12icv3ysqvlwth2c23eddlykyqut5z1h   \n",
       "4              z133stly3kete3tly22petvwdpmghrlli   \n",
       "..                                           ...   \n",
       "365  _2viQ_Qnc6-bMSjqyL1NKj57ROicCSJV5SwTrw-RFFA   \n",
       "366  _2viQ_Qnc6-pY-1yR6K2FhmC5i48-WuNx5CumlHLDAI   \n",
       "367  _2viQ_Qnc6_k_n_Bse9zVhJP8tJReZpo8uM2uZfnzDs   \n",
       "368  _2viQ_Qnc6_yBt8UGMWyg3vh0PulTqcqyQtdE7d4Fl0   \n",
       "369  _2viQ_Qnc685RPw1aSa1tfrIuHXRvAQ2rPT9R06KTqA   \n",
       "\n",
       "                                 AUTHOR                        DATE  \\\n",
       "0                            dharma pal  2015-05-29T02:30:18.971000   \n",
       "1                         Tiza Arellano  2015-05-29T00:14:48.748000   \n",
       "2    Prìñçeśś Âliś Łøvê Dømíñø Mâđiś™ ﻿  2015-05-28T21:00:08.607000   \n",
       "3                         Eric Gonzalez  2015-05-28T20:47:12.193000   \n",
       "4                         Analena López  2015-05-28T17:08:29.827000   \n",
       "..                                  ...                         ...   \n",
       "365                        Katie Mettam  2013-07-13T13:27:39.441000   \n",
       "366                Sabina Pearson-Smith  2013-07-13T13:14:30.021000   \n",
       "367                       jeffrey jules  2013-07-13T12:09:31.188000   \n",
       "368                      Aishlin Maciel  2013-07-13T11:17:52.308000   \n",
       "369                         Latin Bosch  2013-07-12T22:33:27.916000   \n",
       "\n",
       "                                               CONTENT  CLASS  \n",
       "0                                           Nice song﻿      0  \n",
       "1                                        I love song ﻿      0  \n",
       "2                                        I love song ﻿      0  \n",
       "3    860,000,000 lets make it first female to reach...      0  \n",
       "4                        shakira is best for worldcup﻿      0  \n",
       "..                                                 ...    ...  \n",
       "365  I love this song because we sing it at Camp al...      0  \n",
       "366  I love this song for two reasons: 1.it is abou...      0  \n",
       "367                                                wow      0  \n",
       "368                            Shakira u are so wiredo      0  \n",
       "369                         Shakira is the best dancer      0  \n",
       "\n",
       "[370 rows x 5 columns]"
      ]
     },
     "execution_count": 3,
     "metadata": {},
     "output_type": "execute_result"
    }
   ],
   "source": [
    "shakira = pd.read_csv(\"Youtube05-Shakira.csv\")  \n",
    "shakira"
   ]
  },
  {
   "cell_type": "code",
   "execution_count": 4,
   "id": "ea7c1c9c",
   "metadata": {},
   "outputs": [
    {
     "data": {
      "text/html": [
       "<div>\n",
       "<style scoped>\n",
       "    .dataframe tbody tr th:only-of-type {\n",
       "        vertical-align: middle;\n",
       "    }\n",
       "\n",
       "    .dataframe tbody tr th {\n",
       "        vertical-align: top;\n",
       "    }\n",
       "\n",
       "    .dataframe thead th {\n",
       "        text-align: right;\n",
       "    }\n",
       "</style>\n",
       "<table border=\"1\" class=\"dataframe\">\n",
       "  <thead>\n",
       "    <tr style=\"text-align: right;\">\n",
       "      <th></th>\n",
       "      <th>CONTENT</th>\n",
       "      <th>CLASS</th>\n",
       "    </tr>\n",
       "  </thead>\n",
       "  <tbody>\n",
       "    <tr>\n",
       "      <th>0</th>\n",
       "      <td>Nice song﻿</td>\n",
       "      <td>0</td>\n",
       "    </tr>\n",
       "    <tr>\n",
       "      <th>1</th>\n",
       "      <td>I love song ﻿</td>\n",
       "      <td>0</td>\n",
       "    </tr>\n",
       "    <tr>\n",
       "      <th>2</th>\n",
       "      <td>I love song ﻿</td>\n",
       "      <td>0</td>\n",
       "    </tr>\n",
       "    <tr>\n",
       "      <th>3</th>\n",
       "      <td>860,000,000 lets make it first female to reach...</td>\n",
       "      <td>0</td>\n",
       "    </tr>\n",
       "    <tr>\n",
       "      <th>4</th>\n",
       "      <td>shakira is best for worldcup﻿</td>\n",
       "      <td>0</td>\n",
       "    </tr>\n",
       "    <tr>\n",
       "      <th>...</th>\n",
       "      <td>...</td>\n",
       "      <td>...</td>\n",
       "    </tr>\n",
       "    <tr>\n",
       "      <th>365</th>\n",
       "      <td>I love this song because we sing it at Camp al...</td>\n",
       "      <td>0</td>\n",
       "    </tr>\n",
       "    <tr>\n",
       "      <th>366</th>\n",
       "      <td>I love this song for two reasons: 1.it is abou...</td>\n",
       "      <td>0</td>\n",
       "    </tr>\n",
       "    <tr>\n",
       "      <th>367</th>\n",
       "      <td>wow</td>\n",
       "      <td>0</td>\n",
       "    </tr>\n",
       "    <tr>\n",
       "      <th>368</th>\n",
       "      <td>Shakira u are so wiredo</td>\n",
       "      <td>0</td>\n",
       "    </tr>\n",
       "    <tr>\n",
       "      <th>369</th>\n",
       "      <td>Shakira is the best dancer</td>\n",
       "      <td>0</td>\n",
       "    </tr>\n",
       "  </tbody>\n",
       "</table>\n",
       "<p>370 rows × 2 columns</p>\n",
       "</div>"
      ],
      "text/plain": [
       "                                               CONTENT  CLASS\n",
       "0                                           Nice song﻿      0\n",
       "1                                        I love song ﻿      0\n",
       "2                                        I love song ﻿      0\n",
       "3    860,000,000 lets make it first female to reach...      0\n",
       "4                        shakira is best for worldcup﻿      0\n",
       "..                                                 ...    ...\n",
       "365  I love this song because we sing it at Camp al...      0\n",
       "366  I love this song for two reasons: 1.it is abou...      0\n",
       "367                                                wow      0\n",
       "368                            Shakira u are so wiredo      0\n",
       "369                         Shakira is the best dancer      0\n",
       "\n",
       "[370 rows x 2 columns]"
      ]
     },
     "execution_count": 4,
     "metadata": {},
     "output_type": "execute_result"
    }
   ],
   "source": [
    "shakira.drop(columns=['COMMENT_ID', 'AUTHOR','DATE'], inplace = True)\n",
    "shakira   #spam = 1, ham(legimimate) = 0"
   ]
  },
  {
   "cell_type": "code",
   "execution_count": 5,
   "id": "46f80917",
   "metadata": {},
   "outputs": [
    {
     "data": {
      "text/plain": [
       "CONTENT    False\n",
       "CLASS      False\n",
       "dtype: bool"
      ]
     },
     "execution_count": 5,
     "metadata": {},
     "output_type": "execute_result"
    }
   ],
   "source": [
    "shakira.isna().any()"
   ]
  },
  {
   "cell_type": "code",
   "execution_count": 6,
   "id": "76ce8465",
   "metadata": {},
   "outputs": [
    {
     "data": {
      "text/plain": [
       "0"
      ]
     },
     "execution_count": 6,
     "metadata": {},
     "output_type": "execute_result"
    }
   ],
   "source": [
    "shakira.drop_duplicates(inplace = True)\n",
    "shakira.duplicated().sum()"
   ]
  },
  {
   "cell_type": "code",
   "execution_count": 7,
   "id": "0d48b433",
   "metadata": {},
   "outputs": [
    {
     "data": {
      "text/plain": [
       "CONTENT    150\n",
       "CLASS      150\n",
       "dtype: int64"
      ]
     },
     "execution_count": 7,
     "metadata": {},
     "output_type": "execute_result"
    }
   ],
   "source": [
    "shakira[shakira['CLASS']== 1].count()"
   ]
  },
  {
   "cell_type": "code",
   "execution_count": 8,
   "id": "731f0006",
   "metadata": {},
   "outputs": [
    {
     "data": {
      "text/plain": [
       "CONTENT    181\n",
       "CLASS      181\n",
       "dtype: int64"
      ]
     },
     "execution_count": 8,
     "metadata": {},
     "output_type": "execute_result"
    }
   ],
   "source": [
    "# ham\n",
    "shakira[shakira['CLASS'] == 0].count()"
   ]
  },
  {
   "cell_type": "markdown",
   "id": "3dc321c5",
   "metadata": {},
   "source": [
    "## Data Preprocessing"
   ]
  },
  {
   "cell_type": "code",
   "execution_count": 9,
   "id": "f5d47b80",
   "metadata": {},
   "outputs": [],
   "source": [
    "import nltk\n",
    "import string\n",
    "from nltk.corpus import stopwords\n",
    "from nltk.stem.wordnet import WordNetLemmatizer\n",
    "from nltk.tokenize import word_tokenize\n",
    "from nltk.stem.porter import PorterStemmer\n",
    "ps = PorterStemmer()"
   ]
  },
  {
   "cell_type": "code",
   "execution_count": 10,
   "id": "5852c054",
   "metadata": {},
   "outputs": [],
   "source": [
    "'''\n",
    "Create a function that\n",
    "- changes all the words to lower case\n",
    "- tokenize the words\n",
    "- remove special characters\n",
    "- remove stop words and punctuation\n",
    "- stemming\n",
    "\n",
    "'''\n",
    "\n",
    "def text_processing(CONTENT):\n",
    "    text = CONTENT.lower()\n",
    "    text = nltk.word_tokenize(text)\n",
    "\n",
    "    y = []\n",
    "    for i in text:\n",
    "        if i.isalnum():\n",
    "            y.append(i)\n",
    "    text = y[:]\n",
    "    y.clear()\n",
    "    \n",
    "    for j in text:\n",
    "        if j not in stopwords.words('english') and i not in string.punctuation:\n",
    "            y.append(j)\n",
    "    text = y[:]\n",
    "    y.clear()\n",
    "\n",
    "    for w in text:\n",
    "     #   y.append(ps.stem(w))     incase for stemming\n",
    "        y.append(w)\n",
    "    return \" \".join(y)"
   ]
  },
  {
   "cell_type": "code",
   "execution_count": 11,
   "id": "8c466bcd",
   "metadata": {},
   "outputs": [
    {
     "data": {
      "text/html": [
       "<div>\n",
       "<style scoped>\n",
       "    .dataframe tbody tr th:only-of-type {\n",
       "        vertical-align: middle;\n",
       "    }\n",
       "\n",
       "    .dataframe tbody tr th {\n",
       "        vertical-align: top;\n",
       "    }\n",
       "\n",
       "    .dataframe thead th {\n",
       "        text-align: right;\n",
       "    }\n",
       "</style>\n",
       "<table border=\"1\" class=\"dataframe\">\n",
       "  <thead>\n",
       "    <tr style=\"text-align: right;\">\n",
       "      <th></th>\n",
       "      <th>CONTENT</th>\n",
       "      <th>CLASS</th>\n",
       "      <th>TEXT_PROCESSED</th>\n",
       "    </tr>\n",
       "  </thead>\n",
       "  <tbody>\n",
       "    <tr>\n",
       "      <th>0</th>\n",
       "      <td>Nice song﻿</td>\n",
       "      <td>0</td>\n",
       "      <td>nice</td>\n",
       "    </tr>\n",
       "    <tr>\n",
       "      <th>1</th>\n",
       "      <td>I love song ﻿</td>\n",
       "      <td>0</td>\n",
       "      <td>love song</td>\n",
       "    </tr>\n",
       "    <tr>\n",
       "      <th>3</th>\n",
       "      <td>860,000,000 lets make it first female to reach...</td>\n",
       "      <td>0</td>\n",
       "      <td>lets make first female reach one billion share...</td>\n",
       "    </tr>\n",
       "    <tr>\n",
       "      <th>4</th>\n",
       "      <td>shakira is best for worldcup﻿</td>\n",
       "      <td>0</td>\n",
       "      <td>shakira best</td>\n",
       "    </tr>\n",
       "    <tr>\n",
       "      <th>5</th>\n",
       "      <td>The best world cup song ever!!!!﻿</td>\n",
       "      <td>0</td>\n",
       "      <td>best world cup song ever</td>\n",
       "    </tr>\n",
       "    <tr>\n",
       "      <th>6</th>\n",
       "      <td>I love﻿</td>\n",
       "      <td>0</td>\n",
       "      <td></td>\n",
       "    </tr>\n",
       "    <tr>\n",
       "      <th>7</th>\n",
       "      <td>SEE SOME MORE SONG OPEN GOOGLE AND TYPE Shakir...</td>\n",
       "      <td>1</td>\n",
       "      <td>see song open google type shakira</td>\n",
       "    </tr>\n",
       "    <tr>\n",
       "      <th>8</th>\n",
       "      <td>Awesome ﻿</td>\n",
       "      <td>0</td>\n",
       "      <td>awesome</td>\n",
       "    </tr>\n",
       "    <tr>\n",
       "      <th>9</th>\n",
       "      <td>I like shakira..﻿</td>\n",
       "      <td>0</td>\n",
       "      <td>like shakira</td>\n",
       "    </tr>\n",
       "    <tr>\n",
       "      <th>10</th>\n",
       "      <td>Shakira - Waka Waka &lt;br /&gt;LOVE THIS SONG!!!!!!...</td>\n",
       "      <td>0</td>\n",
       "      <td>shakira waka waka br love song</td>\n",
       "    </tr>\n",
       "    <tr>\n",
       "      <th>11</th>\n",
       "      <td>Why so many disliked??????!!!!!!😯﻿</td>\n",
       "      <td>0</td>\n",
       "      <td>many disliked</td>\n",
       "    </tr>\n",
       "    <tr>\n",
       "      <th>12</th>\n",
       "      <td>I don&amp;#39;t think this song will ever get old ﻿</td>\n",
       "      <td>0</td>\n",
       "      <td>39 think song ever get old</td>\n",
       "    </tr>\n",
       "    <tr>\n",
       "      <th>13</th>\n",
       "      <td>Love song﻿</td>\n",
       "      <td>0</td>\n",
       "      <td>love</td>\n",
       "    </tr>\n",
       "    <tr>\n",
       "      <th>14</th>\n",
       "      <td>wery good﻿</td>\n",
       "      <td>0</td>\n",
       "      <td>wery</td>\n",
       "    </tr>\n",
       "    <tr>\n",
       "      <th>15</th>\n",
       "      <td>Every time I hear this song, I think about Ini...</td>\n",
       "      <td>0</td>\n",
       "      <td>every time hear song think iniesta 39 goal net...</td>\n",
       "    </tr>\n",
       "    <tr>\n",
       "      <th>16</th>\n",
       "      <td>Whose watching this in 2015. If so hi-5﻿</td>\n",
       "      <td>0</td>\n",
       "      <td>whose watching</td>\n",
       "    </tr>\n",
       "    <tr>\n",
       "      <th>17</th>\n",
       "      <td>I love this song so much &amp;lt;3&lt;br /&gt;Keep em&amp;#3...</td>\n",
       "      <td>0</td>\n",
       "      <td>love song much lt 3 br keep em 39 coming</td>\n",
       "    </tr>\n",
       "    <tr>\n",
       "      <th>18</th>\n",
       "      <td>i love this song thumsb up to you﻿</td>\n",
       "      <td>0</td>\n",
       "      <td>love song thumsb</td>\n",
       "    </tr>\n",
       "    <tr>\n",
       "      <th>19</th>\n",
       "      <td>Waka best one﻿</td>\n",
       "      <td>0</td>\n",
       "      <td>waka best</td>\n",
       "    </tr>\n",
       "    <tr>\n",
       "      <th>20</th>\n",
       "      <td>5 years later i still love this song &lt;br /&gt;~Ax...</td>\n",
       "      <td>0</td>\n",
       "      <td>5 years later still love song br</td>\n",
       "    </tr>\n",
       "  </tbody>\n",
       "</table>\n",
       "</div>"
      ],
      "text/plain": [
       "                                              CONTENT  CLASS  \\\n",
       "0                                          Nice song﻿      0   \n",
       "1                                       I love song ﻿      0   \n",
       "3   860,000,000 lets make it first female to reach...      0   \n",
       "4                       shakira is best for worldcup﻿      0   \n",
       "5                   The best world cup song ever!!!!﻿      0   \n",
       "6                                             I love﻿      0   \n",
       "7   SEE SOME MORE SONG OPEN GOOGLE AND TYPE Shakir...      1   \n",
       "8                                           Awesome ﻿      0   \n",
       "9                                   I like shakira..﻿      0   \n",
       "10  Shakira - Waka Waka <br />LOVE THIS SONG!!!!!!...      0   \n",
       "11                 Why so many disliked??????!!!!!!😯﻿      0   \n",
       "12    I don&#39;t think this song will ever get old ﻿      0   \n",
       "13                                         Love song﻿      0   \n",
       "14                                         wery good﻿      0   \n",
       "15  Every time I hear this song, I think about Ini...      0   \n",
       "16           Whose watching this in 2015. If so hi-5﻿      0   \n",
       "17  I love this song so much &lt;3<br />Keep em&#3...      0   \n",
       "18                 i love this song thumsb up to you﻿      0   \n",
       "19                                     Waka best one﻿      0   \n",
       "20  5 years later i still love this song <br />~Ax...      0   \n",
       "\n",
       "                                       TEXT_PROCESSED  \n",
       "0                                                nice  \n",
       "1                                           love song  \n",
       "3   lets make first female reach one billion share...  \n",
       "4                                        shakira best  \n",
       "5                            best world cup song ever  \n",
       "6                                                      \n",
       "7                   see song open google type shakira  \n",
       "8                                             awesome  \n",
       "9                                        like shakira  \n",
       "10                     shakira waka waka br love song  \n",
       "11                                      many disliked  \n",
       "12                         39 think song ever get old  \n",
       "13                                               love  \n",
       "14                                               wery  \n",
       "15  every time hear song think iniesta 39 goal net...  \n",
       "16                                     whose watching  \n",
       "17           love song much lt 3 br keep em 39 coming  \n",
       "18                                   love song thumsb  \n",
       "19                                          waka best  \n",
       "20                   5 years later still love song br  "
      ]
     },
     "execution_count": 11,
     "metadata": {},
     "output_type": "execute_result"
    }
   ],
   "source": [
    "#Adding a new column for the processed text from the content column\n",
    "shakira['TEXT_PROCESSED'] = shakira['CONTENT'].apply(text_processing)\n",
    "shakira.head(20)"
   ]
  },
  {
   "cell_type": "markdown",
   "id": "a08ca87d",
   "metadata": {},
   "source": [
    "## Model Building\n",
    "Algorithm used are\n",
    "- Support Vector Classification(Linear, Polynomial, Gaussian)\n",
    "- The Naive Bayes Method(Multinomial, Bernouli, Gaussian)\n",
    "- Random Forest\n",
    "- Decision Tree(CART)\n",
    "- KNNeighbor\n",
    "- Logistics Regression"
   ]
  },
  {
   "cell_type": "code",
   "execution_count": 12,
   "id": "d164d424",
   "metadata": {},
   "outputs": [
    {
     "data": {
      "text/plain": [
       "(331, 837)"
      ]
     },
     "execution_count": 12,
     "metadata": {},
     "output_type": "execute_result"
    }
   ],
   "source": [
    "from sklearn.feature_extraction.text import CountVectorizer, TfidfVectorizer\n",
    "tfidf = TfidfVectorizer(max_features = 3000 )\n",
    "X = tfidf.fit_transform(shakira['TEXT_PROCESSED']).toarray()\n",
    "y = shakira['CLASS'].values\n",
    "#X.shape\n",
    "#X = CountVectorizer(analyzer=text_processing).fit_transform(psy['CONTENT'])\n",
    "#bag_of_words.shape\n",
    "X.shape\n"
   ]
  },
  {
   "cell_type": "code",
   "execution_count": 13,
   "id": "772e9a22",
   "metadata": {},
   "outputs": [],
   "source": [
    "'''\n",
    "splitting the data into training and testing set \n",
    "importing the necessary library for the Supervised Techniques and checking the accuracy/validity of the model\n",
    "'''\n",
    "from sklearn.model_selection import train_test_split\n",
    "X_train,X_test,y_train,y_test = train_test_split(X,y,test_size=0.2,random_state= 0)\n",
    "\n",
    "from sklearn.linear_model import LogisticRegression\n",
    "from sklearn.svm import SVC\n",
    "from sklearn.tree import DecisionTreeClassifier\n",
    "from sklearn.neighbors import KNeighborsClassifier\n",
    "from sklearn.ensemble import RandomForestClassifier\n",
    "from sklearn.naive_bayes import GaussianNB,MultinomialNB,BernoulliNB\n",
    "from sklearn.metrics import accuracy_score,confusion_matrix,precision_score,f1_score, matthews_corrcoef"
   ]
  },
  {
   "cell_type": "code",
   "execution_count": 14,
   "id": "20fb1f15",
   "metadata": {},
   "outputs": [],
   "source": [
    "svc_Linear = SVC()\n",
    "svc_Polynomial = SVC(kernel='poly')\n",
    "svc_Gaussian = SVC(kernel='rbf')\n",
    "knc = KNeighborsClassifier(n_neighbors=3)\n",
    "dtc = DecisionTreeClassifier()\n",
    "lrc = LogisticRegression(solver='liblinear')\n",
    "rfc = RandomForestClassifier(n_estimators=80)\n",
    "gnb = GaussianNB()\n",
    "mnb = MultinomialNB()\n",
    "bnb = BernoulliNB()"
   ]
  },
  {
   "cell_type": "code",
   "execution_count": 15,
   "id": "3bfe4d19",
   "metadata": {},
   "outputs": [],
   "source": [
    "clfs = {\n",
    "    'SVM_Linear' : svc_Linear,\n",
    "    'SVM_Polynomial' : svc_Polynomial,\n",
    "    'SVM_Gaussian' : svc_Gaussian,\n",
    "    'KNNeighbor' : knc, \n",
    "    'CART': dtc, \n",
    "    'LogisticsRegression': lrc, \n",
    "    'RandomForest': rfc, \n",
    "    'GaussianNB': gnb,\n",
    "    'MultinomialNB': mnb,\n",
    "    'BernoulliNB':bnb\n",
    "}"
   ]
  },
  {
   "cell_type": "code",
   "execution_count": 16,
   "id": "c2815772",
   "metadata": {},
   "outputs": [],
   "source": [
    "def train_classifier(clf,X_train,y_train,X_test,y_test):\n",
    "    clf.fit(X_train,y_train)\n",
    "    y_pred = clf.predict(X_test)\n",
    "    accuracy = accuracy_score(y_test,y_pred)\n",
    "    precision = precision_score(y_test,y_pred)\n",
    "    f_score = f1_score(y_test, y_pred)\n",
    "    con_matrices =confusion_matrix(y_test,y_pred)\n",
    "    return accuracy,precision,f_score,con_matrices"
   ]
  },
  {
   "cell_type": "markdown",
   "id": "3decb08d",
   "metadata": {},
   "source": [
    "## Model Performance(UnOptimized)\n",
    "- Matthew correlation Coefficient\n",
    "- Accuracy\n",
    "- Precision\n",
    "- F_score\n",
    "- Confusion Matrix"
   ]
  },
  {
   "cell_type": "code",
   "execution_count": 17,
   "id": "f65583ef",
   "metadata": {},
   "outputs": [
    {
     "name": "stdout",
     "output_type": "stream",
     "text": [
      "==================\n",
      "SVM_Linear\n",
      "0.6412519283220873\n",
      "==================\n",
      "SVM_Polynomial\n",
      "0.5410894360249309\n",
      "==================\n",
      "SVM_Gaussian\n",
      "0.6412519283220873\n",
      "==================\n",
      "KNNeighbor\n",
      "0.4948973202943931\n",
      "==================\n",
      "CART\n",
      "0.6648943514093886\n",
      "==================\n",
      "LogisticsRegression\n",
      "0.6475860093678135\n",
      "==================\n",
      "RandomForest\n",
      "0.6209677419354839\n",
      "==================\n",
      "GaussianNB\n",
      "0.4985188590435954\n",
      "==================\n",
      "MultinomialNB\n",
      "0.5033611367771605\n",
      "==================\n",
      "BernoulliNB\n",
      "0.3968016273195801\n",
      "--------------------------------\n",
      "SVM_Linear\n",
      "Accuracy  0.8208955223880597\n",
      "Precision -  0.8518518518518519\n",
      "f1_scores 0.7931034482758621\n",
      "Confusion Matrix\n",
      "  [[32  4]\n",
      " [ 8 23]]\n",
      "--------------------------------\n",
      "--------------------------------\n",
      "SVM_Polynomial\n",
      "Accuracy  0.7164179104477612\n",
      "Precision -  0.62\n",
      "f1_scores 0.7654320987654321\n",
      "Confusion Matrix\n",
      "  [[17 19]\n",
      " [ 0 31]]\n",
      "--------------------------------\n",
      "--------------------------------\n",
      "SVM_Gaussian\n",
      "Accuracy  0.8208955223880597\n",
      "Precision -  0.8518518518518519\n",
      "f1_scores 0.7931034482758621\n",
      "Confusion Matrix\n",
      "  [[32  4]\n",
      " [ 8 23]]\n",
      "--------------------------------\n",
      "--------------------------------\n",
      "KNNeighbor\n",
      "Accuracy  0.7014925373134329\n",
      "Precision -  0.6122448979591837\n",
      "f1_scores 0.75\n",
      "Confusion Matrix\n",
      "  [[17 19]\n",
      " [ 1 30]]\n",
      "--------------------------------\n",
      "--------------------------------\n",
      "CART\n",
      "Accuracy  0.7910447761194029\n",
      "Precision -  0.7073170731707317\n",
      "f1_scores 0.8055555555555556\n",
      "Confusion Matrix\n",
      "  [[24 12]\n",
      " [ 2 29]]\n",
      "--------------------------------\n",
      "--------------------------------\n",
      "LogisticsRegression\n",
      "Accuracy  0.8208955223880597\n",
      "Precision -  0.7714285714285715\n",
      "f1_scores 0.8181818181818182\n",
      "Confusion Matrix\n",
      "  [[28  8]\n",
      " [ 4 27]]\n",
      "--------------------------------\n",
      "--------------------------------\n",
      "RandomForest\n",
      "Accuracy  0.8208955223880597\n",
      "Precision -  0.7714285714285715\n",
      "f1_scores 0.8181818181818182\n",
      "Confusion Matrix\n",
      "  [[28  8]\n",
      " [ 4 27]]\n",
      "--------------------------------\n",
      "--------------------------------\n",
      "GaussianNB\n",
      "Accuracy  0.746268656716418\n",
      "Precision -  0.8181818181818182\n",
      "f1_scores 0.679245283018868\n",
      "Confusion Matrix\n",
      "  [[32  4]\n",
      " [13 18]]\n",
      "--------------------------------\n",
      "--------------------------------\n",
      "MultinomialNB\n",
      "Accuracy  0.7164179104477612\n",
      "Precision -  1.0\n",
      "f1_scores 0.5581395348837209\n",
      "Confusion Matrix\n",
      "  [[36  0]\n",
      " [19 12]]\n",
      "--------------------------------\n",
      "--------------------------------\n",
      "BernoulliNB\n",
      "Accuracy  0.6716417910447762\n",
      "Precision -  0.9090909090909091\n",
      "f1_scores 0.4761904761904761\n",
      "Confusion Matrix\n",
      "  [[35  1]\n",
      " [21 10]]\n",
      "--------------------------------\n"
     ]
    }
   ],
   "source": [
    "'''\n",
    "   Using the Matthews correlation coefficient\n",
    "'''\n",
    "\n",
    "mcc_scores = []\n",
    "for name, clf in clfs.items():\n",
    "    clf.fit(X_train,y_train)\n",
    "    current_mcc = matthews_corrcoef(y_test,clf.predict(X_test))\n",
    "   \n",
    "    print(\"==================\")\n",
    "    print(name)\n",
    "    print(current_mcc)\n",
    "    mcc_scores.append(current_mcc)\n",
    "\n",
    "\n",
    "'''\n",
    "    Checking the Accuracy, Precision, F-score and the confusion Matrix\n",
    "'''\n",
    "\n",
    "accuracy_scores = []\n",
    "precision_scores = []\n",
    "f1_scores = []\n",
    "confusion_matrices = []\n",
    "for name,clf in clfs.items():\n",
    "    \n",
    "    current_accuracy,current_precision,current_f1_score, confusion_matrice = train_classifier(clf, X_train,y_train,X_test,y_test)\n",
    "    print('--------------------------------')\n",
    "    print(name)\n",
    "    print(\"Accuracy \",current_accuracy)\n",
    "    print(\"Precision - \",current_precision)\n",
    "    print(\"f1_scores\" , current_f1_score) \n",
    "    print('Confusion Matrix\\n ',confusion_matrice)  \n",
    "    accuracy_scores.append(current_accuracy)\n",
    "    precision_scores.append(current_precision)\n",
    "    f1_scores.append(current_f1_score)\n",
    "    confusion_matrices.append(confusion_matrice)\n",
    "\n",
    "    print('--------------------------------')"
   ]
  },
  {
   "cell_type": "code",
   "execution_count": 18,
   "id": "46db2459",
   "metadata": {},
   "outputs": [
    {
     "data": {
      "text/html": [
       "<div>\n",
       "<style scoped>\n",
       "    .dataframe tbody tr th:only-of-type {\n",
       "        vertical-align: middle;\n",
       "    }\n",
       "\n",
       "    .dataframe tbody tr th {\n",
       "        vertical-align: top;\n",
       "    }\n",
       "\n",
       "    .dataframe thead th {\n",
       "        text-align: right;\n",
       "    }\n",
       "</style>\n",
       "<table border=\"1\" class=\"dataframe\">\n",
       "  <thead>\n",
       "    <tr style=\"text-align: right;\">\n",
       "      <th></th>\n",
       "      <th>Algorithm</th>\n",
       "      <th>Accuracy</th>\n",
       "      <th>Precision</th>\n",
       "      <th>F_scores</th>\n",
       "      <th>MCC_scores</th>\n",
       "    </tr>\n",
       "  </thead>\n",
       "  <tbody>\n",
       "    <tr>\n",
       "      <th>4</th>\n",
       "      <td>CART</td>\n",
       "      <td>0.791045</td>\n",
       "      <td>0.707317</td>\n",
       "      <td>0.805556</td>\n",
       "      <td>0.664894</td>\n",
       "    </tr>\n",
       "    <tr>\n",
       "      <th>5</th>\n",
       "      <td>LogisticsRegression</td>\n",
       "      <td>0.820896</td>\n",
       "      <td>0.771429</td>\n",
       "      <td>0.818182</td>\n",
       "      <td>0.647586</td>\n",
       "    </tr>\n",
       "    <tr>\n",
       "      <th>0</th>\n",
       "      <td>SVM_Linear</td>\n",
       "      <td>0.820896</td>\n",
       "      <td>0.851852</td>\n",
       "      <td>0.793103</td>\n",
       "      <td>0.641252</td>\n",
       "    </tr>\n",
       "    <tr>\n",
       "      <th>2</th>\n",
       "      <td>SVM_Gaussian</td>\n",
       "      <td>0.820896</td>\n",
       "      <td>0.851852</td>\n",
       "      <td>0.793103</td>\n",
       "      <td>0.641252</td>\n",
       "    </tr>\n",
       "    <tr>\n",
       "      <th>6</th>\n",
       "      <td>RandomForest</td>\n",
       "      <td>0.820896</td>\n",
       "      <td>0.771429</td>\n",
       "      <td>0.818182</td>\n",
       "      <td>0.620968</td>\n",
       "    </tr>\n",
       "    <tr>\n",
       "      <th>1</th>\n",
       "      <td>SVM_Polynomial</td>\n",
       "      <td>0.716418</td>\n",
       "      <td>0.620000</td>\n",
       "      <td>0.765432</td>\n",
       "      <td>0.541089</td>\n",
       "    </tr>\n",
       "    <tr>\n",
       "      <th>8</th>\n",
       "      <td>MultinomialNB</td>\n",
       "      <td>0.716418</td>\n",
       "      <td>1.000000</td>\n",
       "      <td>0.558140</td>\n",
       "      <td>0.503361</td>\n",
       "    </tr>\n",
       "    <tr>\n",
       "      <th>7</th>\n",
       "      <td>GaussianNB</td>\n",
       "      <td>0.746269</td>\n",
       "      <td>0.818182</td>\n",
       "      <td>0.679245</td>\n",
       "      <td>0.498519</td>\n",
       "    </tr>\n",
       "    <tr>\n",
       "      <th>3</th>\n",
       "      <td>KNNeighbor</td>\n",
       "      <td>0.701493</td>\n",
       "      <td>0.612245</td>\n",
       "      <td>0.750000</td>\n",
       "      <td>0.494897</td>\n",
       "    </tr>\n",
       "    <tr>\n",
       "      <th>9</th>\n",
       "      <td>BernoulliNB</td>\n",
       "      <td>0.671642</td>\n",
       "      <td>0.909091</td>\n",
       "      <td>0.476190</td>\n",
       "      <td>0.396802</td>\n",
       "    </tr>\n",
       "  </tbody>\n",
       "</table>\n",
       "</div>"
      ],
      "text/plain": [
       "             Algorithm  Accuracy  Precision  F_scores  MCC_scores\n",
       "4                 CART  0.791045   0.707317  0.805556    0.664894\n",
       "5  LogisticsRegression  0.820896   0.771429  0.818182    0.647586\n",
       "0           SVM_Linear  0.820896   0.851852  0.793103    0.641252\n",
       "2         SVM_Gaussian  0.820896   0.851852  0.793103    0.641252\n",
       "6         RandomForest  0.820896   0.771429  0.818182    0.620968\n",
       "1       SVM_Polynomial  0.716418   0.620000  0.765432    0.541089\n",
       "8        MultinomialNB  0.716418   1.000000  0.558140    0.503361\n",
       "7           GaussianNB  0.746269   0.818182  0.679245    0.498519\n",
       "3           KNNeighbor  0.701493   0.612245  0.750000    0.494897\n",
       "9          BernoulliNB  0.671642   0.909091  0.476190    0.396802"
      ]
     },
     "execution_count": 18,
     "metadata": {},
     "output_type": "execute_result"
    }
   ],
   "source": [
    "'''\n",
    "    Arranging the performance based on the Matthew correlation coefficient in descending order for each Algorithm\n",
    "'''\n",
    "performance_shakira = pd.DataFrame({'Algorithm':clfs.keys(),'Accuracy':accuracy_scores,'Precision':precision_scores, 'F_scores':f1_scores, 'MCC_scores': mcc_scores}).sort_values('MCC_scores', ascending=False)\n",
    "performance_shakira"
   ]
  },
  {
   "cell_type": "code",
   "execution_count": 19,
   "id": "23421b75",
   "metadata": {},
   "outputs": [
    {
     "data": {
      "text/plain": [
       "<AxesSubplot:xlabel='Algorithm'>"
      ]
     },
     "execution_count": 19,
     "metadata": {},
     "output_type": "execute_result"
    },
    {
     "data": {
      "image/png": "[encoded data removed]",
      "text/plain": [
       "<Figure size 720x432 with 1 Axes>"
      ]
     },
     "metadata": {
      "needs_background": "light"
     },
     "output_type": "display_data"
    }
   ],
   "source": [
    "performance_shakira.plot(x='Algorithm', y='MCC_scores', label='MCC_ scores for Techniques used', figsize = [10,6] )"
   ]
  },
  {
   "cell_type": "markdown",
   "id": "9c193f1c",
   "metadata": {},
   "source": [
    "## TUNING RESULT USING GRID SEARCH  "
   ]
  },
  {
   "cell_type": "code",
   "execution_count": 20,
   "id": "0b230419",
   "metadata": {},
   "outputs": [
    {
     "name": "stdout",
     "output_type": "stream",
     "text": [
      "-----------\n",
      "C = 10\n",
      "gamma = scale\n",
      "kernel = rbf\n"
     ]
    }
   ],
   "source": [
    "'''\n",
    "    Tuning the support vectors for Linear, Polynomial and Gaussian to give the optimal parameter\n",
    "'''\n",
    "from sklearn.pipeline import Pipeline\n",
    "from sklearn.model_selection import GridSearchCV\n",
    "param_grid = [\n",
    "    {\n",
    "        'C':[0.5,1,10,100,0.1,0.01],\n",
    "        'gamma':['scale',1, 0.1, 0.01, 0.001, 0.0001],\n",
    "        'kernel':['rbf'] # ['rbf','poly','linear']\n",
    "    }\n",
    "]\n",
    "optimal_params = GridSearchCV(\n",
    "    SVC(),\n",
    "    param_grid,\n",
    "    cv=10,\n",
    "    scoring='accuracy',\n",
    "    verbose=0\n",
    ")\n",
    "C,g,k = optimal_params.fit(X_train, y_train).best_params_.values()\n",
    "print(f\"-----------\")\n",
    "print(f\"C = {C}\")\n",
    "print(f\"gamma = {g}\")\n",
    "print(f\"kernel = {k}\")\n"
   ]
  },
  {
   "cell_type": "code",
   "execution_count": 21,
   "id": "6c590ec9",
   "metadata": {},
   "outputs": [
    {
     "name": "stdout",
     "output_type": "stream",
     "text": [
      "Fitting 10 folds for each of 100 candidates, totalling 1000 fits\n",
      "GaussianNB(var_smoothing=0.15199110829529336)\n"
     ]
    }
   ],
   "source": [
    "\n",
    "'''\n",
    "    Tuning the Naive Bayes method for Bernoulli, Multinomial and Gaussian to give the optimal parameter\n",
    "'''\n",
    "\n",
    "param_grid_nb = {\n",
    "        'var_smoothing': np.logspace(0, -9, num = 100)\n",
    "    }\n",
    "\n",
    "optimal_params = GridSearchCV(estimator = GaussianNB(),param_grid= param_grid_nb,\n",
    "    cv=10,\n",
    "    scoring='accuracy',\n",
    "    verbose=1\n",
    ") # [multinomialNB, GaussianNB, BernouliNB]\n",
    "optimal_params.fit(X_train, y_train)\n",
    "print(optimal_params.best_estimator_)"
   ]
  },
  {
   "cell_type": "code",
   "execution_count": 22,
   "id": "8a79b904",
   "metadata": {},
   "outputs": [
    {
     "name": "stdout",
     "output_type": "stream",
     "text": [
      "KNeighborsClassifier(n_neighbors=1)\n"
     ]
    }
   ],
   "source": [
    "\n",
    "'''\n",
    "    Tuning the Naive Bayes method for KNNeigbor\n",
    "'''\n",
    "\n",
    "param_grid_knn = {\n",
    "        'n_neighbors': [1,3,5,7,9]\n",
    "    }\n",
    "\n",
    "optimal_params = GridSearchCV(estimator = KNeighborsClassifier(),param_grid= param_grid_knn,\n",
    "    cv=10,\n",
    "    scoring='accuracy',\n",
    "    verbose=0\n",
    ") \n",
    "optimal_params.fit(X_train, y_train)\n",
    "print(optimal_params.best_estimator_)\n"
   ]
  },
  {
   "cell_type": "code",
   "execution_count": 23,
   "id": "d0dc6248",
   "metadata": {},
   "outputs": [
    {
     "name": "stdout",
     "output_type": "stream",
     "text": [
      "RandomForestClassifier(n_estimators=20)\n"
     ]
    }
   ],
   "source": [
    "'''\n",
    "    Tuning the RandomForest \n",
    "'''\n",
    "\n",
    "param_grid_rfc = {\n",
    "        'n_estimators': [20,40,60,80,100]\n",
    "    }\n",
    "\n",
    "optimal_params = GridSearchCV(estimator = RandomForestClassifier(),param_grid= param_grid_rfc,\n",
    "    cv=10,\n",
    "    scoring='accuracy',\n",
    "    verbose=0\n",
    ") \n",
    "optimal_params.fit(X_train, y_train)\n",
    "print(optimal_params.best_estimator_)\n",
    "\n"
   ]
  },
  {
   "cell_type": "code",
   "execution_count": 24,
   "id": "8c71421a",
   "metadata": {},
   "outputs": [
    {
     "name": "stdout",
     "output_type": "stream",
     "text": [
      "LogisticRegression(C=10)\n"
     ]
    }
   ],
   "source": [
    "'''\n",
    "    Tuning the RandomForest \n",
    "'''\n",
    "param_grid_lrc = [\n",
    "{\n",
    "        'C': [10, 15,20,30],\n",
    "     }\n",
    "\n",
    "]\n",
    "\n",
    "optimal_params = GridSearchCV(estimator = LogisticRegression(),param_grid= param_grid_lrc,\n",
    "    cv=10,\n",
    "    scoring='accuracy',\n",
    "    verbose=0\n",
    ") \n",
    "optimal_params.fit(X_train, y_train)\n",
    "print(optimal_params.best_estimator_)\n"
   ]
  },
  {
   "cell_type": "code",
   "execution_count": 25,
   "id": "4000b789",
   "metadata": {},
   "outputs": [
    {
     "name": "stdout",
     "output_type": "stream",
     "text": [
      "DecisionTreeClassifier(random_state=10)\n"
     ]
    }
   ],
   "source": [
    "'''\n",
    "    Tuning the Decision Tree (CART) \n",
    "'''\n",
    "param_grid_dtc = [\n",
    "{\n",
    "        'criterion': [\"gini\"],\n",
    "        'random_state':[None, 1,2,4,8,10]\n",
    "     }\n",
    "\n",
    "]\n",
    "\n",
    "optimal_params = GridSearchCV(estimator = DecisionTreeClassifier(),param_grid= param_grid_dtc,\n",
    "    cv= 10,\n",
    "    scoring ='accuracy',\n",
    "    verbose=0\n",
    ") \n",
    "optimal_params.fit(X_train, y_train)\n",
    "print(optimal_params.best_estimator_)"
   ]
  },
  {
   "cell_type": "markdown",
   "id": "16acb6f7",
   "metadata": {},
   "source": [
    "## OPTIMIZED MODEL(Performance)"
   ]
  },
  {
   "cell_type": "code",
   "execution_count": 26,
   "id": "322d9b8d",
   "metadata": {},
   "outputs": [
    {
     "name": "stdout",
     "output_type": "stream",
     "text": [
      "             Algorithm  Accuracy  Precision  F_scores  MCC_scores\n",
      "4                 CART  0.791045   0.707317  0.805556    0.664894\n",
      "5  LogisticsRegression  0.820896   0.771429  0.818182    0.647586\n",
      "0           SVM_Linear  0.820896   0.851852  0.793103    0.641252\n",
      "2         SVM_Gaussian  0.820896   0.851852  0.793103    0.641252\n",
      "6         RandomForest  0.820896   0.771429  0.818182    0.620968\n",
      "1       SVM_Polynomial  0.716418   0.620000  0.765432    0.541089\n",
      "8        MultinomialNB  0.716418   1.000000  0.558140    0.503361\n",
      "7           GaussianNB  0.746269   0.818182  0.679245    0.498519\n",
      "3           KNNeighbor  0.701493   0.612245  0.750000    0.494897\n",
      "9          BernoulliNB  0.671642   0.909091  0.476190    0.396802\n"
     ]
    },
    {
     "data": {
      "text/plain": [
       "<AxesSubplot:xlabel='Algorithm'>"
      ]
     },
     "execution_count": 26,
     "metadata": {},
     "output_type": "execute_result"
    },
    {
     "data": {
      "image/png": "[encoded data removed]",
      "text/plain": [
       "<Figure size 720x432 with 1 Axes>"
      ]
     },
     "metadata": {
      "needs_background": "light"
     },
     "output_type": "display_data"
    },
    {
     "data": {
      "image/png": "[encoded data removed]",
      "text/plain": [
       "<Figure size 720x432 with 1 Axes>"
      ]
     },
     "metadata": {
      "needs_background": "light"
     },
     "output_type": "display_data"
    },
    {
     "data": {
      "image/png": "[encoded data removed]",
      "text/plain": [
       "<Figure size 720x432 with 1 Axes>"
      ]
     },
     "metadata": {
      "needs_background": "light"
     },
     "output_type": "display_data"
    }
   ],
   "source": [
    "svc_Linear = SVC(kernel='linear', C=1, gamma = \"scale\")\n",
    "svc_Polynomial = SVC(kernel='poly', C= 1, gamma = \"scale\")\n",
    "svc_Gaussian = SVC(kernel='rbf',C = 10, gamma= 0.1)\n",
    "knc = KNeighborsClassifier(n_neighbors=1, algorithm= \"auto\")\n",
    "mnb = MultinomialNB()\n",
    "dtc = DecisionTreeClassifier(random_state=2)\n",
    "lrc = LogisticRegression(solver='liblinear', penalty='l1', C = 10)\n",
    "rfc = RandomForestClassifier(n_estimators=20, random_state=10)\n",
    "gnb = GaussianNB( var_smoothing=0.15199110829529336)\n",
    "bnb = BernoulliNB()\n",
    "\n",
    "clfs = {\n",
    "    'SVM_Linear' : svc_Linear,\n",
    "    'SVM_Polynomial' : svc_Polynomial,\n",
    "    'SVM_Gaussian' : svc_Gaussian,\n",
    "    'KNNeighbor' : knc, \n",
    "    'CART': dtc, \n",
    "    'LogisticsRegression': lrc, \n",
    "    'RandomForest': rfc, \n",
    "    'GaussianNB': gnb,\n",
    "    'MultinomialNB': mnb,\n",
    "    'BernoulliNB':bnb\n",
    "}\n",
    "\n",
    "def train_classifier(clf,X_train,y_train,X_test,y_test):\n",
    "    clf.fit(X_train,y_train)\n",
    "    y_pred = clf.predict(X_test)\n",
    "    accuracy = accuracy_score(y_test,y_pred)\n",
    "    precision = precision_score(y_test,y_pred)\n",
    "    f_score = f1_score(y_test, y_pred)\n",
    "    con_matrices =confusion_matrix(y_test,y_pred)\n",
    "    return accuracy,precision,f_score,con_matrices\n",
    "\n",
    "'''\n",
    "    Arranging the performance based on the Matthew correlation coefficient in descending order for each Algorithm\n",
    "'''\n",
    "performance_shakira = pd.DataFrame({'Algorithm':clfs.keys(),'Accuracy':accuracy_scores,'Precision':precision_scores, 'F_scores':f1_scores, 'MCC_scores': mcc_scores}).sort_values('MCC_scores', ascending=False)\n",
    "print(performance_shakira)\n",
    "\n",
    "performance_shakira.plot(x='Algorithm', y='MCC_scores', label='MCC_ scores for Techniques ', figsize = [10,6] )\n",
    "\n",
    "performance_shakira.plot(x='Algorithm', y='Accuracy', label='Accuracy for Techniques ', figsize = [10,6] )\n",
    "\n",
    "performance_shakira.plot(x='Algorithm', y='Precision', label='Precision for Techniques ', figsize = [10,6] )"
   ]
  },
  {
   "cell_type": "code",
   "execution_count": 29,
   "id": "ed151cbb",
   "metadata": {},
   "outputs": [
    {
     "data": {
      "text/plain": [
       "<AxesSubplot:>"
      ]
     },
     "execution_count": 29,
     "metadata": {},
     "output_type": "execute_result"
    },
    {
     "data": {
      "image/png": "[encoded data removed]",
      "text/plain": [
       "<Figure size 504x648 with 2 Axes>"
      ]
     },
     "metadata": {
      "needs_background": "light"
     },
     "output_type": "display_data"
    }
   ],
   "source": [
    "import seaborn as sns\n",
    "'''\n",
    "    A Heatmap confusion matrix for the predicted outcome for Linear support Vector Algorithms\n",
    "'''\n",
    "svc_Linear.fit(X_train,y_train)\n",
    "y_pred_mnb = svc_Linear.predict(X_test)\n",
    "cm = confusion_matrix(y_test,y_pred_mnb)\n",
    "plt.figure(figsize=(7,9))\n",
    "sns.heatmap(cm/np.sum(cm), annot=True, fmt='.2%', cmap='Blues')\n"
   ]
  },
  {
   "cell_type": "code",
   "execution_count": null,
   "id": "73c136f7",
   "metadata": {},
   "outputs": [],
   "source": []
  }
 ],
 "metadata": {
  "kernelspec": {
   "display_name": "Python 3 (ipykernel)",
   "language": "python",
   "name": "python3"
  },
  "language_info": {
   "codemirror_mode": {
    "name": "ipython",
    "version": 3
   },
   "file_extension": ".py",
   "mimetype": "text/x-python",
   "name": "python",
   "nbconvert_exporter": "python",
   "pygments_lexer": "ipython3",
   "version": "3.8.8"
  }
 },
 "nbformat": 4,
 "nbformat_minor": 5
}

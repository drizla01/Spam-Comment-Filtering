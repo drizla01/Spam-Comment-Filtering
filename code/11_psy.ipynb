{
 "cells": [
  {
   "cell_type": "code",
   "execution_count": 9,
   "id": "3a518843",
   "metadata": {},
   "outputs": [],
   "source": [
    "import matplotlib.pyplot as plt\n",
    "import pandas as pd\n",
    "import numpy as np"
   ]
  },
  {
   "cell_type": "code",
   "execution_count": 10,
   "id": "8b160cee",
   "metadata": {},
   "outputs": [
    {
     "data": {
      "text/html": [
       "<div>\n",
       "<style scoped>\n",
       "    .dataframe tbody tr th:only-of-type {\n",
       "        vertical-align: middle;\n",
       "    }\n",
       "\n",
       "    .dataframe tbody tr th {\n",
       "        vertical-align: top;\n",
       "    }\n",
       "\n",
       "    .dataframe thead th {\n",
       "        text-align: right;\n",
       "    }\n",
       "</style>\n",
       "<table border=\"1\" class=\"dataframe\">\n",
       "  <thead>\n",
       "    <tr style=\"text-align: right;\">\n",
       "      <th></th>\n",
       "      <th>COMMENT_ID</th>\n",
       "      <th>AUTHOR</th>\n",
       "      <th>DATE</th>\n",
       "      <th>CONTENT</th>\n",
       "      <th>CLASS</th>\n",
       "    </tr>\n",
       "  </thead>\n",
       "  <tbody>\n",
       "    <tr>\n",
       "      <th>0</th>\n",
       "      <td>LZQPQhLyRh80UYxNuaDWhIGQYNQ96IuCg-AYWqNPjpU</td>\n",
       "      <td>Julius NM</td>\n",
       "      <td>2013-11-07T06:20:48</td>\n",
       "      <td>Huh, anyway check out this you[tube] channel: ...</td>\n",
       "      <td>1</td>\n",
       "    </tr>\n",
       "    <tr>\n",
       "      <th>1</th>\n",
       "      <td>LZQPQhLyRh_C2cTtd9MvFRJedxydaVW-2sNg5Diuo4A</td>\n",
       "      <td>adam riyati</td>\n",
       "      <td>2013-11-07T12:37:15</td>\n",
       "      <td>Hey guys check out my new channel and our firs...</td>\n",
       "      <td>1</td>\n",
       "    </tr>\n",
       "    <tr>\n",
       "      <th>2</th>\n",
       "      <td>LZQPQhLyRh9MSZYnf8djyk0gEF9BHDPYrrK-qCczIY8</td>\n",
       "      <td>Evgeny Murashkin</td>\n",
       "      <td>2013-11-08T17:34:21</td>\n",
       "      <td>just for test I have to say murdev.com</td>\n",
       "      <td>1</td>\n",
       "    </tr>\n",
       "    <tr>\n",
       "      <th>3</th>\n",
       "      <td>z13jhp0bxqncu512g22wvzkasxmvvzjaz04</td>\n",
       "      <td>ElNino Melendez</td>\n",
       "      <td>2013-11-09T08:28:43</td>\n",
       "      <td>me shaking my sexy ass on my channel enjoy ^_^ ﻿</td>\n",
       "      <td>1</td>\n",
       "    </tr>\n",
       "    <tr>\n",
       "      <th>4</th>\n",
       "      <td>z13fwbwp1oujthgqj04chlngpvzmtt3r3dw</td>\n",
       "      <td>GsMega</td>\n",
       "      <td>2013-11-10T16:05:38</td>\n",
       "      <td>watch?v=vtaRGgvGtWQ   Check this out .﻿</td>\n",
       "      <td>1</td>\n",
       "    </tr>\n",
       "    <tr>\n",
       "      <th>...</th>\n",
       "      <td>...</td>\n",
       "      <td>...</td>\n",
       "      <td>...</td>\n",
       "      <td>...</td>\n",
       "      <td>...</td>\n",
       "    </tr>\n",
       "    <tr>\n",
       "      <th>345</th>\n",
       "      <td>z13th1q4yzihf1bll23qxzpjeujterydj</td>\n",
       "      <td>Carmen Racasanu</td>\n",
       "      <td>2014-11-14T13:27:52</td>\n",
       "      <td>How can this have 2 billion views when there's...</td>\n",
       "      <td>0</td>\n",
       "    </tr>\n",
       "    <tr>\n",
       "      <th>346</th>\n",
       "      <td>z13fcn1wfpb5e51xe04chdxakpzgchyaxzo0k</td>\n",
       "      <td>diego mogrovejo</td>\n",
       "      <td>2014-11-14T13:28:08</td>\n",
       "      <td>I don't now why I'm watching this in 2014﻿</td>\n",
       "      <td>0</td>\n",
       "    </tr>\n",
       "    <tr>\n",
       "      <th>347</th>\n",
       "      <td>z130zd5b3titudkoe04ccbeohojxuzppvbg</td>\n",
       "      <td>BlueYetiPlayz -Call Of Duty and More</td>\n",
       "      <td>2015-05-23T13:04:32</td>\n",
       "      <td>subscribe to me for call of duty vids and give...</td>\n",
       "      <td>1</td>\n",
       "    </tr>\n",
       "    <tr>\n",
       "      <th>348</th>\n",
       "      <td>z12he50arvrkivl5u04cctawgxzkjfsjcc4</td>\n",
       "      <td>Photo Editor</td>\n",
       "      <td>2015-06-05T14:14:48</td>\n",
       "      <td>hi guys please my android photo editor downloa...</td>\n",
       "      <td>1</td>\n",
       "    </tr>\n",
       "    <tr>\n",
       "      <th>349</th>\n",
       "      <td>z13vhvu54u3ewpp5h04ccb4zuoardrmjlyk0k</td>\n",
       "      <td>Ray Benich</td>\n",
       "      <td>2015-06-05T18:05:16</td>\n",
       "      <td>The first billion viewed this because they tho...</td>\n",
       "      <td>0</td>\n",
       "    </tr>\n",
       "  </tbody>\n",
       "</table>\n",
       "<p>350 rows × 5 columns</p>\n",
       "</div>"
      ],
      "text/plain": [
       "                                      COMMENT_ID  \\\n",
       "0    LZQPQhLyRh80UYxNuaDWhIGQYNQ96IuCg-AYWqNPjpU   \n",
       "1    LZQPQhLyRh_C2cTtd9MvFRJedxydaVW-2sNg5Diuo4A   \n",
       "2    LZQPQhLyRh9MSZYnf8djyk0gEF9BHDPYrrK-qCczIY8   \n",
       "3            z13jhp0bxqncu512g22wvzkasxmvvzjaz04   \n",
       "4            z13fwbwp1oujthgqj04chlngpvzmtt3r3dw   \n",
       "..                                           ...   \n",
       "345            z13th1q4yzihf1bll23qxzpjeujterydj   \n",
       "346        z13fcn1wfpb5e51xe04chdxakpzgchyaxzo0k   \n",
       "347          z130zd5b3titudkoe04ccbeohojxuzppvbg   \n",
       "348          z12he50arvrkivl5u04cctawgxzkjfsjcc4   \n",
       "349        z13vhvu54u3ewpp5h04ccb4zuoardrmjlyk0k   \n",
       "\n",
       "                                   AUTHOR                 DATE  \\\n",
       "0                               Julius NM  2013-11-07T06:20:48   \n",
       "1                             adam riyati  2013-11-07T12:37:15   \n",
       "2                        Evgeny Murashkin  2013-11-08T17:34:21   \n",
       "3                         ElNino Melendez  2013-11-09T08:28:43   \n",
       "4                                  GsMega  2013-11-10T16:05:38   \n",
       "..                                    ...                  ...   \n",
       "345                       Carmen Racasanu  2014-11-14T13:27:52   \n",
       "346                       diego mogrovejo  2014-11-14T13:28:08   \n",
       "347  BlueYetiPlayz -Call Of Duty and More  2015-05-23T13:04:32   \n",
       "348                          Photo Editor  2015-06-05T14:14:48   \n",
       "349                            Ray Benich  2015-06-05T18:05:16   \n",
       "\n",
       "                                               CONTENT  CLASS  \n",
       "0    Huh, anyway check out this you[tube] channel: ...      1  \n",
       "1    Hey guys check out my new channel and our firs...      1  \n",
       "2               just for test I have to say murdev.com      1  \n",
       "3     me shaking my sexy ass on my channel enjoy ^_^ ﻿      1  \n",
       "4              watch?v=vtaRGgvGtWQ   Check this out .﻿      1  \n",
       "..                                                 ...    ...  \n",
       "345  How can this have 2 billion views when there's...      0  \n",
       "346         I don't now why I'm watching this in 2014﻿      0  \n",
       "347  subscribe to me for call of duty vids and give...      1  \n",
       "348  hi guys please my android photo editor downloa...      1  \n",
       "349  The first billion viewed this because they tho...      0  \n",
       "\n",
       "[350 rows x 5 columns]"
      ]
     },
     "execution_count": 10,
     "metadata": {},
     "output_type": "execute_result"
    }
   ],
   "source": [
    "psy = pd.read_csv(\"Youtube01-Psy.csv\")  \n",
    "psy"
   ]
  },
  {
   "cell_type": "code",
   "execution_count": 11,
   "id": "ea7c1c9c",
   "metadata": {},
   "outputs": [
    {
     "data": {
      "text/html": [
       "<div>\n",
       "<style scoped>\n",
       "    .dataframe tbody tr th:only-of-type {\n",
       "        vertical-align: middle;\n",
       "    }\n",
       "\n",
       "    .dataframe tbody tr th {\n",
       "        vertical-align: top;\n",
       "    }\n",
       "\n",
       "    .dataframe thead th {\n",
       "        text-align: right;\n",
       "    }\n",
       "</style>\n",
       "<table border=\"1\" class=\"dataframe\">\n",
       "  <thead>\n",
       "    <tr style=\"text-align: right;\">\n",
       "      <th></th>\n",
       "      <th>CONTENT</th>\n",
       "      <th>CLASS</th>\n",
       "    </tr>\n",
       "  </thead>\n",
       "  <tbody>\n",
       "    <tr>\n",
       "      <th>0</th>\n",
       "      <td>Huh, anyway check out this you[tube] channel: ...</td>\n",
       "      <td>1</td>\n",
       "    </tr>\n",
       "    <tr>\n",
       "      <th>1</th>\n",
       "      <td>Hey guys check out my new channel and our firs...</td>\n",
       "      <td>1</td>\n",
       "    </tr>\n",
       "    <tr>\n",
       "      <th>2</th>\n",
       "      <td>just for test I have to say murdev.com</td>\n",
       "      <td>1</td>\n",
       "    </tr>\n",
       "    <tr>\n",
       "      <th>3</th>\n",
       "      <td>me shaking my sexy ass on my channel enjoy ^_^ ﻿</td>\n",
       "      <td>1</td>\n",
       "    </tr>\n",
       "    <tr>\n",
       "      <th>4</th>\n",
       "      <td>watch?v=vtaRGgvGtWQ   Check this out .﻿</td>\n",
       "      <td>1</td>\n",
       "    </tr>\n",
       "    <tr>\n",
       "      <th>...</th>\n",
       "      <td>...</td>\n",
       "      <td>...</td>\n",
       "    </tr>\n",
       "    <tr>\n",
       "      <th>345</th>\n",
       "      <td>How can this have 2 billion views when there's...</td>\n",
       "      <td>0</td>\n",
       "    </tr>\n",
       "    <tr>\n",
       "      <th>346</th>\n",
       "      <td>I don't now why I'm watching this in 2014﻿</td>\n",
       "      <td>0</td>\n",
       "    </tr>\n",
       "    <tr>\n",
       "      <th>347</th>\n",
       "      <td>subscribe to me for call of duty vids and give...</td>\n",
       "      <td>1</td>\n",
       "    </tr>\n",
       "    <tr>\n",
       "      <th>348</th>\n",
       "      <td>hi guys please my android photo editor downloa...</td>\n",
       "      <td>1</td>\n",
       "    </tr>\n",
       "    <tr>\n",
       "      <th>349</th>\n",
       "      <td>The first billion viewed this because they tho...</td>\n",
       "      <td>0</td>\n",
       "    </tr>\n",
       "  </tbody>\n",
       "</table>\n",
       "<p>350 rows × 2 columns</p>\n",
       "</div>"
      ],
      "text/plain": [
       "                                               CONTENT  CLASS\n",
       "0    Huh, anyway check out this you[tube] channel: ...      1\n",
       "1    Hey guys check out my new channel and our firs...      1\n",
       "2               just for test I have to say murdev.com      1\n",
       "3     me shaking my sexy ass on my channel enjoy ^_^ ﻿      1\n",
       "4              watch?v=vtaRGgvGtWQ   Check this out .﻿      1\n",
       "..                                                 ...    ...\n",
       "345  How can this have 2 billion views when there's...      0\n",
       "346         I don't now why I'm watching this in 2014﻿      0\n",
       "347  subscribe to me for call of duty vids and give...      1\n",
       "348  hi guys please my android photo editor downloa...      1\n",
       "349  The first billion viewed this because they tho...      0\n",
       "\n",
       "[350 rows x 2 columns]"
      ]
     },
     "execution_count": 11,
     "metadata": {},
     "output_type": "execute_result"
    }
   ],
   "source": [
    "psy.drop(columns=['COMMENT_ID', 'AUTHOR','DATE'], inplace = True)\n",
    "psy   #spam = 1, ham(legimimate) = 0"
   ]
  },
  {
   "cell_type": "code",
   "execution_count": 12,
   "id": "46f80917",
   "metadata": {},
   "outputs": [
    {
     "data": {
      "text/plain": [
       "CONTENT    False\n",
       "CLASS      False\n",
       "dtype: bool"
      ]
     },
     "execution_count": 12,
     "metadata": {},
     "output_type": "execute_result"
    }
   ],
   "source": [
    "psy.isna().any()"
   ]
  },
  {
   "cell_type": "code",
   "execution_count": 13,
   "id": "76ce8465",
   "metadata": {},
   "outputs": [
    {
     "data": {
      "text/plain": [
       "0"
      ]
     },
     "execution_count": 13,
     "metadata": {},
     "output_type": "execute_result"
    }
   ],
   "source": [
    "psy.drop_duplicates(inplace = True)\n",
    "psy.duplicated().sum()"
   ]
  },
  {
   "cell_type": "code",
   "execution_count": 14,
   "id": "0d48b433",
   "metadata": {},
   "outputs": [
    {
     "data": {
      "text/plain": [
       "CONTENT    175\n",
       "CLASS      175\n",
       "dtype: int64"
      ]
     },
     "execution_count": 14,
     "metadata": {},
     "output_type": "execute_result"
    }
   ],
   "source": [
    "psy[psy['CLASS']== 1].count()"
   ]
  },
  {
   "cell_type": "code",
   "execution_count": 15,
   "id": "731f0006",
   "metadata": {},
   "outputs": [
    {
     "data": {
      "text/plain": [
       "CONTENT    174\n",
       "CLASS      174\n",
       "dtype: int64"
      ]
     },
     "execution_count": 15,
     "metadata": {},
     "output_type": "execute_result"
    }
   ],
   "source": [
    "# ham\n",
    "psy[psy['CLASS'] == 0].count()"
   ]
  },
  {
   "cell_type": "markdown",
   "id": "3dc321c5",
   "metadata": {},
   "source": [
    "## Data Preprocessing"
   ]
  },
  {
   "cell_type": "code",
   "execution_count": 16,
   "id": "f5d47b80",
   "metadata": {},
   "outputs": [],
   "source": [
    "import nltk\n",
    "import string\n",
    "from nltk.corpus import stopwords\n",
    "from nltk.stem.wordnet import WordNetLemmatizer\n",
    "from nltk.tokenize import word_tokenize\n",
    "from nltk.stem.porter import PorterStemmer\n",
    "ps = PorterStemmer()"
   ]
  },
  {
   "cell_type": "code",
   "execution_count": 17,
   "id": "5852c054",
   "metadata": {},
   "outputs": [],
   "source": [
    "'''\n",
    "Create a function that\n",
    "- changes all the words to lower case\n",
    "- tokenize the words\n",
    "- remove special characters\n",
    "- remove stop words and punctuation\n",
    "- stemming\n",
    "\n",
    "'''\n",
    "\n",
    "def text_processing(CONTENT):\n",
    "    text = CONTENT.lower()\n",
    "    text = nltk.word_tokenize(text)\n",
    "\n",
    "    y = []\n",
    "    for i in text:\n",
    "        if i.isalnum():\n",
    "            y.append(i)\n",
    "    text = y[:]\n",
    "    y.clear()\n",
    "    \n",
    "    for j in text:\n",
    "        if j not in stopwords.words('english') and i not in string.punctuation:\n",
    "            y.append(j)\n",
    "    text = y[:]\n",
    "    y.clear()\n",
    "\n",
    "    for w in text:\n",
    "     #   y.append(ps.stem(w))     incase for stemming\n",
    "        y.append(w)\n",
    "    return \" \".join(y)"
   ]
  },
  {
   "cell_type": "code",
   "execution_count": 18,
   "id": "8c466bcd",
   "metadata": {},
   "outputs": [
    {
     "data": {
      "text/html": [
       "<div>\n",
       "<style scoped>\n",
       "    .dataframe tbody tr th:only-of-type {\n",
       "        vertical-align: middle;\n",
       "    }\n",
       "\n",
       "    .dataframe tbody tr th {\n",
       "        vertical-align: top;\n",
       "    }\n",
       "\n",
       "    .dataframe thead th {\n",
       "        text-align: right;\n",
       "    }\n",
       "</style>\n",
       "<table border=\"1\" class=\"dataframe\">\n",
       "  <thead>\n",
       "    <tr style=\"text-align: right;\">\n",
       "      <th></th>\n",
       "      <th>CONTENT</th>\n",
       "      <th>CLASS</th>\n",
       "      <th>TEXT_PROCESSED</th>\n",
       "    </tr>\n",
       "  </thead>\n",
       "  <tbody>\n",
       "    <tr>\n",
       "      <th>0</th>\n",
       "      <td>Huh, anyway check out this you[tube] channel: ...</td>\n",
       "      <td>1</td>\n",
       "      <td>huh anyway check tube channel kobyoshi02</td>\n",
       "    </tr>\n",
       "    <tr>\n",
       "      <th>1</th>\n",
       "      <td>Hey guys check out my new channel and our firs...</td>\n",
       "      <td>1</td>\n",
       "      <td></td>\n",
       "    </tr>\n",
       "    <tr>\n",
       "      <th>2</th>\n",
       "      <td>just for test I have to say murdev.com</td>\n",
       "      <td>1</td>\n",
       "      <td>test say</td>\n",
       "    </tr>\n",
       "    <tr>\n",
       "      <th>3</th>\n",
       "      <td>me shaking my sexy ass on my channel enjoy ^_^ ﻿</td>\n",
       "      <td>1</td>\n",
       "      <td>shaking sexy ass channel enjoy</td>\n",
       "    </tr>\n",
       "    <tr>\n",
       "      <th>4</th>\n",
       "      <td>watch?v=vtaRGgvGtWQ   Check this out .﻿</td>\n",
       "      <td>1</td>\n",
       "      <td>watch check</td>\n",
       "    </tr>\n",
       "    <tr>\n",
       "      <th>5</th>\n",
       "      <td>Hey, check out my new website!! This site is a...</td>\n",
       "      <td>1</td>\n",
       "      <td>hey check new website site kids stuff kidsmedi...</td>\n",
       "    </tr>\n",
       "    <tr>\n",
       "      <th>6</th>\n",
       "      <td>Subscribe to my channel ﻿</td>\n",
       "      <td>1</td>\n",
       "      <td>subscribe channel</td>\n",
       "    </tr>\n",
       "    <tr>\n",
       "      <th>7</th>\n",
       "      <td>i turned it on mute as soon is i came on i jus...</td>\n",
       "      <td>0</td>\n",
       "      <td>turned mute soon came wanted check views</td>\n",
       "    </tr>\n",
       "    <tr>\n",
       "      <th>8</th>\n",
       "      <td>You should check my channel for Funny VIDEOS!!﻿</td>\n",
       "      <td>1</td>\n",
       "      <td>check channel funny videos</td>\n",
       "    </tr>\n",
       "    <tr>\n",
       "      <th>9</th>\n",
       "      <td>and u should.d check my channel and tell me wh...</td>\n",
       "      <td>1</td>\n",
       "      <td>u check channel tell next</td>\n",
       "    </tr>\n",
       "    <tr>\n",
       "      <th>10</th>\n",
       "      <td>Hey subscribe to me﻿</td>\n",
       "      <td>1</td>\n",
       "      <td>hey subscribe</td>\n",
       "    </tr>\n",
       "    <tr>\n",
       "      <th>11</th>\n",
       "      <td>Once you have started reading do not stop. If...</td>\n",
       "      <td>1</td>\n",
       "      <td>started reading stop subscribe within one day ...</td>\n",
       "    </tr>\n",
       "    <tr>\n",
       "      <th>12</th>\n",
       "      <td>https://twitter.com/GBphotographyGB﻿</td>\n",
       "      <td>1</td>\n",
       "      <td>https</td>\n",
       "    </tr>\n",
       "    <tr>\n",
       "      <th>13</th>\n",
       "      <td>subscribe like comment﻿</td>\n",
       "      <td>1</td>\n",
       "      <td>subscribe like</td>\n",
       "    </tr>\n",
       "    <tr>\n",
       "      <th>14</th>\n",
       "      <td>please like :D https://premium.easypromosapp.c...</td>\n",
       "      <td>1</td>\n",
       "      <td>please like https</td>\n",
       "    </tr>\n",
       "    <tr>\n",
       "      <th>15</th>\n",
       "      <td>Hello! Do you like gaming, art videos, scienti...</td>\n",
       "      <td>1</td>\n",
       "      <td>hello like gaming art videos scientific experi...</td>\n",
       "    </tr>\n",
       "    <tr>\n",
       "      <th>16</th>\n",
       "      <td>I'm only checking the views﻿</td>\n",
       "      <td>0</td>\n",
       "      <td>checking</td>\n",
       "    </tr>\n",
       "    <tr>\n",
       "      <th>17</th>\n",
       "      <td>http://www.ebay.com/itm/171183229277?ssPageNam...</td>\n",
       "      <td>1</td>\n",
       "      <td>http meselx amp</td>\n",
       "    </tr>\n",
       "    <tr>\n",
       "      <th>18</th>\n",
       "      <td>http://ubuntuone.com/40beUutVu2ZKxK4uTgPZ8K﻿</td>\n",
       "      <td>1</td>\n",
       "      <td>http</td>\n",
       "    </tr>\n",
       "    <tr>\n",
       "      <th>19</th>\n",
       "      <td>We are an EDM apparel company dedicated to bri...</td>\n",
       "      <td>1</td>\n",
       "      <td>edm apparel company dedicated bringing music i...</td>\n",
       "    </tr>\n",
       "  </tbody>\n",
       "</table>\n",
       "</div>"
      ],
      "text/plain": [
       "                                              CONTENT  CLASS  \\\n",
       "0   Huh, anyway check out this you[tube] channel: ...      1   \n",
       "1   Hey guys check out my new channel and our firs...      1   \n",
       "2              just for test I have to say murdev.com      1   \n",
       "3    me shaking my sexy ass on my channel enjoy ^_^ ﻿      1   \n",
       "4             watch?v=vtaRGgvGtWQ   Check this out .﻿      1   \n",
       "5   Hey, check out my new website!! This site is a...      1   \n",
       "6                           Subscribe to my channel ﻿      1   \n",
       "7   i turned it on mute as soon is i came on i jus...      0   \n",
       "8     You should check my channel for Funny VIDEOS!!﻿      1   \n",
       "9   and u should.d check my channel and tell me wh...      1   \n",
       "10                               Hey subscribe to me﻿      1   \n",
       "11   Once you have started reading do not stop. If...      1   \n",
       "12               https://twitter.com/GBphotographyGB﻿      1   \n",
       "13                            subscribe like comment﻿      1   \n",
       "14  please like :D https://premium.easypromosapp.c...      1   \n",
       "15  Hello! Do you like gaming, art videos, scienti...      1   \n",
       "16                       I'm only checking the views﻿      0   \n",
       "17  http://www.ebay.com/itm/171183229277?ssPageNam...      1   \n",
       "18       http://ubuntuone.com/40beUutVu2ZKxK4uTgPZ8K﻿      1   \n",
       "19  We are an EDM apparel company dedicated to bri...      1   \n",
       "\n",
       "                                       TEXT_PROCESSED  \n",
       "0            huh anyway check tube channel kobyoshi02  \n",
       "1                                                      \n",
       "2                                            test say  \n",
       "3                      shaking sexy ass channel enjoy  \n",
       "4                                         watch check  \n",
       "5   hey check new website site kids stuff kidsmedi...  \n",
       "6                                   subscribe channel  \n",
       "7            turned mute soon came wanted check views  \n",
       "8                          check channel funny videos  \n",
       "9                           u check channel tell next  \n",
       "10                                      hey subscribe  \n",
       "11  started reading stop subscribe within one day ...  \n",
       "12                                              https  \n",
       "13                                     subscribe like  \n",
       "14                                  please like https  \n",
       "15  hello like gaming art videos scientific experi...  \n",
       "16                                           checking  \n",
       "17                                    http meselx amp  \n",
       "18                                               http  \n",
       "19  edm apparel company dedicated bringing music i...  "
      ]
     },
     "execution_count": 18,
     "metadata": {},
     "output_type": "execute_result"
    }
   ],
   "source": [
    "#Adding a new column for the processed text from the content column\n",
    "psy['TEXT_PROCESSED'] = psy['CONTENT'].apply(text_processing)\n",
    "psy.head(20)"
   ]
  },
  {
   "cell_type": "markdown",
   "id": "a08ca87d",
   "metadata": {},
   "source": [
    "## Model Building\n",
    "Algorithm used are\n",
    "- Support Vector Classification(Linear, Polynomial, Gaussian)\n",
    "- The Naive Bayes Method(Multinomial, Bernouli, Gaussian)\n",
    "- Random Forest\n",
    "- Decision Tree(CART)\n",
    "- KNNeighbor\n",
    "- Logistics Regression"
   ]
  },
  {
   "cell_type": "code",
   "execution_count": 19,
   "id": "d164d424",
   "metadata": {},
   "outputs": [
    {
     "data": {
      "text/plain": [
       "(349, 954)"
      ]
     },
     "execution_count": 19,
     "metadata": {},
     "output_type": "execute_result"
    }
   ],
   "source": [
    "from sklearn.feature_extraction.text import CountVectorizer, TfidfVectorizer\n",
    "tfidf = TfidfVectorizer(max_features = 3000 )\n",
    "X = tfidf.fit_transform(psy['TEXT_PROCESSED']).toarray()\n",
    "y = psy['CLASS'].values\n",
    "#X.shape\n",
    "#X = CountVectorizer(analyzer=text_processing).fit_transform(psy['CONTENT'])\n",
    "#bag_of_words.shape\n",
    "X.shape\n"
   ]
  },
  {
   "cell_type": "code",
   "execution_count": 20,
   "id": "772e9a22",
   "metadata": {},
   "outputs": [],
   "source": [
    "'''\n",
    "splitting the data into training and testing set \n",
    "importing the necessary library for the Supervised Techniques and checking the accuracy/validity of the model\n",
    "'''\n",
    "from sklearn.model_selection import train_test_split\n",
    "X_train,X_test,y_train,y_test = train_test_split(X,y,test_size=0.2,random_state= 0)\n",
    "\n",
    "from sklearn.linear_model import LogisticRegression\n",
    "from sklearn.svm import SVC\n",
    "from sklearn.tree import DecisionTreeClassifier\n",
    "from sklearn.neighbors import KNeighborsClassifier\n",
    "from sklearn.ensemble import RandomForestClassifier\n",
    "from sklearn.naive_bayes import GaussianNB,MultinomialNB,BernoulliNB\n",
    "from sklearn.metrics import accuracy_score,confusion_matrix,precision_score,f1_score, matthews_corrcoef"
   ]
  },
  {
   "cell_type": "code",
   "execution_count": 21,
   "id": "20fb1f15",
   "metadata": {},
   "outputs": [],
   "source": [
    "svc_Linear = SVC()\n",
    "svc_Polynomial = SVC(kernel='poly')\n",
    "svc_Gaussian = SVC(kernel='rbf')\n",
    "knc = KNeighborsClassifier(n_neighbors=3)\n",
    "dtc = DecisionTreeClassifier()\n",
    "lrc = LogisticRegression(solver='liblinear')\n",
    "rfc = RandomForestClassifier(n_estimators=80)\n",
    "gnb = GaussianNB()\n",
    "mnb = MultinomialNB()\n",
    "bnb = BernoulliNB()"
   ]
  },
  {
   "cell_type": "code",
   "execution_count": 22,
   "id": "3bfe4d19",
   "metadata": {},
   "outputs": [],
   "source": [
    "clfs = {\n",
    "    'SVM_Linear' : svc_Linear,\n",
    "    'SVM_Polynomial' : svc_Polynomial,\n",
    "    'SVM_Gaussian' : svc_Gaussian,\n",
    "    'KNNeighbor' : knc, \n",
    "    'CART': dtc, \n",
    "    'LogisticsRegression': lrc, \n",
    "    'RandomForest': rfc, \n",
    "    'GaussianNB': gnb,\n",
    "    'MultinomialNB': mnb,\n",
    "    'BernoulliNB':bnb\n",
    "}"
   ]
  },
  {
   "cell_type": "code",
   "execution_count": 23,
   "id": "c2815772",
   "metadata": {},
   "outputs": [],
   "source": [
    "def train_classifier(clf,X_train,y_train,X_test,y_test):\n",
    "    clf.fit(X_train,y_train)\n",
    "    y_pred = clf.predict(X_test)\n",
    "    accuracy = accuracy_score(y_test,y_pred)\n",
    "    precision = precision_score(y_test,y_pred)\n",
    "    f_score = f1_score(y_test, y_pred)\n",
    "    con_matrices =confusion_matrix(y_test,y_pred)\n",
    "    return accuracy,precision,f_score,con_matrices"
   ]
  },
  {
   "cell_type": "markdown",
   "id": "3decb08d",
   "metadata": {},
   "source": [
    "## Model Performance(UnOptimized)\n",
    "- Matthew correlation Coefficient\n",
    "- Accuracy\n",
    "- Precision\n",
    "- F_score\n",
    "- Confusion Matrix"
   ]
  },
  {
   "cell_type": "code",
   "execution_count": 24,
   "id": "f65583ef",
   "metadata": {},
   "outputs": [
    {
     "name": "stdout",
     "output_type": "stream",
     "text": [
      "==================\n",
      "SVM_Linear\n",
      "0.8654039287106533\n",
      "==================\n",
      "SVM_Polynomial\n",
      "0.7198247596504007\n",
      "==================\n",
      "SVM_Gaussian\n",
      "0.8654039287106533\n",
      "==================\n",
      "KNNeighbor\n",
      "0.4680458707431094\n",
      "==================\n",
      "CART\n",
      "0.7431605356175383\n",
      "==================\n",
      "LogisticsRegression\n",
      "0.8598601560348856\n",
      "==================\n",
      "RandomForest\n",
      "0.8598601560348856\n",
      "==================\n",
      "GaussianNB\n",
      "0.6296872653180903\n",
      "==================\n",
      "MultinomialNB\n",
      "0.8918080720799183\n",
      "==================\n",
      "BernoulliNB\n",
      "0.9174033787140845\n",
      "--------------------------------\n",
      "SVM_Linear\n",
      "Accuracy  0.9285714285714286\n",
      "Precision -  1.0\n",
      "f1_scores 0.9206349206349206\n",
      "Confusion Matrix\n",
      "  [[36  0]\n",
      " [ 5 29]]\n",
      "--------------------------------\n",
      "--------------------------------\n",
      "SVM_Polynomial\n",
      "Accuracy  0.8428571428571429\n",
      "Precision -  1.0\n",
      "f1_scores 0.8070175438596492\n",
      "Confusion Matrix\n",
      "  [[36  0]\n",
      " [11 23]]\n",
      "--------------------------------\n",
      "--------------------------------\n",
      "SVM_Gaussian\n",
      "Accuracy  0.9285714285714286\n",
      "Precision -  1.0\n",
      "f1_scores 0.9206349206349206\n",
      "Confusion Matrix\n",
      "  [[36  0]\n",
      " [ 5 29]]\n",
      "--------------------------------\n",
      "--------------------------------\n",
      "KNNeighbor\n",
      "Accuracy  0.6857142857142857\n",
      "Precision -  1.0\n",
      "f1_scores 0.5217391304347826\n",
      "Confusion Matrix\n",
      "  [[36  0]\n",
      " [22 12]]\n",
      "--------------------------------\n",
      "--------------------------------\n",
      "CART\n",
      "Accuracy  0.8714285714285714\n",
      "Precision -  0.8571428571428571\n",
      "f1_scores 0.8695652173913043\n",
      "Confusion Matrix\n",
      "  [[31  5]\n",
      " [ 4 30]]\n",
      "--------------------------------\n",
      "--------------------------------\n",
      "LogisticsRegression\n",
      "Accuracy  0.9285714285714286\n",
      "Precision -  0.967741935483871\n",
      "f1_scores 0.923076923076923\n",
      "Confusion Matrix\n",
      "  [[35  1]\n",
      " [ 4 30]]\n",
      "--------------------------------\n",
      "--------------------------------\n",
      "RandomForest\n",
      "Accuracy  0.9285714285714286\n",
      "Precision -  0.967741935483871\n",
      "f1_scores 0.923076923076923\n",
      "Confusion Matrix\n",
      "  [[35  1]\n",
      " [ 4 30]]\n",
      "--------------------------------\n",
      "--------------------------------\n",
      "GaussianNB\n",
      "Accuracy  0.8142857142857143\n",
      "Precision -  0.8387096774193549\n",
      "f1_scores 0.7999999999999999\n",
      "Confusion Matrix\n",
      "  [[31  5]\n",
      " [ 8 26]]\n",
      "--------------------------------\n",
      "--------------------------------\n",
      "MultinomialNB\n",
      "Accuracy  0.9428571428571428\n",
      "Precision -  0.8947368421052632\n",
      "f1_scores 0.9444444444444444\n",
      "Confusion Matrix\n",
      "  [[32  4]\n",
      " [ 0 34]]\n",
      "--------------------------------\n",
      "--------------------------------\n",
      "BernoulliNB\n",
      "Accuracy  0.9571428571428572\n",
      "Precision -  1.0\n",
      "f1_scores 0.9538461538461539\n",
      "Confusion Matrix\n",
      "  [[36  0]\n",
      " [ 3 31]]\n",
      "--------------------------------\n"
     ]
    }
   ],
   "source": [
    "'''\n",
    "   Using the Matthews correlation coefficient\n",
    "'''\n",
    "\n",
    "mcc_scores = []\n",
    "for name, clf in clfs.items():\n",
    "    clf.fit(X_train,y_train)\n",
    "    current_mcc = matthews_corrcoef(y_test,clf.predict(X_test))\n",
    "   \n",
    "    print(\"==================\")\n",
    "    print(name)\n",
    "    print(current_mcc)\n",
    "    mcc_scores.append(current_mcc)\n",
    "\n",
    "\n",
    "'''\n",
    "    Checking the Accuracy, Precision, F-score and the confusion Matrix\n",
    "'''\n",
    "\n",
    "accuracy_scores = []\n",
    "precision_scores = []\n",
    "f1_scores = []\n",
    "confusion_matrices = []\n",
    "for name,clf in clfs.items():\n",
    "    \n",
    "    current_accuracy,current_precision,current_f1_score, confusion_matrice = train_classifier(clf, X_train,y_train,X_test,y_test)\n",
    "    print('--------------------------------')\n",
    "    print(name)\n",
    "    print(\"Accuracy \",current_accuracy)\n",
    "    print(\"Precision - \",current_precision)\n",
    "    print(\"f1_scores\" , current_f1_score) \n",
    "    print('Confusion Matrix\\n ',confusion_matrice)  \n",
    "    accuracy_scores.append(current_accuracy)\n",
    "    precision_scores.append(current_precision)\n",
    "    f1_scores.append(current_f1_score)\n",
    "    confusion_matrices.append(confusion_matrice)\n",
    "\n",
    "    print('--------------------------------')"
   ]
  },
  {
   "cell_type": "code",
   "execution_count": 25,
   "id": "46db2459",
   "metadata": {},
   "outputs": [
    {
     "data": {
      "text/html": [
       "<div>\n",
       "<style scoped>\n",
       "    .dataframe tbody tr th:only-of-type {\n",
       "        vertical-align: middle;\n",
       "    }\n",
       "\n",
       "    .dataframe tbody tr th {\n",
       "        vertical-align: top;\n",
       "    }\n",
       "\n",
       "    .dataframe thead th {\n",
       "        text-align: right;\n",
       "    }\n",
       "</style>\n",
       "<table border=\"1\" class=\"dataframe\">\n",
       "  <thead>\n",
       "    <tr style=\"text-align: right;\">\n",
       "      <th></th>\n",
       "      <th>Algorithm</th>\n",
       "      <th>Accuracy</th>\n",
       "      <th>Precision</th>\n",
       "      <th>F_scores</th>\n",
       "      <th>MCC_scores</th>\n",
       "    </tr>\n",
       "  </thead>\n",
       "  <tbody>\n",
       "    <tr>\n",
       "      <th>9</th>\n",
       "      <td>BernoulliNB</td>\n",
       "      <td>0.957143</td>\n",
       "      <td>1.000000</td>\n",
       "      <td>0.953846</td>\n",
       "      <td>0.917403</td>\n",
       "    </tr>\n",
       "    <tr>\n",
       "      <th>8</th>\n",
       "      <td>MultinomialNB</td>\n",
       "      <td>0.942857</td>\n",
       "      <td>0.894737</td>\n",
       "      <td>0.944444</td>\n",
       "      <td>0.891808</td>\n",
       "    </tr>\n",
       "    <tr>\n",
       "      <th>0</th>\n",
       "      <td>SVM_Linear</td>\n",
       "      <td>0.928571</td>\n",
       "      <td>1.000000</td>\n",
       "      <td>0.920635</td>\n",
       "      <td>0.865404</td>\n",
       "    </tr>\n",
       "    <tr>\n",
       "      <th>2</th>\n",
       "      <td>SVM_Gaussian</td>\n",
       "      <td>0.928571</td>\n",
       "      <td>1.000000</td>\n",
       "      <td>0.920635</td>\n",
       "      <td>0.865404</td>\n",
       "    </tr>\n",
       "    <tr>\n",
       "      <th>5</th>\n",
       "      <td>LogisticsRegression</td>\n",
       "      <td>0.928571</td>\n",
       "      <td>0.967742</td>\n",
       "      <td>0.923077</td>\n",
       "      <td>0.859860</td>\n",
       "    </tr>\n",
       "    <tr>\n",
       "      <th>6</th>\n",
       "      <td>RandomForest</td>\n",
       "      <td>0.928571</td>\n",
       "      <td>0.967742</td>\n",
       "      <td>0.923077</td>\n",
       "      <td>0.859860</td>\n",
       "    </tr>\n",
       "    <tr>\n",
       "      <th>4</th>\n",
       "      <td>CART</td>\n",
       "      <td>0.871429</td>\n",
       "      <td>0.857143</td>\n",
       "      <td>0.869565</td>\n",
       "      <td>0.743161</td>\n",
       "    </tr>\n",
       "    <tr>\n",
       "      <th>1</th>\n",
       "      <td>SVM_Polynomial</td>\n",
       "      <td>0.842857</td>\n",
       "      <td>1.000000</td>\n",
       "      <td>0.807018</td>\n",
       "      <td>0.719825</td>\n",
       "    </tr>\n",
       "    <tr>\n",
       "      <th>7</th>\n",
       "      <td>GaussianNB</td>\n",
       "      <td>0.814286</td>\n",
       "      <td>0.838710</td>\n",
       "      <td>0.800000</td>\n",
       "      <td>0.629687</td>\n",
       "    </tr>\n",
       "    <tr>\n",
       "      <th>3</th>\n",
       "      <td>KNNeighbor</td>\n",
       "      <td>0.685714</td>\n",
       "      <td>1.000000</td>\n",
       "      <td>0.521739</td>\n",
       "      <td>0.468046</td>\n",
       "    </tr>\n",
       "  </tbody>\n",
       "</table>\n",
       "</div>"
      ],
      "text/plain": [
       "             Algorithm  Accuracy  Precision  F_scores  MCC_scores\n",
       "9          BernoulliNB  0.957143   1.000000  0.953846    0.917403\n",
       "8        MultinomialNB  0.942857   0.894737  0.944444    0.891808\n",
       "0           SVM_Linear  0.928571   1.000000  0.920635    0.865404\n",
       "2         SVM_Gaussian  0.928571   1.000000  0.920635    0.865404\n",
       "5  LogisticsRegression  0.928571   0.967742  0.923077    0.859860\n",
       "6         RandomForest  0.928571   0.967742  0.923077    0.859860\n",
       "4                 CART  0.871429   0.857143  0.869565    0.743161\n",
       "1       SVM_Polynomial  0.842857   1.000000  0.807018    0.719825\n",
       "7           GaussianNB  0.814286   0.838710  0.800000    0.629687\n",
       "3           KNNeighbor  0.685714   1.000000  0.521739    0.468046"
      ]
     },
     "execution_count": 25,
     "metadata": {},
     "output_type": "execute_result"
    }
   ],
   "source": [
    "'''\n",
    "    Arranging the performance based on the Matthew correlation coefficient in descending order for each Algorithm\n",
    "'''\n",
    "performance_psy = pd.DataFrame({'Algorithm':clfs.keys(),'Accuracy':accuracy_scores,'Precision':precision_scores, 'F_scores':f1_scores, 'MCC_scores': mcc_scores}).sort_values('MCC_scores', ascending=False)\n",
    "performance_psy"
   ]
  },
  {
   "cell_type": "code",
   "execution_count": 26,
   "id": "23421b75",
   "metadata": {},
   "outputs": [
    {
     "data": {
      "text/plain": [
       "<AxesSubplot:xlabel='Algorithm'>"
      ]
     },
     "execution_count": 26,
     "metadata": {},
     "output_type": "execute_result"
    },
    {
     "data": {
      "image/png": "[encoded data removed]",
      "text/plain": [
       "<Figure size 720x432 with 1 Axes>"
      ]
     },
     "metadata": {
      "needs_background": "light"
     },
     "output_type": "display_data"
    }
   ],
   "source": [
    "performance_psy.plot(x='Algorithm', y='MCC_scores', label='MCC_ scores for Techniques used', figsize = [10,6] )"
   ]
  },
  {
   "cell_type": "markdown",
   "id": "9c193f1c",
   "metadata": {},
   "source": [
    "## TUNING RESULT USING GRID SEARCH  "
   ]
  },
  {
   "cell_type": "code",
   "execution_count": 27,
   "id": "0b230419",
   "metadata": {},
   "outputs": [
    {
     "name": "stdout",
     "output_type": "stream",
     "text": [
      "-----------\n",
      "C = 100\n",
      "gamma = 0.01\n",
      "kernel = rbf\n"
     ]
    }
   ],
   "source": [
    "'''\n",
    "    Tuning the support vectors for Linear, Polynomial and Gaussian to give the optimal parameter\n",
    "'''\n",
    "from sklearn.pipeline import Pipeline\n",
    "from sklearn.model_selection import GridSearchCV\n",
    "param_grid = [\n",
    "    {\n",
    "        'C':[0.5,1,10,100,0.1,0.01],\n",
    "        'gamma':['scale',1, 0.1, 0.01, 0.001, 0.0001],\n",
    "        'kernel':['rbf'] # ['rbf','poly','linear']\n",
    "    }\n",
    "]\n",
    "optimal_params = GridSearchCV(\n",
    "    SVC(),\n",
    "    param_grid,\n",
    "    cv=10,\n",
    "    scoring='accuracy',\n",
    "    verbose=0\n",
    ")\n",
    "C,g,k = optimal_params.fit(X_train, y_train).best_params_.values()\n",
    "print(f\"-----------\")\n",
    "print(f\"C = {C}\")\n",
    "print(f\"gamma = {g}\")\n",
    "print(f\"kernel = {k}\")\n"
   ]
  },
  {
   "cell_type": "code",
   "execution_count": 28,
   "id": "6c590ec9",
   "metadata": {},
   "outputs": [
    {
     "name": "stdout",
     "output_type": "stream",
     "text": [
      "Fitting 10 folds for each of 100 candidates, totalling 1000 fits\n",
      "GaussianNB(var_smoothing=0.15199110829529336)\n"
     ]
    }
   ],
   "source": [
    "\n",
    "'''\n",
    "    Tuning the Naive Bayes method for Bernoulli, Multinomial and Gaussian to give the optimal parameter\n",
    "'''\n",
    "\n",
    "param_grid_nb = {\n",
    "        'var_smoothing': np.logspace(0, -9, num = 100)\n",
    "    }\n",
    "\n",
    "optimal_params = GridSearchCV(estimator = GaussianNB(),param_grid= param_grid_nb,\n",
    "    cv=10,\n",
    "    scoring='accuracy',\n",
    "    verbose=1\n",
    ") # [multinomialNB, GaussianNB, BernouliNB]\n",
    "optimal_params.fit(X_train, y_train)\n",
    "print(optimal_params.best_estimator_)"
   ]
  },
  {
   "cell_type": "code",
   "execution_count": 29,
   "id": "8a79b904",
   "metadata": {},
   "outputs": [
    {
     "name": "stdout",
     "output_type": "stream",
     "text": [
      "KNeighborsClassifier(n_neighbors=3)\n"
     ]
    }
   ],
   "source": [
    "\n",
    "'''\n",
    "    Tuning the Naive Bayes method for KNNeigbor\n",
    "'''\n",
    "\n",
    "param_grid_knn = {\n",
    "        'n_neighbors': [1,3,5,7,9]\n",
    "    }\n",
    "\n",
    "optimal_params = GridSearchCV(estimator = KNeighborsClassifier(),param_grid= param_grid_knn,\n",
    "    cv=10,\n",
    "    scoring='accuracy',\n",
    "    verbose=0\n",
    ") \n",
    "optimal_params.fit(X_train, y_train)\n",
    "print(optimal_params.best_estimator_)\n"
   ]
  },
  {
   "cell_type": "code",
   "execution_count": 30,
   "id": "d0dc6248",
   "metadata": {},
   "outputs": [
    {
     "name": "stdout",
     "output_type": "stream",
     "text": [
      "RandomForestClassifier(n_estimators=40)\n"
     ]
    }
   ],
   "source": [
    "'''\n",
    "    Tuning the RandomForest \n",
    "'''\n",
    "\n",
    "param_grid_rfc = {\n",
    "        'n_estimators': [20,40,60,80,100]\n",
    "    }\n",
    "\n",
    "optimal_params = GridSearchCV(estimator = RandomForestClassifier(),param_grid= param_grid_rfc,\n",
    "    cv=10,\n",
    "    scoring='accuracy',\n",
    "    verbose=0\n",
    ") \n",
    "optimal_params.fit(X_train, y_train)\n",
    "print(optimal_params.best_estimator_)\n",
    "\n"
   ]
  },
  {
   "cell_type": "code",
   "execution_count": 31,
   "id": "8c71421a",
   "metadata": {},
   "outputs": [
    {
     "name": "stdout",
     "output_type": "stream",
     "text": [
      "LogisticRegression(C=10)\n"
     ]
    }
   ],
   "source": [
    "'''\n",
    "    Tuning the RandomForest \n",
    "'''\n",
    "param_grid_lrc = [\n",
    "{\n",
    "        'C': [10, 15,20,30],\n",
    "     }\n",
    "\n",
    "]\n",
    "\n",
    "optimal_params = GridSearchCV(estimator = LogisticRegression(),param_grid= param_grid_lrc,\n",
    "    cv=10,\n",
    "    scoring='accuracy',\n",
    "    verbose=0\n",
    ") \n",
    "optimal_params.fit(X_train, y_train)\n",
    "print(optimal_params.best_estimator_)\n"
   ]
  },
  {
   "cell_type": "code",
   "execution_count": 32,
   "id": "4000b789",
   "metadata": {},
   "outputs": [
    {
     "name": "stdout",
     "output_type": "stream",
     "text": [
      "DecisionTreeClassifier(random_state=2)\n"
     ]
    }
   ],
   "source": [
    "'''\n",
    "    Tuning the Decision Tree (CART) \n",
    "'''\n",
    "param_grid_dtc = [\n",
    "{\n",
    "        'criterion': [\"gini\"],\n",
    "        'random_state':[None, 1,2,4,8,10]\n",
    "     }\n",
    "\n",
    "]\n",
    "\n",
    "optimal_params = GridSearchCV(estimator = DecisionTreeClassifier(),param_grid= param_grid_dtc,\n",
    "    cv= 10,\n",
    "    scoring ='accuracy',\n",
    "    verbose=0\n",
    ") \n",
    "optimal_params.fit(X_train, y_train)\n",
    "print(optimal_params.best_estimator_)"
   ]
  },
  {
   "cell_type": "markdown",
   "id": "16acb6f7",
   "metadata": {},
   "source": [
    "## OPTIMIZED MODEL(Performance)"
   ]
  },
  {
   "cell_type": "code",
   "execution_count": 33,
   "id": "322d9b8d",
   "metadata": {},
   "outputs": [
    {
     "name": "stdout",
     "output_type": "stream",
     "text": [
      "             Algorithm  Accuracy  Precision  F_scores  MCC_scores\n",
      "9          BernoulliNB  0.957143   1.000000  0.953846    0.917403\n",
      "8        MultinomialNB  0.942857   0.894737  0.944444    0.891808\n",
      "0           SVM_Linear  0.928571   1.000000  0.920635    0.865404\n",
      "2         SVM_Gaussian  0.928571   1.000000  0.920635    0.865404\n",
      "5  LogisticsRegression  0.928571   0.967742  0.923077    0.859860\n",
      "6         RandomForest  0.928571   0.967742  0.923077    0.859860\n",
      "4                 CART  0.871429   0.857143  0.869565    0.743161\n",
      "1       SVM_Polynomial  0.842857   1.000000  0.807018    0.719825\n",
      "7           GaussianNB  0.814286   0.838710  0.800000    0.629687\n",
      "3           KNNeighbor  0.685714   1.000000  0.521739    0.468046\n"
     ]
    },
    {
     "data": {
      "text/plain": [
       "<AxesSubplot:xlabel='Algorithm'>"
      ]
     },
     "execution_count": 33,
     "metadata": {},
     "output_type": "execute_result"
    },
    {
     "data": {
      "image/png": "[encoded data removed]",
      "text/plain": [
       "<Figure size 720x432 with 1 Axes>"
      ]
     },
     "metadata": {
      "needs_background": "light"
     },
     "output_type": "display_data"
    },
    {
     "data": {
      "image/png": "[encoded data removed]",
      "text/plain": [
       "<Figure size 720x432 with 1 Axes>"
      ]
     },
     "metadata": {
      "needs_background": "light"
     },
     "output_type": "display_data"
    },
    {
     "data": {
      "image/png": "[encoded data removed]",
      "text/plain": [
       "<Figure size 720x432 with 1 Axes>"
      ]
     },
     "metadata": {
      "needs_background": "light"
     },
     "output_type": "display_data"
    }
   ],
   "source": [
    "svc_Linear = SVC(kernel='linear', C=1, gamma = \"scale\")\n",
    "svc_Polynomial = SVC(kernel='poly', C= 1, gamma = \"scale\")\n",
    "svc_Gaussian = SVC(kernel='rbf',C = 10, gamma= 0.1)\n",
    "knc = KNeighborsClassifier(n_neighbors=1, algorithm= \"auto\")\n",
    "mnb = MultinomialNB()\n",
    "dtc = DecisionTreeClassifier(random_state=2)\n",
    "lrc = LogisticRegression(solver='liblinear', penalty='l1', C = 10)\n",
    "rfc = RandomForestClassifier(n_estimators=20, random_state=10)\n",
    "gnb = GaussianNB( var_smoothing=0.15199110829529336)\n",
    "bnb = BernoulliNB()\n",
    "\n",
    "clfs = {\n",
    "    'SVM_Linear' : svc_Linear,\n",
    "    'SVM_Polynomial' : svc_Polynomial,\n",
    "    'SVM_Gaussian' : svc_Gaussian,\n",
    "    'KNNeighbor' : knc, \n",
    "    'CART': dtc, \n",
    "    'LogisticsRegression': lrc, \n",
    "    'RandomForest': rfc, \n",
    "    'GaussianNB': gnb,\n",
    "    'MultinomialNB': mnb,\n",
    "    'BernoulliNB':bnb\n",
    "}\n",
    "\n",
    "def train_classifier(clf,X_train,y_train,X_test,y_test):\n",
    "    clf.fit(X_train,y_train)\n",
    "    y_pred = clf.predict(X_test)\n",
    "    accuracy = accuracy_score(y_test,y_pred)\n",
    "    precision = precision_score(y_test,y_pred)\n",
    "    f_score = f1_score(y_test, y_pred)\n",
    "    con_matrices =confusion_matrix(y_test,y_pred)\n",
    "    return accuracy,precision,f_score,con_matrices\n",
    "\n",
    "'''\n",
    "    Arranging the performance based on the Matthew correlation coefficient in descending order for each Algorithm\n",
    "'''\n",
    "performance_psy = pd.DataFrame({'Algorithm':clfs.keys(),'Accuracy':accuracy_scores,'Precision':precision_scores, 'F_scores':f1_scores, 'MCC_scores': mcc_scores}).sort_values('MCC_scores', ascending=False)\n",
    "print(performance_psy)\n",
    "\n",
    "performance_psy.plot(x='Algorithm', y='MCC_scores', label='MCC_ scores for Techniques ', figsize = [10,6] )\n",
    "\n",
    "performance_psy.plot(x='Algorithm', y='Accuracy', label='Accuracy for Techniques ', figsize = [10,6] )\n",
    "\n",
    "performance_psy.plot(x='Algorithm', y='Precision', label='Precision for Techniques ', figsize = [10,6] )"
   ]
  },
  {
   "cell_type": "code",
   "execution_count": 34,
   "id": "ed151cbb",
   "metadata": {},
   "outputs": [
    {
     "data": {
      "text/plain": [
       "<AxesSubplot:>"
      ]
     },
     "execution_count": 34,
     "metadata": {},
     "output_type": "execute_result"
    },
    {
     "data": {
      "image/png": "[encoded data removed]",
      "text/plain": [
       "<Figure size 504x648 with 2 Axes>"
      ]
     },
     "metadata": {
      "needs_background": "light"
     },
     "output_type": "display_data"
    }
   ],
   "source": [
    "import seaborn as sns\n",
    "'''\n",
    "    A Heatmap confusion matrix for the predicted outcome for Linear support Vector Algorithms\n",
    "'''\n",
    "lrc.fit(X_train,y_train)\n",
    "y_pred_lrc = lrc.predict(X_test)\n",
    "cm = confusion_matrix(y_test,y_pred_lrc)\n",
    "plt.figure(figsize=(7,9))\n",
    "sns.heatmap(cm/np.sum(cm), annot=True, fmt='.2%', cmap='Blues')\n"
   ]
  },
  {
   "cell_type": "code",
   "execution_count": 35,
   "id": "73c136f7",
   "metadata": {},
   "outputs": [
    {
     "data": {
      "text/plain": [
       "<AxesSubplot:>"
      ]
     },
     "execution_count": 35,
     "metadata": {},
     "output_type": "execute_result"
    },
    {
     "data": {
      "image/png": "[encoded data removed]",
      "text/plain": [
       "<Figure size 504x648 with 2 Axes>"
      ]
     },
     "metadata": {
      "needs_background": "light"
     },
     "output_type": "display_data"
    }
   ],
   "source": [
    "svc_Linear.fit(X_train,y_train)\n",
    "y_pred_svc_Linear = svc_Linear.predict(X_test)\n",
    "cm = confusion_matrix(y_test,y_pred_svc_Linear)\n",
    "plt.figure(figsize=(7,9))\n",
    "sns.heatmap(cm/np.sum(cm), annot=True, fmt='.2%', cmap='Blues')"
   ]
  },
  {
   "cell_type": "code",
   "execution_count": 36,
   "id": "d2448182",
   "metadata": {},
   "outputs": [
    {
     "data": {
      "text/plain": [
       "<AxesSubplot:>"
      ]
     },
     "execution_count": 36,
     "metadata": {},
     "output_type": "execute_result"
    },
    {
     "data": {
      "image/png": "[encoded data removed]",
      "text/plain": [
       "<Figure size 504x648 with 2 Axes>"
      ]
     },
     "metadata": {
      "needs_background": "light"
     },
     "output_type": "display_data"
    }
   ],
   "source": [
    "\n",
    "bnb.fit(X_train,y_train)\n",
    "y_pred_bnb = bnb.predict(X_test)\n",
    "cm = confusion_matrix(y_test,y_pred_bnb)\n",
    "plt.figure(figsize=(7,9))\n",
    "sns.heatmap(cm/np.sum(cm), annot=True, fmt='.2%', cmap='Blues')"
   ]
  },
  {
   "cell_type": "code",
   "execution_count": null,
   "id": "4cb5ba20",
   "metadata": {},
   "outputs": [],
   "source": [
    "\n",
    "lrc.fit(X_train,y_train)\n",
    "y_pred_lrc = lrc.predict(X_test)\n",
    "cm = confusion_matrix(y_test,y_pred_lrc)\n",
    "plt.figure(figsize=(7,9))\n",
    "sns.heatmap(cm/np.sum(cm), annot=True, fmt='.2%', cmap='Blues')"
   ]
  }
 ],
 "metadata": {
  "kernelspec": {
   "display_name": "Python 3 (ipykernel)",
   "language": "python",
   "name": "python3"
  },
  "language_info": {
   "codemirror_mode": {
    "name": "ipython",
    "version": 3
   },
   "file_extension": ".py",
   "mimetype": "text/x-python",
   "name": "python",
   "nbconvert_exporter": "python",
   "pygments_lexer": "ipython3",
   "version": "3.8.8"
  }
 },
 "nbformat": 4,
 "nbformat_minor": 5
}

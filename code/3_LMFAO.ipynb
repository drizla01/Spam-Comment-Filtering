{
 "cells": [
  {
   "cell_type": "code",
   "execution_count": 2,
   "id": "3a518843",
   "metadata": {},
   "outputs": [],
   "source": [
    "import matplotlib.pyplot as plt\n",
    "import pandas as pd\n",
    "import numpy as np"
   ]
  },
  {
   "cell_type": "code",
   "execution_count": 3,
   "id": "8b160cee",
   "metadata": {},
   "outputs": [
    {
     "data": {
      "text/html": [
       "<div>\n",
       "<style scoped>\n",
       "    .dataframe tbody tr th:only-of-type {\n",
       "        vertical-align: middle;\n",
       "    }\n",
       "\n",
       "    .dataframe tbody tr th {\n",
       "        vertical-align: top;\n",
       "    }\n",
       "\n",
       "    .dataframe thead th {\n",
       "        text-align: right;\n",
       "    }\n",
       "</style>\n",
       "<table border=\"1\" class=\"dataframe\">\n",
       "  <thead>\n",
       "    <tr style=\"text-align: right;\">\n",
       "      <th></th>\n",
       "      <th>COMMENT_ID</th>\n",
       "      <th>AUTHOR</th>\n",
       "      <th>DATE</th>\n",
       "      <th>CONTENT</th>\n",
       "      <th>CLASS</th>\n",
       "    </tr>\n",
       "  </thead>\n",
       "  <tbody>\n",
       "    <tr>\n",
       "      <th>0</th>\n",
       "      <td>z13uwn2heqndtr5g304ccv5j5kqqzxjadmc0k</td>\n",
       "      <td>Corey Wilson</td>\n",
       "      <td>2015-05-28T21:39:52.376000</td>\n",
       "      <td>&lt;a href=\"http://www.youtube.com/watch?v=KQ6zr6...</td>\n",
       "      <td>0</td>\n",
       "    </tr>\n",
       "    <tr>\n",
       "      <th>1</th>\n",
       "      <td>z124jvczaz3dxhnbc04cffk43oiugj25yzo0k</td>\n",
       "      <td>Epic Gaming</td>\n",
       "      <td>2015-05-28T20:07:20.610000</td>\n",
       "      <td>wierd but funny﻿</td>\n",
       "      <td>0</td>\n",
       "    </tr>\n",
       "    <tr>\n",
       "      <th>2</th>\n",
       "      <td>z13tczjy5xj0vjmu5231unho1ofey5zdk</td>\n",
       "      <td>LaS Music</td>\n",
       "      <td>2015-05-28T19:23:35.355000</td>\n",
       "      <td>Hey guys, I&amp;#39;m a human.&lt;br /&gt;&lt;br /&gt;&lt;br /&gt;Bu...</td>\n",
       "      <td>1</td>\n",
       "    </tr>\n",
       "    <tr>\n",
       "      <th>3</th>\n",
       "      <td>z13tzr0hdpnayhqqc04cd3zqqqjkf3ngckk0k</td>\n",
       "      <td>Cheryl Fox</td>\n",
       "      <td>2015-05-28T17:49:35.294000</td>\n",
       "      <td>Party Rock....lol...who wants to shuffle!!!﻿</td>\n",
       "      <td>0</td>\n",
       "    </tr>\n",
       "    <tr>\n",
       "      <th>4</th>\n",
       "      <td>z12pcvix4zedcjvyb04ccr1r0mr2g5xwyng0k</td>\n",
       "      <td>PATRICK_TW</td>\n",
       "      <td>2015-05-28T16:28:26.818000</td>\n",
       "      <td>Party rock﻿</td>\n",
       "      <td>0</td>\n",
       "    </tr>\n",
       "    <tr>\n",
       "      <th>...</th>\n",
       "      <td>...</td>\n",
       "      <td>...</td>\n",
       "      <td>...</td>\n",
       "      <td>...</td>\n",
       "      <td>...</td>\n",
       "    </tr>\n",
       "    <tr>\n",
       "      <th>433</th>\n",
       "      <td>z13lvr4iupatjlrem231yvpxolzvspwdl</td>\n",
       "      <td>Salty Croc</td>\n",
       "      <td>2014-07-22T04:20:37.489000</td>\n",
       "      <td>Like this comment for no reason﻿</td>\n",
       "      <td>1</td>\n",
       "    </tr>\n",
       "    <tr>\n",
       "      <th>434</th>\n",
       "      <td>z12lxhrqdkyusbkji04cihtrvn3jvxnqszg0k</td>\n",
       "      <td>Bob Orton</td>\n",
       "      <td>2014-07-22T00:26:50.820000</td>\n",
       "      <td>love this song﻿</td>\n",
       "      <td>0</td>\n",
       "    </tr>\n",
       "    <tr>\n",
       "      <th>435</th>\n",
       "      <td>z12xhdjrsxm3v550w22oynsjrnmvjhkvj</td>\n",
       "      <td>LuckyMusiqLive</td>\n",
       "      <td>2014-07-21T22:25:54.048000</td>\n",
       "      <td>this song is awesome. these guys are the best....</td>\n",
       "      <td>1</td>\n",
       "    </tr>\n",
       "    <tr>\n",
       "      <th>436</th>\n",
       "      <td>z13msngo3qvwx1ym223pehqgouexzdmnm</td>\n",
       "      <td>xXxPWND 420xXx</td>\n",
       "      <td>2014-07-21T11:05:51.945000</td>\n",
       "      <td>HOW MANY THUMBS UP FOR LOUIS SAVING THE DAY!?!?﻿</td>\n",
       "      <td>1</td>\n",
       "    </tr>\n",
       "    <tr>\n",
       "      <th>437</th>\n",
       "      <td>z120hptrylzqzdsoj04cepaonmuyyr1afj0</td>\n",
       "      <td>Matheus Macedo</td>\n",
       "      <td>2014-07-21T04:24:24.585000</td>\n",
       "      <td>NICE :3﻿</td>\n",
       "      <td>0</td>\n",
       "    </tr>\n",
       "  </tbody>\n",
       "</table>\n",
       "<p>438 rows × 5 columns</p>\n",
       "</div>"
      ],
      "text/plain": [
       "                                COMMENT_ID          AUTHOR  \\\n",
       "0    z13uwn2heqndtr5g304ccv5j5kqqzxjadmc0k    Corey Wilson   \n",
       "1    z124jvczaz3dxhnbc04cffk43oiugj25yzo0k     Epic Gaming   \n",
       "2        z13tczjy5xj0vjmu5231unho1ofey5zdk       LaS Music   \n",
       "3    z13tzr0hdpnayhqqc04cd3zqqqjkf3ngckk0k      Cheryl Fox   \n",
       "4    z12pcvix4zedcjvyb04ccr1r0mr2g5xwyng0k      PATRICK_TW   \n",
       "..                                     ...             ...   \n",
       "433      z13lvr4iupatjlrem231yvpxolzvspwdl      Salty Croc   \n",
       "434  z12lxhrqdkyusbkji04cihtrvn3jvxnqszg0k       Bob Orton   \n",
       "435      z12xhdjrsxm3v550w22oynsjrnmvjhkvj  LuckyMusiqLive   \n",
       "436      z13msngo3qvwx1ym223pehqgouexzdmnm  xXxPWND 420xXx   \n",
       "437    z120hptrylzqzdsoj04cepaonmuyyr1afj0  Matheus Macedo   \n",
       "\n",
       "                           DATE  \\\n",
       "0    2015-05-28T21:39:52.376000   \n",
       "1    2015-05-28T20:07:20.610000   \n",
       "2    2015-05-28T19:23:35.355000   \n",
       "3    2015-05-28T17:49:35.294000   \n",
       "4    2015-05-28T16:28:26.818000   \n",
       "..                          ...   \n",
       "433  2014-07-22T04:20:37.489000   \n",
       "434  2014-07-22T00:26:50.820000   \n",
       "435  2014-07-21T22:25:54.048000   \n",
       "436  2014-07-21T11:05:51.945000   \n",
       "437  2014-07-21T04:24:24.585000   \n",
       "\n",
       "                                               CONTENT  CLASS  \n",
       "0    <a href=\"http://www.youtube.com/watch?v=KQ6zr6...      0  \n",
       "1                                     wierd but funny﻿      0  \n",
       "2    Hey guys, I&#39;m a human.<br /><br /><br />Bu...      1  \n",
       "3         Party Rock....lol...who wants to shuffle!!!﻿      0  \n",
       "4                                          Party rock﻿      0  \n",
       "..                                                 ...    ...  \n",
       "433                   Like this comment for no reason﻿      1  \n",
       "434                                    love this song﻿      0  \n",
       "435  this song is awesome. these guys are the best....      1  \n",
       "436   HOW MANY THUMBS UP FOR LOUIS SAVING THE DAY!?!?﻿      1  \n",
       "437                                           NICE :3﻿      0  \n",
       "\n",
       "[438 rows x 5 columns]"
      ]
     },
     "execution_count": 3,
     "metadata": {},
     "output_type": "execute_result"
    }
   ],
   "source": [
    "lmfao = pd.read_csv(\"Youtube03-LMFAO.csv\")  \n",
    "lmfao"
   ]
  },
  {
   "cell_type": "code",
   "execution_count": 4,
   "id": "ea7c1c9c",
   "metadata": {},
   "outputs": [
    {
     "data": {
      "text/html": [
       "<div>\n",
       "<style scoped>\n",
       "    .dataframe tbody tr th:only-of-type {\n",
       "        vertical-align: middle;\n",
       "    }\n",
       "\n",
       "    .dataframe tbody tr th {\n",
       "        vertical-align: top;\n",
       "    }\n",
       "\n",
       "    .dataframe thead th {\n",
       "        text-align: right;\n",
       "    }\n",
       "</style>\n",
       "<table border=\"1\" class=\"dataframe\">\n",
       "  <thead>\n",
       "    <tr style=\"text-align: right;\">\n",
       "      <th></th>\n",
       "      <th>CONTENT</th>\n",
       "      <th>CLASS</th>\n",
       "    </tr>\n",
       "  </thead>\n",
       "  <tbody>\n",
       "    <tr>\n",
       "      <th>0</th>\n",
       "      <td>&lt;a href=\"http://www.youtube.com/watch?v=KQ6zr6...</td>\n",
       "      <td>0</td>\n",
       "    </tr>\n",
       "    <tr>\n",
       "      <th>1</th>\n",
       "      <td>wierd but funny﻿</td>\n",
       "      <td>0</td>\n",
       "    </tr>\n",
       "    <tr>\n",
       "      <th>2</th>\n",
       "      <td>Hey guys, I&amp;#39;m a human.&lt;br /&gt;&lt;br /&gt;&lt;br /&gt;Bu...</td>\n",
       "      <td>1</td>\n",
       "    </tr>\n",
       "    <tr>\n",
       "      <th>3</th>\n",
       "      <td>Party Rock....lol...who wants to shuffle!!!﻿</td>\n",
       "      <td>0</td>\n",
       "    </tr>\n",
       "    <tr>\n",
       "      <th>4</th>\n",
       "      <td>Party rock﻿</td>\n",
       "      <td>0</td>\n",
       "    </tr>\n",
       "    <tr>\n",
       "      <th>...</th>\n",
       "      <td>...</td>\n",
       "      <td>...</td>\n",
       "    </tr>\n",
       "    <tr>\n",
       "      <th>433</th>\n",
       "      <td>Like this comment for no reason﻿</td>\n",
       "      <td>1</td>\n",
       "    </tr>\n",
       "    <tr>\n",
       "      <th>434</th>\n",
       "      <td>love this song﻿</td>\n",
       "      <td>0</td>\n",
       "    </tr>\n",
       "    <tr>\n",
       "      <th>435</th>\n",
       "      <td>this song is awesome. these guys are the best....</td>\n",
       "      <td>1</td>\n",
       "    </tr>\n",
       "    <tr>\n",
       "      <th>436</th>\n",
       "      <td>HOW MANY THUMBS UP FOR LOUIS SAVING THE DAY!?!?﻿</td>\n",
       "      <td>1</td>\n",
       "    </tr>\n",
       "    <tr>\n",
       "      <th>437</th>\n",
       "      <td>NICE :3﻿</td>\n",
       "      <td>0</td>\n",
       "    </tr>\n",
       "  </tbody>\n",
       "</table>\n",
       "<p>438 rows × 2 columns</p>\n",
       "</div>"
      ],
      "text/plain": [
       "                                               CONTENT  CLASS\n",
       "0    <a href=\"http://www.youtube.com/watch?v=KQ6zr6...      0\n",
       "1                                     wierd but funny﻿      0\n",
       "2    Hey guys, I&#39;m a human.<br /><br /><br />Bu...      1\n",
       "3         Party Rock....lol...who wants to shuffle!!!﻿      0\n",
       "4                                          Party rock﻿      0\n",
       "..                                                 ...    ...\n",
       "433                   Like this comment for no reason﻿      1\n",
       "434                                    love this song﻿      0\n",
       "435  this song is awesome. these guys are the best....      1\n",
       "436   HOW MANY THUMBS UP FOR LOUIS SAVING THE DAY!?!?﻿      1\n",
       "437                                           NICE :3﻿      0\n",
       "\n",
       "[438 rows x 2 columns]"
      ]
     },
     "execution_count": 4,
     "metadata": {},
     "output_type": "execute_result"
    }
   ],
   "source": [
    "lmfao.drop(columns=['COMMENT_ID', 'AUTHOR','DATE'], inplace = True)\n",
    "lmfao   #spam = 1, ham(legimimate) = 0"
   ]
  },
  {
   "cell_type": "code",
   "execution_count": 5,
   "id": "46f80917",
   "metadata": {},
   "outputs": [
    {
     "data": {
      "text/plain": [
       "CONTENT    False\n",
       "CLASS      False\n",
       "dtype: bool"
      ]
     },
     "execution_count": 5,
     "metadata": {},
     "output_type": "execute_result"
    }
   ],
   "source": [
    "lmfao.isna().any()"
   ]
  },
  {
   "cell_type": "code",
   "execution_count": 6,
   "id": "76ce8465",
   "metadata": {},
   "outputs": [
    {
     "data": {
      "text/plain": [
       "0"
      ]
     },
     "execution_count": 6,
     "metadata": {},
     "output_type": "execute_result"
    }
   ],
   "source": [
    "lmfao.drop_duplicates(inplace = True)\n",
    "lmfao.duplicated().sum()"
   ]
  },
  {
   "cell_type": "code",
   "execution_count": 7,
   "id": "0d48b433",
   "metadata": {},
   "outputs": [
    {
     "data": {
      "text/plain": [
       "CONTENT    145\n",
       "CLASS      145\n",
       "dtype: int64"
      ]
     },
     "execution_count": 7,
     "metadata": {},
     "output_type": "execute_result"
    }
   ],
   "source": [
    "lmfao[lmfao['CLASS']== 1].count()"
   ]
  },
  {
   "cell_type": "code",
   "execution_count": 8,
   "id": "731f0006",
   "metadata": {},
   "outputs": [
    {
     "data": {
      "text/plain": [
       "CONTENT    195\n",
       "CLASS      195\n",
       "dtype: int64"
      ]
     },
     "execution_count": 8,
     "metadata": {},
     "output_type": "execute_result"
    }
   ],
   "source": [
    "# ham\n",
    "lmfao[lmfao['CLASS'] == 0].count()"
   ]
  },
  {
   "cell_type": "markdown",
   "id": "3dc321c5",
   "metadata": {},
   "source": [
    "## Data Preprocessing"
   ]
  },
  {
   "cell_type": "code",
   "execution_count": 9,
   "id": "f5d47b80",
   "metadata": {},
   "outputs": [],
   "source": [
    "import nltk\n",
    "import string\n",
    "from nltk.corpus import stopwords\n",
    "from nltk.stem.wordnet import WordNetLemmatizer\n",
    "from nltk.tokenize import word_tokenize\n",
    "from nltk.stem.porter import PorterStemmer\n",
    "ps = PorterStemmer()"
   ]
  },
  {
   "cell_type": "code",
   "execution_count": 10,
   "id": "5852c054",
   "metadata": {},
   "outputs": [],
   "source": [
    "'''\n",
    "Create a function that\n",
    "- changes all the words to lower case\n",
    "- tokenize the words\n",
    "- remove special characters\n",
    "- remove stop words and punctuation\n",
    "- stemming\n",
    "\n",
    "'''\n",
    "\n",
    "def text_processing(CONTENT):\n",
    "    text = CONTENT.lower()\n",
    "    text = nltk.word_tokenize(text)\n",
    "\n",
    "    y = []\n",
    "    for i in text:\n",
    "        if i.isalnum():\n",
    "            y.append(i)\n",
    "    text = y[:]\n",
    "    y.clear()\n",
    "    \n",
    "    for j in text:\n",
    "        if j not in stopwords.words('english') and i not in string.punctuation:\n",
    "            y.append(j)\n",
    "    text = y[:]\n",
    "    y.clear()\n",
    "\n",
    "    for w in text:\n",
    "     #   y.append(ps.stem(w))     incase for stemming\n",
    "        y.append(w)\n",
    "    return \" \".join(y)\n",
    "\n",
    "    "
   ]
  },
  {
   "cell_type": "code",
   "execution_count": 11,
   "id": "8c466bcd",
   "metadata": {},
   "outputs": [
    {
     "data": {
      "text/html": [
       "<div>\n",
       "<style scoped>\n",
       "    .dataframe tbody tr th:only-of-type {\n",
       "        vertical-align: middle;\n",
       "    }\n",
       "\n",
       "    .dataframe tbody tr th {\n",
       "        vertical-align: top;\n",
       "    }\n",
       "\n",
       "    .dataframe thead th {\n",
       "        text-align: right;\n",
       "    }\n",
       "</style>\n",
       "<table border=\"1\" class=\"dataframe\">\n",
       "  <thead>\n",
       "    <tr style=\"text-align: right;\">\n",
       "      <th></th>\n",
       "      <th>CONTENT</th>\n",
       "      <th>CLASS</th>\n",
       "      <th>TEXT_PROCESSED</th>\n",
       "    </tr>\n",
       "  </thead>\n",
       "  <tbody>\n",
       "    <tr>\n",
       "      <th>0</th>\n",
       "      <td>&lt;a href=\"http://www.youtube.com/watch?v=KQ6zr6...</td>\n",
       "      <td>0</td>\n",
       "      <td>http amp best</td>\n",
       "    </tr>\n",
       "    <tr>\n",
       "      <th>1</th>\n",
       "      <td>wierd but funny﻿</td>\n",
       "      <td>0</td>\n",
       "      <td>wierd</td>\n",
       "    </tr>\n",
       "    <tr>\n",
       "      <th>2</th>\n",
       "      <td>Hey guys, I&amp;#39;m a human.&lt;br /&gt;&lt;br /&gt;&lt;br /&gt;Bu...</td>\n",
       "      <td>1</td>\n",
       "      <td>hey guys 39 br br br 39 want human want sexy f...</td>\n",
       "    </tr>\n",
       "    <tr>\n",
       "      <th>3</th>\n",
       "      <td>Party Rock....lol...who wants to shuffle!!!﻿</td>\n",
       "      <td>0</td>\n",
       "      <td>party rock lol wants shuffle</td>\n",
       "    </tr>\n",
       "    <tr>\n",
       "      <th>4</th>\n",
       "      <td>Party rock﻿</td>\n",
       "      <td>0</td>\n",
       "      <td>party</td>\n",
       "    </tr>\n",
       "    <tr>\n",
       "      <th>5</th>\n",
       "      <td>Shuffle﻿</td>\n",
       "      <td>0</td>\n",
       "      <td></td>\n",
       "    </tr>\n",
       "    <tr>\n",
       "      <th>6</th>\n",
       "      <td>Omg﻿</td>\n",
       "      <td>0</td>\n",
       "      <td></td>\n",
       "    </tr>\n",
       "    <tr>\n",
       "      <th>7</th>\n",
       "      <td>This song is just really fun ﻿</td>\n",
       "      <td>0</td>\n",
       "      <td>song really fun</td>\n",
       "    </tr>\n",
       "    <tr>\n",
       "      <th>8</th>\n",
       "      <td>Awsome&lt;br /&gt;﻿</td>\n",
       "      <td>0</td>\n",
       "      <td>awsome br</td>\n",
       "    </tr>\n",
       "    <tr>\n",
       "      <th>9</th>\n",
       "      <td>wow!!!!!! increible song!!!!!!!!!﻿</td>\n",
       "      <td>0</td>\n",
       "      <td>wow increible song</td>\n",
       "    </tr>\n",
       "    <tr>\n",
       "      <th>10</th>\n",
       "      <td>I love this song so much﻿</td>\n",
       "      <td>0</td>\n",
       "      <td>love song</td>\n",
       "    </tr>\n",
       "    <tr>\n",
       "      <th>11</th>\n",
       "      <td>2015 LIKEEE﻿</td>\n",
       "      <td>0</td>\n",
       "      <td>2015</td>\n",
       "    </tr>\n",
       "    <tr>\n",
       "      <th>12</th>\n",
       "      <td>I miss when people dressed like this.﻿</td>\n",
       "      <td>0</td>\n",
       "      <td>miss people dressed like</td>\n",
       "    </tr>\n",
       "    <tr>\n",
       "      <th>13</th>\n",
       "      <td>2011- the last year of decent music.﻿</td>\n",
       "      <td>0</td>\n",
       "      <td>last year decent</td>\n",
       "    </tr>\n",
       "    <tr>\n",
       "      <th>14</th>\n",
       "      <td>Best song ever!!!!﻿</td>\n",
       "      <td>0</td>\n",
       "      <td>best song ever</td>\n",
       "    </tr>\n",
       "    <tr>\n",
       "      <th>15</th>\n",
       "      <td>super nice, love musique﻿</td>\n",
       "      <td>0</td>\n",
       "      <td>super nice love</td>\n",
       "    </tr>\n",
       "    <tr>\n",
       "      <th>16</th>\n",
       "      <td>wowwwwwwwwwwwwwwwwwwwwwwwwwwwwww﻿</td>\n",
       "      <td>0</td>\n",
       "      <td></td>\n",
       "    </tr>\n",
       "    <tr>\n",
       "      <th>17</th>\n",
       "      <td>PARTY ROCK (8) ~﻿</td>\n",
       "      <td>0</td>\n",
       "      <td>party rock 8</td>\n",
       "    </tr>\n",
       "    <tr>\n",
       "      <th>18</th>\n",
       "      <td>Thumbs up if you watched it in 2011﻿</td>\n",
       "      <td>0</td>\n",
       "      <td>thumbs watched</td>\n",
       "    </tr>\n",
       "    <tr>\n",
       "      <th>19</th>\n",
       "      <td>this is increidebl﻿</td>\n",
       "      <td>0</td>\n",
       "      <td></td>\n",
       "    </tr>\n",
       "  </tbody>\n",
       "</table>\n",
       "</div>"
      ],
      "text/plain": [
       "                                              CONTENT  CLASS  \\\n",
       "0   <a href=\"http://www.youtube.com/watch?v=KQ6zr6...      0   \n",
       "1                                    wierd but funny﻿      0   \n",
       "2   Hey guys, I&#39;m a human.<br /><br /><br />Bu...      1   \n",
       "3        Party Rock....lol...who wants to shuffle!!!﻿      0   \n",
       "4                                         Party rock﻿      0   \n",
       "5                                            Shuffle﻿      0   \n",
       "6                                                Omg﻿      0   \n",
       "7                      This song is just really fun ﻿      0   \n",
       "8                                       Awsome<br />﻿      0   \n",
       "9                  wow!!!!!! increible song!!!!!!!!!﻿      0   \n",
       "10                          I love this song so much﻿      0   \n",
       "11                                       2015 LIKEEE﻿      0   \n",
       "12             I miss when people dressed like this.﻿      0   \n",
       "13              2011- the last year of decent music.﻿      0   \n",
       "14                                Best song ever!!!!﻿      0   \n",
       "15                          super nice, love musique﻿      0   \n",
       "16                  wowwwwwwwwwwwwwwwwwwwwwwwwwwwwww﻿      0   \n",
       "17                                  PARTY ROCK (8) ~﻿      0   \n",
       "18               Thumbs up if you watched it in 2011﻿      0   \n",
       "19                                this is increidebl﻿      0   \n",
       "\n",
       "                                       TEXT_PROCESSED  \n",
       "0                                       http amp best  \n",
       "1                                               wierd  \n",
       "2   hey guys 39 br br br 39 want human want sexy f...  \n",
       "3                        party rock lol wants shuffle  \n",
       "4                                               party  \n",
       "5                                                      \n",
       "6                                                      \n",
       "7                                     song really fun  \n",
       "8                                           awsome br  \n",
       "9                                  wow increible song  \n",
       "10                                          love song  \n",
       "11                                               2015  \n",
       "12                           miss people dressed like  \n",
       "13                                   last year decent  \n",
       "14                                     best song ever  \n",
       "15                                    super nice love  \n",
       "16                                                     \n",
       "17                                       party rock 8  \n",
       "18                                     thumbs watched  \n",
       "19                                                     "
      ]
     },
     "execution_count": 11,
     "metadata": {},
     "output_type": "execute_result"
    }
   ],
   "source": [
    "#Adding a new column for the processed text from the content column\n",
    "lmfao['TEXT_PROCESSED'] = lmfao['CONTENT'].apply(text_processing)\n",
    "lmfao.head(20)"
   ]
  },
  {
   "cell_type": "markdown",
   "id": "a08ca87d",
   "metadata": {},
   "source": [
    "## Model Building\n",
    "Algorithm used are\n",
    "- Support Vector Classification(Linear, Polynomial, Gaussian)\n",
    "- The Naive Bayes Method(Multinomial, Bernouli, Gaussian)\n",
    "- Random Forest\n",
    "- Decision Tree(CART)\n",
    "- KNNeighbor\n",
    "- Logistics Regression"
   ]
  },
  {
   "cell_type": "code",
   "execution_count": 12,
   "id": "d164d424",
   "metadata": {},
   "outputs": [
    {
     "data": {
      "text/plain": [
       "(340, 715)"
      ]
     },
     "execution_count": 12,
     "metadata": {},
     "output_type": "execute_result"
    }
   ],
   "source": [
    "from sklearn.feature_extraction.text import CountVectorizer, TfidfVectorizer\n",
    "tfidf = TfidfVectorizer(max_features = 3000 )\n",
    "X = tfidf.fit_transform(lmfao['TEXT_PROCESSED']).toarray()\n",
    "y = lmfao['CLASS'].values\n",
    "#X.shape\n",
    "#X = CountVectorizer(analyzer=text_processing).fit_transform(psy['CONTENT'])\n",
    "#bag_of_words.shape\n",
    "X.shape\n"
   ]
  },
  {
   "cell_type": "code",
   "execution_count": 13,
   "id": "772e9a22",
   "metadata": {},
   "outputs": [],
   "source": [
    "'''\n",
    "splitting the data into training and testing set \n",
    "importing the necessary library for the Supervised Techniques and checking the accuracy/validity of the model\n",
    "'''\n",
    "from sklearn.model_selection import train_test_split\n",
    "X_train,X_test,y_train,y_test = train_test_split(X,y,test_size=0.2,random_state= 0)\n",
    "\n",
    "from sklearn.linear_model import LogisticRegression\n",
    "from sklearn.svm import SVC\n",
    "from sklearn.tree import DecisionTreeClassifier\n",
    "from sklearn.neighbors import KNeighborsClassifier\n",
    "from sklearn.ensemble import RandomForestClassifier\n",
    "from sklearn.naive_bayes import GaussianNB,MultinomialNB,BernoulliNB\n",
    "from sklearn.metrics import accuracy_score,confusion_matrix,precision_score,f1_score, matthews_corrcoef"
   ]
  },
  {
   "cell_type": "code",
   "execution_count": 14,
   "id": "20fb1f15",
   "metadata": {},
   "outputs": [],
   "source": [
    "svc_Linear = SVC()\n",
    "svc_Polynomial = SVC(kernel='poly')\n",
    "svc_Gaussian = SVC(kernel='rbf')\n",
    "knc = KNeighborsClassifier(n_neighbors=3)\n",
    "dtc = DecisionTreeClassifier()\n",
    "lrc = LogisticRegression(solver='liblinear')\n",
    "rfc = RandomForestClassifier(n_estimators=80)\n",
    "gnb = GaussianNB()\n",
    "mnb = MultinomialNB()\n",
    "bnb = BernoulliNB()"
   ]
  },
  {
   "cell_type": "code",
   "execution_count": 15,
   "id": "3bfe4d19",
   "metadata": {},
   "outputs": [],
   "source": [
    "clfs = {\n",
    "    'SVM_Linear' : svc_Linear,\n",
    "    'SVM_Polynomial' : svc_Polynomial,\n",
    "    'SVM_Gaussian' : svc_Gaussian,\n",
    "    'KNNeighbor' : knc, \n",
    "    'CART': dtc, \n",
    "    'LogisticsRegression': lrc, \n",
    "    'RandomForest': rfc, \n",
    "    'GaussianNB': gnb,\n",
    "    'MultinomialNB': mnb,\n",
    "    'BernoulliNB':bnb\n",
    "}"
   ]
  },
  {
   "cell_type": "code",
   "execution_count": 16,
   "id": "c2815772",
   "metadata": {},
   "outputs": [],
   "source": [
    "def train_classifier(clf,X_train,y_train,X_test,y_test):\n",
    "    clf.fit(X_train,y_train)\n",
    "    y_pred = clf.predict(X_test)\n",
    "    accuracy = accuracy_score(y_test,y_pred)\n",
    "    precision = precision_score(y_test,y_pred)\n",
    "    f_score = f1_score(y_test, y_pred)\n",
    "    con_matrices =confusion_matrix(y_test,y_pred)\n",
    "    return accuracy,precision,f_score,con_matrices"
   ]
  },
  {
   "cell_type": "markdown",
   "id": "3decb08d",
   "metadata": {},
   "source": [
    "## Model Performance(UnOptimized)\n",
    "- Matthew correlation Coefficient\n",
    "- Accuracy\n",
    "- Precision\n",
    "- F_score\n",
    "- Confusion Matrix"
   ]
  },
  {
   "cell_type": "code",
   "execution_count": 17,
   "id": "f65583ef",
   "metadata": {},
   "outputs": [
    {
     "name": "stdout",
     "output_type": "stream",
     "text": [
      "==================\n",
      "SVM_Linear\n",
      "0.7954345035153529\n",
      "==================\n",
      "SVM_Polynomial\n",
      "0.599101459623125\n",
      "==================\n",
      "SVM_Gaussian\n",
      "0.7954345035153529\n",
      "==================\n",
      "KNNeighbor\n",
      "0.599101459623125\n",
      "==================\n",
      "CART\n",
      "0.8237032218195663\n",
      "==================\n",
      "LogisticsRegression\n",
      "0.8237032218195663\n",
      "==================\n",
      "RandomForest\n",
      "0.8237032218195663\n",
      "==================\n",
      "GaussianNB\n",
      "0.5951826485514292\n",
      "==================\n",
      "MultinomialNB\n",
      "0.7539274385619287\n",
      "==================\n",
      "BernoulliNB\n",
      "0.7393691004272944\n",
      "--------------------------------\n",
      "SVM_Linear\n",
      "Accuracy  0.8970588235294118\n",
      "Precision -  1.0\n",
      "f1_scores 0.851063829787234\n",
      "Confusion Matrix\n",
      "  [[41  0]\n",
      " [ 7 20]]\n",
      "--------------------------------\n",
      "--------------------------------\n",
      "SVM_Polynomial\n",
      "Accuracy  0.7941176470588235\n",
      "Precision -  1.0\n",
      "f1_scores 0.65\n",
      "Confusion Matrix\n",
      "  [[41  0]\n",
      " [14 13]]\n",
      "--------------------------------\n",
      "--------------------------------\n",
      "SVM_Gaussian\n",
      "Accuracy  0.8970588235294118\n",
      "Precision -  1.0\n",
      "f1_scores 0.851063829787234\n",
      "Confusion Matrix\n",
      "  [[41  0]\n",
      " [ 7 20]]\n",
      "--------------------------------\n",
      "--------------------------------\n",
      "KNNeighbor\n",
      "Accuracy  0.7941176470588235\n",
      "Precision -  1.0\n",
      "f1_scores 0.65\n",
      "Confusion Matrix\n",
      "  [[41  0]\n",
      " [14 13]]\n",
      "--------------------------------\n",
      "--------------------------------\n",
      "CART\n",
      "Accuracy  0.9117647058823529\n",
      "Precision -  1.0\n",
      "f1_scores 0.8750000000000001\n",
      "Confusion Matrix\n",
      "  [[41  0]\n",
      " [ 6 21]]\n",
      "--------------------------------\n",
      "--------------------------------\n",
      "LogisticsRegression\n",
      "Accuracy  0.9117647058823529\n",
      "Precision -  1.0\n",
      "f1_scores 0.8750000000000001\n",
      "Confusion Matrix\n",
      "  [[41  0]\n",
      " [ 6 21]]\n",
      "--------------------------------\n",
      "--------------------------------\n",
      "RandomForest\n",
      "Accuracy  0.9117647058823529\n",
      "Precision -  1.0\n",
      "f1_scores 0.8750000000000001\n",
      "Confusion Matrix\n",
      "  [[41  0]\n",
      " [ 6 21]]\n",
      "--------------------------------\n",
      "--------------------------------\n",
      "GaussianNB\n",
      "Accuracy  0.7941176470588235\n",
      "Precision -  0.696969696969697\n",
      "f1_scores 0.7666666666666667\n",
      "Confusion Matrix\n",
      "  [[31 10]\n",
      " [ 4 23]]\n",
      "--------------------------------\n",
      "--------------------------------\n",
      "MultinomialNB\n",
      "Accuracy  0.8823529411764706\n",
      "Precision -  0.9130434782608695\n",
      "f1_scores 0.84\n",
      "Confusion Matrix\n",
      "  [[39  2]\n",
      " [ 6 21]]\n",
      "--------------------------------\n",
      "--------------------------------\n",
      "BernoulliNB\n",
      "Accuracy  0.8676470588235294\n",
      "Precision -  1.0\n",
      "f1_scores 0.8\n",
      "Confusion Matrix\n",
      "  [[41  0]\n",
      " [ 9 18]]\n",
      "--------------------------------\n"
     ]
    }
   ],
   "source": [
    "'''\n",
    "   Using the Matthews correlation coefficient\n",
    "'''\n",
    "\n",
    "mcc_scores = []\n",
    "for name, clf in clfs.items():\n",
    "    clf.fit(X_train,y_train)\n",
    "    current_mcc = matthews_corrcoef(y_test,clf.predict(X_test))\n",
    "   \n",
    "    print(\"==================\")\n",
    "    print(name)\n",
    "    print(current_mcc)\n",
    "    mcc_scores.append(current_mcc)\n",
    "\n",
    "\n",
    "'''\n",
    "    Checking the Accuracy, Precision, F-score and the confusion Matrix\n",
    "'''\n",
    "\n",
    "accuracy_scores = []\n",
    "precision_scores = []\n",
    "f1_scores = []\n",
    "confusion_matrices = []\n",
    "for name,clf in clfs.items():\n",
    "    \n",
    "    current_accuracy,current_precision,current_f1_score, confusion_matrice = train_classifier(clf, X_train,y_train,X_test,y_test)\n",
    "    print('--------------------------------')\n",
    "    print(name)\n",
    "    print(\"Accuracy \",current_accuracy)\n",
    "    print(\"Precision - \",current_precision)\n",
    "    print(\"f1_scores\" , current_f1_score) \n",
    "    print('Confusion Matrix\\n ',confusion_matrice)  \n",
    "    accuracy_scores.append(current_accuracy)\n",
    "    precision_scores.append(current_precision)\n",
    "    f1_scores.append(current_f1_score)\n",
    "    confusion_matrices.append(confusion_matrice)\n",
    "\n",
    "    print('--------------------------------')"
   ]
  },
  {
   "cell_type": "code",
   "execution_count": 18,
   "id": "46db2459",
   "metadata": {},
   "outputs": [
    {
     "data": {
      "text/html": [
       "<div>\n",
       "<style scoped>\n",
       "    .dataframe tbody tr th:only-of-type {\n",
       "        vertical-align: middle;\n",
       "    }\n",
       "\n",
       "    .dataframe tbody tr th {\n",
       "        vertical-align: top;\n",
       "    }\n",
       "\n",
       "    .dataframe thead th {\n",
       "        text-align: right;\n",
       "    }\n",
       "</style>\n",
       "<table border=\"1\" class=\"dataframe\">\n",
       "  <thead>\n",
       "    <tr style=\"text-align: right;\">\n",
       "      <th></th>\n",
       "      <th>Algorithm</th>\n",
       "      <th>Accuracy</th>\n",
       "      <th>Precision</th>\n",
       "      <th>F_scores</th>\n",
       "      <th>MCC_scores</th>\n",
       "    </tr>\n",
       "  </thead>\n",
       "  <tbody>\n",
       "    <tr>\n",
       "      <th>4</th>\n",
       "      <td>CART</td>\n",
       "      <td>0.911765</td>\n",
       "      <td>1.000000</td>\n",
       "      <td>0.875000</td>\n",
       "      <td>0.823703</td>\n",
       "    </tr>\n",
       "    <tr>\n",
       "      <th>5</th>\n",
       "      <td>LogisticsRegression</td>\n",
       "      <td>0.911765</td>\n",
       "      <td>1.000000</td>\n",
       "      <td>0.875000</td>\n",
       "      <td>0.823703</td>\n",
       "    </tr>\n",
       "    <tr>\n",
       "      <th>6</th>\n",
       "      <td>RandomForest</td>\n",
       "      <td>0.911765</td>\n",
       "      <td>1.000000</td>\n",
       "      <td>0.875000</td>\n",
       "      <td>0.823703</td>\n",
       "    </tr>\n",
       "    <tr>\n",
       "      <th>0</th>\n",
       "      <td>SVM_Linear</td>\n",
       "      <td>0.897059</td>\n",
       "      <td>1.000000</td>\n",
       "      <td>0.851064</td>\n",
       "      <td>0.795435</td>\n",
       "    </tr>\n",
       "    <tr>\n",
       "      <th>2</th>\n",
       "      <td>SVM_Gaussian</td>\n",
       "      <td>0.897059</td>\n",
       "      <td>1.000000</td>\n",
       "      <td>0.851064</td>\n",
       "      <td>0.795435</td>\n",
       "    </tr>\n",
       "    <tr>\n",
       "      <th>8</th>\n",
       "      <td>MultinomialNB</td>\n",
       "      <td>0.882353</td>\n",
       "      <td>0.913043</td>\n",
       "      <td>0.840000</td>\n",
       "      <td>0.753927</td>\n",
       "    </tr>\n",
       "    <tr>\n",
       "      <th>9</th>\n",
       "      <td>BernoulliNB</td>\n",
       "      <td>0.867647</td>\n",
       "      <td>1.000000</td>\n",
       "      <td>0.800000</td>\n",
       "      <td>0.739369</td>\n",
       "    </tr>\n",
       "    <tr>\n",
       "      <th>1</th>\n",
       "      <td>SVM_Polynomial</td>\n",
       "      <td>0.794118</td>\n",
       "      <td>1.000000</td>\n",
       "      <td>0.650000</td>\n",
       "      <td>0.599101</td>\n",
       "    </tr>\n",
       "    <tr>\n",
       "      <th>3</th>\n",
       "      <td>KNNeighbor</td>\n",
       "      <td>0.794118</td>\n",
       "      <td>1.000000</td>\n",
       "      <td>0.650000</td>\n",
       "      <td>0.599101</td>\n",
       "    </tr>\n",
       "    <tr>\n",
       "      <th>7</th>\n",
       "      <td>GaussianNB</td>\n",
       "      <td>0.794118</td>\n",
       "      <td>0.696970</td>\n",
       "      <td>0.766667</td>\n",
       "      <td>0.595183</td>\n",
       "    </tr>\n",
       "  </tbody>\n",
       "</table>\n",
       "</div>"
      ],
      "text/plain": [
       "             Algorithm  Accuracy  Precision  F_scores  MCC_scores\n",
       "4                 CART  0.911765   1.000000  0.875000    0.823703\n",
       "5  LogisticsRegression  0.911765   1.000000  0.875000    0.823703\n",
       "6         RandomForest  0.911765   1.000000  0.875000    0.823703\n",
       "0           SVM_Linear  0.897059   1.000000  0.851064    0.795435\n",
       "2         SVM_Gaussian  0.897059   1.000000  0.851064    0.795435\n",
       "8        MultinomialNB  0.882353   0.913043  0.840000    0.753927\n",
       "9          BernoulliNB  0.867647   1.000000  0.800000    0.739369\n",
       "1       SVM_Polynomial  0.794118   1.000000  0.650000    0.599101\n",
       "3           KNNeighbor  0.794118   1.000000  0.650000    0.599101\n",
       "7           GaussianNB  0.794118   0.696970  0.766667    0.595183"
      ]
     },
     "execution_count": 18,
     "metadata": {},
     "output_type": "execute_result"
    }
   ],
   "source": [
    "'''\n",
    "    Arranging the performance based on the Matthew correlation coefficient in descending order for each Algorithm\n",
    "'''\n",
    "performance_lmfao = pd.DataFrame({'Algorithm':clfs.keys(),'Accuracy':accuracy_scores,'Precision':precision_scores, 'F_scores':f1_scores, 'MCC_scores': mcc_scores}).sort_values('MCC_scores', ascending=False)\n",
    "performance_lmfao"
   ]
  },
  {
   "cell_type": "code",
   "execution_count": 19,
   "id": "23421b75",
   "metadata": {},
   "outputs": [
    {
     "data": {
      "text/plain": [
       "<AxesSubplot:xlabel='Algorithm'>"
      ]
     },
     "execution_count": 19,
     "metadata": {},
     "output_type": "execute_result"
    },
    {
     "data": {
      "image/png": "[encoded data removed]",
      "text/plain": [
       "<Figure size 720x432 with 1 Axes>"
      ]
     },
     "metadata": {
      "needs_background": "light"
     },
     "output_type": "display_data"
    }
   ],
   "source": [
    "performance_lmfao.plot(x='Algorithm', y='MCC_scores', label='MCC_ scores for Techniques used', figsize = [10,6] )"
   ]
  },
  {
   "cell_type": "markdown",
   "id": "9c193f1c",
   "metadata": {},
   "source": [
    "## TUNING RESULT USING GRID SEARCH  "
   ]
  },
  {
   "cell_type": "code",
   "execution_count": 20,
   "id": "0b230419",
   "metadata": {},
   "outputs": [
    {
     "name": "stdout",
     "output_type": "stream",
     "text": [
      "-----------\n",
      "C = 100\n",
      "gamma = 0.1\n",
      "kernel = rbf\n"
     ]
    }
   ],
   "source": [
    "'''\n",
    "    Tuning the support vectors for Linear, Polynomial and Gaussian to give the optimal parameter\n",
    "'''\n",
    "from sklearn.pipeline import Pipeline\n",
    "from sklearn.model_selection import GridSearchCV\n",
    "param_grid = [\n",
    "    {\n",
    "        'C':[0.5,1,10,100,0.1,0.01],\n",
    "        'gamma':['scale',1, 0.1, 0.01, 0.001, 0.0001],\n",
    "        'kernel':['rbf'] # ['rbf','poly','linear']\n",
    "    }\n",
    "]\n",
    "optimal_params = GridSearchCV(\n",
    "    SVC(),\n",
    "    param_grid,\n",
    "    cv=10,\n",
    "    scoring='accuracy',\n",
    "    verbose=0\n",
    ")\n",
    "C,g,k = optimal_params.fit(X_train, y_train).best_params_.values()\n",
    "print(f\"-----------\")\n",
    "print(f\"C = {C}\")\n",
    "print(f\"gamma = {g}\")\n",
    "print(f\"kernel = {k}\")\n"
   ]
  },
  {
   "cell_type": "code",
   "execution_count": 21,
   "id": "6c590ec9",
   "metadata": {},
   "outputs": [
    {
     "name": "stdout",
     "output_type": "stream",
     "text": [
      "Fitting 10 folds for each of 100 candidates, totalling 1000 fits\n",
      "GaussianNB(var_smoothing=0.0003511191734215131)\n"
     ]
    }
   ],
   "source": [
    "\n",
    "'''\n",
    "    Tuning the Naive Bayes method for Bernoulli, Multinomial and Gaussian to give the optimal parameter\n",
    "'''\n",
    "\n",
    "param_grid_nb = {\n",
    "        'var_smoothing': np.logspace(0, -9, num = 100)\n",
    "    }\n",
    "\n",
    "optimal_params = GridSearchCV(estimator = GaussianNB(),param_grid= param_grid_nb,\n",
    "    cv=10,\n",
    "    scoring='accuracy',\n",
    "    verbose=1\n",
    ") # [multinomialNB, GaussianNB, BernouliNB]\n",
    "optimal_params.fit(X_train, y_train)\n",
    "print(optimal_params.best_estimator_)"
   ]
  },
  {
   "cell_type": "code",
   "execution_count": 22,
   "id": "8a79b904",
   "metadata": {},
   "outputs": [
    {
     "name": "stdout",
     "output_type": "stream",
     "text": [
      "KNeighborsClassifier(n_neighbors=1)\n"
     ]
    }
   ],
   "source": [
    "\n",
    "'''\n",
    "    Tuning the Naive Bayes method for KNNeigbor\n",
    "'''\n",
    "\n",
    "param_grid_knn = {\n",
    "        'n_neighbors': [1,3,5,7,9]\n",
    "    }\n",
    "\n",
    "optimal_params = GridSearchCV(estimator = KNeighborsClassifier(),param_grid= param_grid_knn,\n",
    "    cv=10,\n",
    "    scoring='accuracy',\n",
    "    verbose=0\n",
    ") \n",
    "optimal_params.fit(X_train, y_train)\n",
    "print(optimal_params.best_estimator_)\n"
   ]
  },
  {
   "cell_type": "code",
   "execution_count": 23,
   "id": "d0dc6248",
   "metadata": {},
   "outputs": [
    {
     "name": "stdout",
     "output_type": "stream",
     "text": [
      "RandomForestClassifier(n_estimators=60)\n"
     ]
    }
   ],
   "source": [
    "'''\n",
    "    Tuning the RandomForest \n",
    "'''\n",
    "\n",
    "param_grid_rfc = {\n",
    "        'n_estimators': [20,40,60,80,100]\n",
    "    }\n",
    "\n",
    "optimal_params = GridSearchCV(estimator = RandomForestClassifier(),param_grid= param_grid_rfc,\n",
    "    cv=10,\n",
    "    scoring='accuracy',\n",
    "    verbose=0\n",
    ") \n",
    "optimal_params.fit(X_train, y_train)\n",
    "print(optimal_params.best_estimator_)\n",
    "\n"
   ]
  },
  {
   "cell_type": "code",
   "execution_count": 24,
   "id": "8c71421a",
   "metadata": {},
   "outputs": [
    {
     "name": "stdout",
     "output_type": "stream",
     "text": [
      "LogisticRegression(C=20)\n"
     ]
    }
   ],
   "source": [
    "'''\n",
    "    Tuning the RandomForest \n",
    "'''\n",
    "param_grid_lrc = [\n",
    "{\n",
    "        'C': [10, 15,20,30],\n",
    "     }\n",
    "\n",
    "]\n",
    "\n",
    "optimal_params = GridSearchCV(estimator = LogisticRegression(),param_grid= param_grid_lrc,\n",
    "    cv=10,\n",
    "    scoring='accuracy',\n",
    "    verbose=0\n",
    ") \n",
    "optimal_params.fit(X_train, y_train)\n",
    "print(optimal_params.best_estimator_)\n"
   ]
  },
  {
   "cell_type": "code",
   "execution_count": 25,
   "id": "4000b789",
   "metadata": {},
   "outputs": [
    {
     "name": "stdout",
     "output_type": "stream",
     "text": [
      "DecisionTreeClassifier(random_state=8)\n"
     ]
    }
   ],
   "source": [
    "'''\n",
    "    Tuning the Decision Tree (CART) \n",
    "'''\n",
    "param_grid_dtc = [\n",
    "{\n",
    "        'criterion': [\"gini\"],\n",
    "        'random_state':[None, 1,2,4,8,10]\n",
    "     }\n",
    "\n",
    "]\n",
    "\n",
    "optimal_params = GridSearchCV(estimator = DecisionTreeClassifier(),param_grid= param_grid_dtc,\n",
    "    cv= 10,\n",
    "    scoring ='accuracy',\n",
    "    verbose=0\n",
    ") \n",
    "optimal_params.fit(X_train, y_train)\n",
    "print(optimal_params.best_estimator_)"
   ]
  },
  {
   "cell_type": "markdown",
   "id": "16acb6f7",
   "metadata": {},
   "source": [
    "## OPTIMIZED MODEL(Performance)"
   ]
  },
  {
   "cell_type": "code",
   "execution_count": 26,
   "id": "322d9b8d",
   "metadata": {},
   "outputs": [
    {
     "name": "stdout",
     "output_type": "stream",
     "text": [
      "             Algorithm  Accuracy  Precision  F_scores  MCC_scores\n",
      "4                 CART  0.911765   1.000000  0.875000    0.823703\n",
      "5  LogisticsRegression  0.911765   1.000000  0.875000    0.823703\n",
      "6         RandomForest  0.911765   1.000000  0.875000    0.823703\n",
      "0           SVM_Linear  0.897059   1.000000  0.851064    0.795435\n",
      "2         SVM_Gaussian  0.897059   1.000000  0.851064    0.795435\n",
      "8        MultinomialNB  0.882353   0.913043  0.840000    0.753927\n",
      "9          BernoulliNB  0.867647   1.000000  0.800000    0.739369\n",
      "1       SVM_Polynomial  0.794118   1.000000  0.650000    0.599101\n",
      "3           KNNeighbor  0.794118   1.000000  0.650000    0.599101\n",
      "7           GaussianNB  0.794118   0.696970  0.766667    0.595183\n"
     ]
    },
    {
     "data": {
      "text/plain": [
       "<AxesSubplot:xlabel='Algorithm'>"
      ]
     },
     "execution_count": 26,
     "metadata": {},
     "output_type": "execute_result"
    },
    {
     "data": {
      "image/png": "[encoded data removed]",
      "text/plain": [
       "<Figure size 720x432 with 1 Axes>"
      ]
     },
     "metadata": {
      "needs_background": "light"
     },
     "output_type": "display_data"
    },
    {
     "data": {
      "image/png": "[encoded data removed]",
      "text/plain": [
       "<Figure size 720x432 with 1 Axes>"
      ]
     },
     "metadata": {
      "needs_background": "light"
     },
     "output_type": "display_data"
    },
    {
     "data": {
      "image/png": "[encoded data removed]",
      "text/plain": [
       "<Figure size 720x432 with 1 Axes>"
      ]
     },
     "metadata": {
      "needs_background": "light"
     },
     "output_type": "display_data"
    }
   ],
   "source": [
    "svc_Linear = SVC(kernel='linear', C=1, gamma = \"scale\")\n",
    "svc_Polynomial = SVC(kernel='poly', C= 1, gamma = \"scale\")\n",
    "svc_Gaussian = SVC(kernel='sigmoid',C = 10, gamma= 0.1)\n",
    "knc = KNeighborsClassifier(n_neighbors=1, algorithm= \"auto\")\n",
    "mnb = MultinomialNB()\n",
    "dtc = DecisionTreeClassifier(random_state=8)\n",
    "lrc = LogisticRegression(solver='liblinear', penalty='l1', C = 20)\n",
    "rfc = RandomForestClassifier(n_estimators=60, random_state=40)\n",
    "gnb = GaussianNB( var_smoothing=0.0003511191734215131)\n",
    "bnb = BernoulliNB()\n",
    "\n",
    "clfs = {\n",
    "    'SVM_Linear' : svc_Linear,\n",
    "    'SVM_Polynomial' : svc_Polynomial,\n",
    "    'SVM_Gaussian' : svc_Gaussian,\n",
    "    'KNNeighbor' : knc, \n",
    "    'CART': dtc, \n",
    "    'LogisticsRegression': lrc, \n",
    "    'RandomForest': rfc, \n",
    "    'GaussianNB': gnb,\n",
    "    'MultinomialNB': mnb,\n",
    "    'BernoulliNB':bnb\n",
    "}\n",
    "\n",
    "def train_classifier(clf,X_train,y_train,X_test,y_test):\n",
    "    clf.fit(X_train,y_train)\n",
    "    y_pred = clf.predict(X_test)\n",
    "    accuracy = accuracy_score(y_test,y_pred)\n",
    "    precision = precision_score(y_test,y_pred)\n",
    "    f_score = f1_score(y_test, y_pred)\n",
    "    con_matrices =confusion_matrix(y_test,y_pred)\n",
    "    return accuracy,precision,f_score,con_matrices\n",
    "\n",
    "'''\n",
    "    Arranging the performance based on the Matthew correlation coefficient in descending order for each Algorithm\n",
    "'''\n",
    "performance_lmfao = pd.DataFrame({'Algorithm':clfs.keys(),'Accuracy':accuracy_scores,'Precision':precision_scores, 'F_scores':f1_scores, 'MCC_scores': mcc_scores}).sort_values('MCC_scores', ascending=False)\n",
    "print(performance_lmfao)\n",
    "\n",
    "performance_lmfao.plot(x='Algorithm', y='MCC_scores', label='MCC_ scores for Techniques ', figsize = [10,6] )\n",
    "\n",
    "performance_lmfao.plot(x='Algorithm', y='Accuracy', label='Accuracy for Techniques ', figsize = [10,6] )\n",
    "\n",
    "performance_lmfao.plot(x='Algorithm', y='Precision', label='Precision for Techniques ', figsize = [10,6] )"
   ]
  },
  {
   "cell_type": "code",
   "execution_count": 27,
   "id": "da58cfc4",
   "metadata": {},
   "outputs": [
    {
     "data": {
      "text/plain": [
       "<AxesSubplot:>"
      ]
     },
     "execution_count": 27,
     "metadata": {},
     "output_type": "execute_result"
    },
    {
     "data": {
      "image/png": "[encoded data removed]",
      "text/plain": [
       "<Figure size 504x648 with 2 Axes>"
      ]
     },
     "metadata": {
      "needs_background": "light"
     },
     "output_type": "display_data"
    }
   ],
   "source": [
    "import seaborn as sns\n",
    "\n",
    "'''\n",
    "    A Heatmap confusion matrix for the predicted outcome for Linear support Vector Algorithms\n",
    "'''\n",
    "\n",
    "\n",
    "svc_Linear.fit(X_train,y_train)\n",
    "y_pred_svc = svc_Linear.predict(X_test)\n",
    "cm = confusion_matrix(y_test,y_pred_svc)\n",
    "plt.figure(figsize=(7,9))\n",
    "sns.heatmap(cm/np.sum(cm), annot=True, fmt='.2%', cmap='Blues')\n"
   ]
  },
  {
   "cell_type": "code",
   "execution_count": 28,
   "id": "ed151cbb",
   "metadata": {},
   "outputs": [
    {
     "data": {
      "text/plain": [
       "<AxesSubplot:>"
      ]
     },
     "execution_count": 28,
     "metadata": {},
     "output_type": "execute_result"
    },
    {
     "data": {
      "image/png": "[encoded data removed]",
      "text/plain": [
       "<Figure size 504x648 with 2 Axes>"
      ]
     },
     "metadata": {
      "needs_background": "light"
     },
     "output_type": "display_data"
    }
   ],
   "source": [
    "'''\n",
    "    A Heatmap confusion matrix for the predicted outcome for Linear support Vector Algorithms\n",
    "'''\n",
    "rfc.fit(X_train,y_train)\n",
    "y_pred_rfc = rfc.predict(X_test)\n",
    "cm = confusion_matrix(y_test,y_pred_rfc)\n",
    "plt.figure(figsize=(7,9))\n",
    "sns.heatmap(cm/np.sum(cm), annot=True, fmt='.2%', cmap='Blues')\n"
   ]
  },
  {
   "cell_type": "code",
   "execution_count": null,
   "id": "73c136f7",
   "metadata": {},
   "outputs": [],
   "source": []
  }
 ],
 "metadata": {
  "kernelspec": {
   "display_name": "Python 3 (ipykernel)",
   "language": "python",
   "name": "python3"
  },
  "language_info": {
   "codemirror_mode": {
    "name": "ipython",
    "version": 3
   },
   "file_extension": ".py",
   "mimetype": "text/x-python",
   "name": "python",
   "nbconvert_exporter": "python",
   "pygments_lexer": "ipython3",
   "version": "3.8.8"
  }
 },
 "nbformat": 4,
 "nbformat_minor": 5
}

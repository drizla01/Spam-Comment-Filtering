{
 "cells": [
  {
   "cell_type": "code",
   "execution_count": 1,
   "id": "3a518843",
   "metadata": {},
   "outputs": [],
   "source": [
    "import matplotlib.pyplot as plt\n",
    "import pandas as pd\n",
    "import numpy as np"
   ]
  },
  {
   "cell_type": "code",
   "execution_count": 2,
   "id": "8b160cee",
   "metadata": {},
   "outputs": [
    {
     "data": {
      "text/html": [
       "<div>\n",
       "<style scoped>\n",
       "    .dataframe tbody tr th:only-of-type {\n",
       "        vertical-align: middle;\n",
       "    }\n",
       "\n",
       "    .dataframe tbody tr th {\n",
       "        vertical-align: top;\n",
       "    }\n",
       "\n",
       "    .dataframe thead th {\n",
       "        text-align: right;\n",
       "    }\n",
       "</style>\n",
       "<table border=\"1\" class=\"dataframe\">\n",
       "  <thead>\n",
       "    <tr style=\"text-align: right;\">\n",
       "      <th></th>\n",
       "      <th>COMMENT_ID</th>\n",
       "      <th>AUTHOR</th>\n",
       "      <th>DATE</th>\n",
       "      <th>CONTENT</th>\n",
       "      <th>CLASS</th>\n",
       "    </tr>\n",
       "  </thead>\n",
       "  <tbody>\n",
       "    <tr>\n",
       "      <th>0</th>\n",
       "      <td>z12rwfnyyrbsefonb232i5ehdxzkjzjs2</td>\n",
       "      <td>Lisa Wellas</td>\n",
       "      <td>NaN</td>\n",
       "      <td>+447935454150 lovely girl talk to me xxx﻿</td>\n",
       "      <td>1</td>\n",
       "    </tr>\n",
       "    <tr>\n",
       "      <th>1</th>\n",
       "      <td>z130wpnwwnyuetxcn23xf5k5ynmkdpjrj04</td>\n",
       "      <td>jason graham</td>\n",
       "      <td>2015-05-29T02:26:10.652000</td>\n",
       "      <td>I always end up coming back to this song&lt;br /&gt;﻿</td>\n",
       "      <td>0</td>\n",
       "    </tr>\n",
       "    <tr>\n",
       "      <th>2</th>\n",
       "      <td>z13vsfqirtavjvu0t22ezrgzyorwxhpf3</td>\n",
       "      <td>Ajkal Khan</td>\n",
       "      <td>NaN</td>\n",
       "      <td>my sister just received over 6,500 new &lt;a rel=...</td>\n",
       "      <td>1</td>\n",
       "    </tr>\n",
       "    <tr>\n",
       "      <th>3</th>\n",
       "      <td>z12wjzc4eprnvja4304cgbbizuved35wxcs</td>\n",
       "      <td>Dakota Taylor</td>\n",
       "      <td>2015-05-29T02:13:07.810000</td>\n",
       "      <td>Cool﻿</td>\n",
       "      <td>0</td>\n",
       "    </tr>\n",
       "    <tr>\n",
       "      <th>4</th>\n",
       "      <td>z13xjfr42z3uxdz2223gx5rrzs3dt5hna</td>\n",
       "      <td>Jihad Naser</td>\n",
       "      <td>NaN</td>\n",
       "      <td>Hello I&amp;#39;am from Palastine﻿</td>\n",
       "      <td>1</td>\n",
       "    </tr>\n",
       "    <tr>\n",
       "      <th>...</th>\n",
       "      <td>...</td>\n",
       "      <td>...</td>\n",
       "      <td>...</td>\n",
       "      <td>...</td>\n",
       "      <td>...</td>\n",
       "    </tr>\n",
       "    <tr>\n",
       "      <th>443</th>\n",
       "      <td>LneaDw26bFu3RCmyrWyP9S6wh1h9dBv3X95g1HzKAb4</td>\n",
       "      <td>Dany PK</td>\n",
       "      <td>NaN</td>\n",
       "      <td>SUBSCRIBE TO MY CHANNEL X PLEASE!. SPARE</td>\n",
       "      <td>1</td>\n",
       "    </tr>\n",
       "    <tr>\n",
       "      <th>444</th>\n",
       "      <td>LneaDw26bFsD65dtIvAEObWYIYnFTqQDKBek_Ypz3J8</td>\n",
       "      <td>SmexyFriedChicken</td>\n",
       "      <td>NaN</td>\n",
       "      <td>Check out my videos guy! :) Hope you guys had ...</td>\n",
       "      <td>1</td>\n",
       "    </tr>\n",
       "    <tr>\n",
       "      <th>445</th>\n",
       "      <td>LneaDw26bFuvs-8oWkLpAFa6g3QHpWD8k7sbbMP3Bg8</td>\n",
       "      <td>The Guy That's Done Everything</td>\n",
       "      <td>NaN</td>\n",
       "      <td>3 yrs ago I had a health scare but thankfully ...</td>\n",
       "      <td>1</td>\n",
       "    </tr>\n",
       "    <tr>\n",
       "      <th>446</th>\n",
       "      <td>z12hfp2wmyuqztkw504cgblyxtbsxjuzeow0k</td>\n",
       "      <td>Jesse Pinkman</td>\n",
       "      <td>2015-05-06T11:42:44.601000</td>\n",
       "      <td>Rihanna looks so beautiful with red hair ;)﻿</td>\n",
       "      <td>0</td>\n",
       "    </tr>\n",
       "    <tr>\n",
       "      <th>447</th>\n",
       "      <td>z13tsbc5vvn0hdozz04chjt51lq1cvris0k</td>\n",
       "      <td>Gaming Gaming</td>\n",
       "      <td>2015-05-06T10:56:35.972000</td>\n",
       "      <td>857.482.940 views AWESOME !!!!!!!!!!!!!!!!!!!!...</td>\n",
       "      <td>0</td>\n",
       "    </tr>\n",
       "  </tbody>\n",
       "</table>\n",
       "<p>448 rows × 5 columns</p>\n",
       "</div>"
      ],
      "text/plain": [
       "                                      COMMENT_ID  \\\n",
       "0              z12rwfnyyrbsefonb232i5ehdxzkjzjs2   \n",
       "1            z130wpnwwnyuetxcn23xf5k5ynmkdpjrj04   \n",
       "2              z13vsfqirtavjvu0t22ezrgzyorwxhpf3   \n",
       "3            z12wjzc4eprnvja4304cgbbizuved35wxcs   \n",
       "4              z13xjfr42z3uxdz2223gx5rrzs3dt5hna   \n",
       "..                                           ...   \n",
       "443  LneaDw26bFu3RCmyrWyP9S6wh1h9dBv3X95g1HzKAb4   \n",
       "444  LneaDw26bFsD65dtIvAEObWYIYnFTqQDKBek_Ypz3J8   \n",
       "445  LneaDw26bFuvs-8oWkLpAFa6g3QHpWD8k7sbbMP3Bg8   \n",
       "446        z12hfp2wmyuqztkw504cgblyxtbsxjuzeow0k   \n",
       "447          z13tsbc5vvn0hdozz04chjt51lq1cvris0k   \n",
       "\n",
       "                             AUTHOR                        DATE  \\\n",
       "0                       Lisa Wellas                         NaN   \n",
       "1                      jason graham  2015-05-29T02:26:10.652000   \n",
       "2                        Ajkal Khan                         NaN   \n",
       "3                     Dakota Taylor  2015-05-29T02:13:07.810000   \n",
       "4                       Jihad Naser                         NaN   \n",
       "..                              ...                         ...   \n",
       "443                         Dany PK                         NaN   \n",
       "444               SmexyFriedChicken                         NaN   \n",
       "445  The Guy That's Done Everything                         NaN   \n",
       "446                   Jesse Pinkman  2015-05-06T11:42:44.601000   \n",
       "447                   Gaming Gaming  2015-05-06T10:56:35.972000   \n",
       "\n",
       "                                               CONTENT  CLASS  \n",
       "0            +447935454150 lovely girl talk to me xxx﻿      1  \n",
       "1      I always end up coming back to this song<br />﻿      0  \n",
       "2    my sister just received over 6,500 new <a rel=...      1  \n",
       "3                                                Cool﻿      0  \n",
       "4                       Hello I&#39;am from Palastine﻿      1  \n",
       "..                                                 ...    ...  \n",
       "443           SUBSCRIBE TO MY CHANNEL X PLEASE!. SPARE      1  \n",
       "444  Check out my videos guy! :) Hope you guys had ...      1  \n",
       "445  3 yrs ago I had a health scare but thankfully ...      1  \n",
       "446       Rihanna looks so beautiful with red hair ;)﻿      0  \n",
       "447  857.482.940 views AWESOME !!!!!!!!!!!!!!!!!!!!...      0  \n",
       "\n",
       "[448 rows x 5 columns]"
      ]
     },
     "execution_count": 2,
     "metadata": {},
     "output_type": "execute_result"
    }
   ],
   "source": [
    "eminem = pd.read_csv(\"Youtube04-Eminem.csv\")  \n",
    "eminem"
   ]
  },
  {
   "cell_type": "code",
   "execution_count": 3,
   "id": "ea7c1c9c",
   "metadata": {},
   "outputs": [
    {
     "data": {
      "text/html": [
       "<div>\n",
       "<style scoped>\n",
       "    .dataframe tbody tr th:only-of-type {\n",
       "        vertical-align: middle;\n",
       "    }\n",
       "\n",
       "    .dataframe tbody tr th {\n",
       "        vertical-align: top;\n",
       "    }\n",
       "\n",
       "    .dataframe thead th {\n",
       "        text-align: right;\n",
       "    }\n",
       "</style>\n",
       "<table border=\"1\" class=\"dataframe\">\n",
       "  <thead>\n",
       "    <tr style=\"text-align: right;\">\n",
       "      <th></th>\n",
       "      <th>CONTENT</th>\n",
       "      <th>CLASS</th>\n",
       "    </tr>\n",
       "  </thead>\n",
       "  <tbody>\n",
       "    <tr>\n",
       "      <th>0</th>\n",
       "      <td>+447935454150 lovely girl talk to me xxx﻿</td>\n",
       "      <td>1</td>\n",
       "    </tr>\n",
       "    <tr>\n",
       "      <th>1</th>\n",
       "      <td>I always end up coming back to this song&lt;br /&gt;﻿</td>\n",
       "      <td>0</td>\n",
       "    </tr>\n",
       "    <tr>\n",
       "      <th>2</th>\n",
       "      <td>my sister just received over 6,500 new &lt;a rel=...</td>\n",
       "      <td>1</td>\n",
       "    </tr>\n",
       "    <tr>\n",
       "      <th>3</th>\n",
       "      <td>Cool﻿</td>\n",
       "      <td>0</td>\n",
       "    </tr>\n",
       "    <tr>\n",
       "      <th>4</th>\n",
       "      <td>Hello I&amp;#39;am from Palastine﻿</td>\n",
       "      <td>1</td>\n",
       "    </tr>\n",
       "    <tr>\n",
       "      <th>...</th>\n",
       "      <td>...</td>\n",
       "      <td>...</td>\n",
       "    </tr>\n",
       "    <tr>\n",
       "      <th>443</th>\n",
       "      <td>SUBSCRIBE TO MY CHANNEL X PLEASE!. SPARE</td>\n",
       "      <td>1</td>\n",
       "    </tr>\n",
       "    <tr>\n",
       "      <th>444</th>\n",
       "      <td>Check out my videos guy! :) Hope you guys had ...</td>\n",
       "      <td>1</td>\n",
       "    </tr>\n",
       "    <tr>\n",
       "      <th>445</th>\n",
       "      <td>3 yrs ago I had a health scare but thankfully ...</td>\n",
       "      <td>1</td>\n",
       "    </tr>\n",
       "    <tr>\n",
       "      <th>446</th>\n",
       "      <td>Rihanna looks so beautiful with red hair ;)﻿</td>\n",
       "      <td>0</td>\n",
       "    </tr>\n",
       "    <tr>\n",
       "      <th>447</th>\n",
       "      <td>857.482.940 views AWESOME !!!!!!!!!!!!!!!!!!!!...</td>\n",
       "      <td>0</td>\n",
       "    </tr>\n",
       "  </tbody>\n",
       "</table>\n",
       "<p>448 rows × 2 columns</p>\n",
       "</div>"
      ],
      "text/plain": [
       "                                               CONTENT  CLASS\n",
       "0            +447935454150 lovely girl talk to me xxx﻿      1\n",
       "1      I always end up coming back to this song<br />﻿      0\n",
       "2    my sister just received over 6,500 new <a rel=...      1\n",
       "3                                                Cool﻿      0\n",
       "4                       Hello I&#39;am from Palastine﻿      1\n",
       "..                                                 ...    ...\n",
       "443           SUBSCRIBE TO MY CHANNEL X PLEASE!. SPARE      1\n",
       "444  Check out my videos guy! :) Hope you guys had ...      1\n",
       "445  3 yrs ago I had a health scare but thankfully ...      1\n",
       "446       Rihanna looks so beautiful with red hair ;)﻿      0\n",
       "447  857.482.940 views AWESOME !!!!!!!!!!!!!!!!!!!!...      0\n",
       "\n",
       "[448 rows x 2 columns]"
      ]
     },
     "execution_count": 3,
     "metadata": {},
     "output_type": "execute_result"
    }
   ],
   "source": [
    "eminem.drop(columns=['COMMENT_ID', 'AUTHOR','DATE'], inplace = True)\n",
    "eminem   #spam = 1, ham(legimimate) = 0"
   ]
  },
  {
   "cell_type": "code",
   "execution_count": 4,
   "id": "46f80917",
   "metadata": {},
   "outputs": [
    {
     "data": {
      "text/plain": [
       "CONTENT    False\n",
       "CLASS      False\n",
       "dtype: bool"
      ]
     },
     "execution_count": 4,
     "metadata": {},
     "output_type": "execute_result"
    }
   ],
   "source": [
    "eminem.isna().any()"
   ]
  },
  {
   "cell_type": "code",
   "execution_count": 5,
   "id": "76ce8465",
   "metadata": {},
   "outputs": [
    {
     "data": {
      "text/plain": [
       "0"
      ]
     },
     "execution_count": 5,
     "metadata": {},
     "output_type": "execute_result"
    }
   ],
   "source": [
    "eminem.drop_duplicates(inplace = True)\n",
    "eminem.duplicated().sum()"
   ]
  },
  {
   "cell_type": "code",
   "execution_count": 6,
   "id": "0d48b433",
   "metadata": {},
   "outputs": [
    {
     "data": {
      "text/plain": [
       "CONTENT    210\n",
       "CLASS      210\n",
       "dtype: int64"
      ]
     },
     "execution_count": 6,
     "metadata": {},
     "output_type": "execute_result"
    }
   ],
   "source": [
    "eminem[eminem['CLASS']== 1].count()"
   ]
  },
  {
   "cell_type": "code",
   "execution_count": 7,
   "id": "731f0006",
   "metadata": {},
   "outputs": [
    {
     "data": {
      "text/plain": [
       "CONTENT    202\n",
       "CLASS      202\n",
       "dtype: int64"
      ]
     },
     "execution_count": 7,
     "metadata": {},
     "output_type": "execute_result"
    }
   ],
   "source": [
    "# ham\n",
    "eminem[eminem['CLASS'] == 0].count()"
   ]
  },
  {
   "cell_type": "markdown",
   "id": "3dc321c5",
   "metadata": {},
   "source": [
    "## Data Preprocessing"
   ]
  },
  {
   "cell_type": "code",
   "execution_count": 8,
   "id": "f5d47b80",
   "metadata": {},
   "outputs": [],
   "source": [
    "import nltk\n",
    "import string\n",
    "from nltk.corpus import stopwords\n",
    "from nltk.stem.wordnet import WordNetLemmatizer\n",
    "from nltk.tokenize import word_tokenize\n",
    "from nltk.stem.porter import PorterStemmer\n",
    "ps = PorterStemmer()"
   ]
  },
  {
   "cell_type": "code",
   "execution_count": 9,
   "id": "5852c054",
   "metadata": {},
   "outputs": [],
   "source": [
    "'''\n",
    "Create a function that\n",
    "- changes all the words to lower case\n",
    "- tokenize the words\n",
    "- remove special characters\n",
    "- remove stop words and punctuation\n",
    "- stemming\n",
    "\n",
    "'''\n",
    "\n",
    "def text_processing(CONTENT):\n",
    "    text = CONTENT.lower()\n",
    "    text = nltk.word_tokenize(text)\n",
    "\n",
    "    y = []\n",
    "    for i in text:\n",
    "        if i.isalnum():\n",
    "            y.append(i)\n",
    "    text = y[:]\n",
    "    y.clear()\n",
    "    \n",
    "    for j in text:\n",
    "        if j not in stopwords.words('english') and i not in string.punctuation:\n",
    "            y.append(j)\n",
    "    text = y[:]\n",
    "    y.clear()\n",
    "\n",
    "    for w in text:\n",
    "        #y.append(ps.stem(w))     #incase for stemming\n",
    "         y.append(w)\n",
    "    return \" \".join(y)"
   ]
  },
  {
   "cell_type": "code",
   "execution_count": 10,
   "id": "8c466bcd",
   "metadata": {},
   "outputs": [
    {
     "data": {
      "text/html": [
       "<div>\n",
       "<style scoped>\n",
       "    .dataframe tbody tr th:only-of-type {\n",
       "        vertical-align: middle;\n",
       "    }\n",
       "\n",
       "    .dataframe tbody tr th {\n",
       "        vertical-align: top;\n",
       "    }\n",
       "\n",
       "    .dataframe thead th {\n",
       "        text-align: right;\n",
       "    }\n",
       "</style>\n",
       "<table border=\"1\" class=\"dataframe\">\n",
       "  <thead>\n",
       "    <tr style=\"text-align: right;\">\n",
       "      <th></th>\n",
       "      <th>CONTENT</th>\n",
       "      <th>CLASS</th>\n",
       "      <th>TEXT_PROCESSED</th>\n",
       "    </tr>\n",
       "  </thead>\n",
       "  <tbody>\n",
       "    <tr>\n",
       "      <th>0</th>\n",
       "      <td>+447935454150 lovely girl talk to me xxx﻿</td>\n",
       "      <td>1</td>\n",
       "      <td>lovely girl talk</td>\n",
       "    </tr>\n",
       "    <tr>\n",
       "      <th>1</th>\n",
       "      <td>I always end up coming back to this song&lt;br /&gt;﻿</td>\n",
       "      <td>0</td>\n",
       "      <td>always end coming back song br</td>\n",
       "    </tr>\n",
       "    <tr>\n",
       "      <th>2</th>\n",
       "      <td>my sister just received over 6,500 new &lt;a rel=...</td>\n",
       "      <td>1</td>\n",
       "      <td>sister received new nofollow https 23active ac...</td>\n",
       "    </tr>\n",
       "    <tr>\n",
       "      <th>3</th>\n",
       "      <td>Cool﻿</td>\n",
       "      <td>0</td>\n",
       "      <td></td>\n",
       "    </tr>\n",
       "    <tr>\n",
       "      <th>4</th>\n",
       "      <td>Hello I&amp;#39;am from Palastine﻿</td>\n",
       "      <td>1</td>\n",
       "      <td>hello 39</td>\n",
       "    </tr>\n",
       "    <tr>\n",
       "      <th>5</th>\n",
       "      <td>Wow this video almost has a billion views! Did...</td>\n",
       "      <td>0</td>\n",
       "      <td>wow video almost billion views 39 know popular</td>\n",
       "    </tr>\n",
       "    <tr>\n",
       "      <th>6</th>\n",
       "      <td>Go check out my rapping video called Four Whee...</td>\n",
       "      <td>1</td>\n",
       "      <td>go check rapping video called four wheels please</td>\n",
       "    </tr>\n",
       "    <tr>\n",
       "      <th>7</th>\n",
       "      <td>Almost 1 billion﻿</td>\n",
       "      <td>0</td>\n",
       "      <td>almost 1</td>\n",
       "    </tr>\n",
       "    <tr>\n",
       "      <th>8</th>\n",
       "      <td>Aslamu Lykum... From Pakistan﻿</td>\n",
       "      <td>1</td>\n",
       "      <td>aslamu lykum</td>\n",
       "    </tr>\n",
       "    <tr>\n",
       "      <th>9</th>\n",
       "      <td>Eminem is idol for very people in España and M...</td>\n",
       "      <td>0</td>\n",
       "      <td>eminem idol people españa mexico</td>\n",
       "    </tr>\n",
       "    <tr>\n",
       "      <th>10</th>\n",
       "      <td>Help me get 50 subs please ﻿</td>\n",
       "      <td>1</td>\n",
       "      <td>help get 50 subs please</td>\n",
       "    </tr>\n",
       "    <tr>\n",
       "      <th>11</th>\n",
       "      <td>i love song :)﻿</td>\n",
       "      <td>0</td>\n",
       "      <td>love song</td>\n",
       "    </tr>\n",
       "    <tr>\n",
       "      <th>12</th>\n",
       "      <td>Alright ladies, if you like this song, then ch...</td>\n",
       "      <td>1</td>\n",
       "      <td>alright ladies like song check john rage 39 sm...</td>\n",
       "    </tr>\n",
       "    <tr>\n",
       "      <th>13</th>\n",
       "      <td>The perfect example of abuse from husbands and...</td>\n",
       "      <td>0</td>\n",
       "      <td>perfect example abuse husbands thing 39 femini...</td>\n",
       "    </tr>\n",
       "    <tr>\n",
       "      <th>14</th>\n",
       "      <td>The boyfriend was Charlie from the TV show LOST ﻿</td>\n",
       "      <td>0</td>\n",
       "      <td>boyfriend charlie tv show lost</td>\n",
       "    </tr>\n",
       "    <tr>\n",
       "      <th>15</th>\n",
       "      <td>&lt;a href=\"https://www.facebook.com/groups/10087...</td>\n",
       "      <td>1</td>\n",
       "      <td>https https</td>\n",
       "    </tr>\n",
       "    <tr>\n",
       "      <th>16</th>\n",
       "      <td>Take a look at this video on YouTube:﻿</td>\n",
       "      <td>1</td>\n",
       "      <td>take look video youtube</td>\n",
       "    </tr>\n",
       "    <tr>\n",
       "      <th>17</th>\n",
       "      <td>Check out our Channel for nice Beats!!﻿</td>\n",
       "      <td>1</td>\n",
       "      <td>check channel nice beats</td>\n",
       "    </tr>\n",
       "    <tr>\n",
       "      <th>18</th>\n",
       "      <td>Rihanna and Eminem together are unstoppable.﻿</td>\n",
       "      <td>0</td>\n",
       "      <td>rihanna eminem together</td>\n",
       "    </tr>\n",
       "    <tr>\n",
       "      <th>19</th>\n",
       "      <td>Check out this playlist on YouTube:﻿</td>\n",
       "      <td>1</td>\n",
       "      <td>check playlist youtube</td>\n",
       "    </tr>\n",
       "  </tbody>\n",
       "</table>\n",
       "</div>"
      ],
      "text/plain": [
       "                                              CONTENT  CLASS  \\\n",
       "0           +447935454150 lovely girl talk to me xxx﻿      1   \n",
       "1     I always end up coming back to this song<br />﻿      0   \n",
       "2   my sister just received over 6,500 new <a rel=...      1   \n",
       "3                                               Cool﻿      0   \n",
       "4                      Hello I&#39;am from Palastine﻿      1   \n",
       "5   Wow this video almost has a billion views! Did...      0   \n",
       "6   Go check out my rapping video called Four Whee...      1   \n",
       "7                                   Almost 1 billion﻿      0   \n",
       "8                      Aslamu Lykum... From Pakistan﻿      1   \n",
       "9   Eminem is idol for very people in España and M...      0   \n",
       "10                       Help me get 50 subs please ﻿      1   \n",
       "11                                    i love song :)﻿      0   \n",
       "12  Alright ladies, if you like this song, then ch...      1   \n",
       "13  The perfect example of abuse from husbands and...      0   \n",
       "14  The boyfriend was Charlie from the TV show LOST ﻿      0   \n",
       "15  <a href=\"https://www.facebook.com/groups/10087...      1   \n",
       "16             Take a look at this video on YouTube:﻿      1   \n",
       "17            Check out our Channel for nice Beats!!﻿      1   \n",
       "18      Rihanna and Eminem together are unstoppable.﻿      0   \n",
       "19               Check out this playlist on YouTube:﻿      1   \n",
       "\n",
       "                                       TEXT_PROCESSED  \n",
       "0                                    lovely girl talk  \n",
       "1                      always end coming back song br  \n",
       "2   sister received new nofollow https 23active ac...  \n",
       "3                                                      \n",
       "4                                            hello 39  \n",
       "5      wow video almost billion views 39 know popular  \n",
       "6    go check rapping video called four wheels please  \n",
       "7                                            almost 1  \n",
       "8                                        aslamu lykum  \n",
       "9                    eminem idol people españa mexico  \n",
       "10                            help get 50 subs please  \n",
       "11                                          love song  \n",
       "12  alright ladies like song check john rage 39 sm...  \n",
       "13  perfect example abuse husbands thing 39 femini...  \n",
       "14                     boyfriend charlie tv show lost  \n",
       "15                                        https https  \n",
       "16                            take look video youtube  \n",
       "17                           check channel nice beats  \n",
       "18                            rihanna eminem together  \n",
       "19                             check playlist youtube  "
      ]
     },
     "execution_count": 10,
     "metadata": {},
     "output_type": "execute_result"
    }
   ],
   "source": [
    "#Adding a new column for the processed text from the content column\n",
    "eminem['TEXT_PROCESSED'] = eminem['CONTENT'].apply(text_processing)\n",
    "eminem.head(20)"
   ]
  },
  {
   "cell_type": "code",
   "execution_count": 11,
   "id": "6903e63f",
   "metadata": {},
   "outputs": [
    {
     "name": "stdout",
     "output_type": "stream",
     "text": [
      "The length of spam words is 2156\n"
     ]
    }
   ],
   "source": [
    "spam_corpus = []\n",
    "for msg in eminem[eminem['CLASS'] == 1]['TEXT_PROCESSED'].tolist():\n",
    "    for word in msg.split():\n",
    "        spam_corpus.append(word)\n",
    "print('The length of spam words is',len(spam_corpus))"
   ]
  },
  {
   "cell_type": "code",
   "execution_count": 12,
   "id": "01d091a9",
   "metadata": {},
   "outputs": [
    {
     "name": "stdout",
     "output_type": "stream",
     "text": [
      "The length of legitimate(ham) words is 820\n"
     ]
    }
   ],
   "source": [
    "ham_corpus = []\n",
    "for msg in eminem[eminem['CLASS'] == 0]['TEXT_PROCESSED'].tolist():\n",
    "    for word in msg.split():\n",
    "        ham_corpus.append(word)\n",
    "print('The length of legitimate(ham) words is',len(ham_corpus))"
   ]
  },
  {
   "cell_type": "markdown",
   "id": "a08ca87d",
   "metadata": {},
   "source": [
    "## Model Building\n",
    "Algorithm used are\n",
    "- Support Vector Classification(Linear, Polynomial, Gaussian)\n",
    "- The Naive Bayes Method(Multinomial, Bernouli, Gaussian)\n",
    "- Random Forest\n",
    "- Decision Tree(CART)\n",
    "- KNNeighbor\n",
    "- Logistics Regression"
   ]
  },
  {
   "cell_type": "code",
   "execution_count": 13,
   "id": "d164d424",
   "metadata": {},
   "outputs": [
    {
     "data": {
      "text/plain": [
       "(412, 997)"
      ]
     },
     "execution_count": 13,
     "metadata": {},
     "output_type": "execute_result"
    }
   ],
   "source": [
    "from sklearn.feature_extraction.text import CountVectorizer, TfidfVectorizer\n",
    "tfidf = TfidfVectorizer(max_features = 3000 )\n",
    "X = tfidf.fit_transform(eminem['TEXT_PROCESSED']).toarray()\n",
    "y = eminem['CLASS'].values\n",
    "#X.shape\n",
    "#X = CountVectorizer(analyzer=text_processing).fit_transform(psy['CONTENT'])\n",
    "#bag_of_words.shape\n",
    "X.shape\n"
   ]
  },
  {
   "cell_type": "code",
   "execution_count": 14,
   "id": "772e9a22",
   "metadata": {},
   "outputs": [],
   "source": [
    "'''\n",
    "splitting the data into training and testing set \n",
    "importing the necessary library for the Supervised Techniques and checking the accuracy/validity of the model\n",
    "'''\n",
    "from sklearn.model_selection import train_test_split\n",
    "X_train,X_test,y_train,y_test = train_test_split(X,y,test_size=0.2,random_state= 0)\n",
    "\n",
    "from sklearn.linear_model import LogisticRegression\n",
    "from sklearn.svm import SVC\n",
    "from sklearn.tree import DecisionTreeClassifier\n",
    "from sklearn.neighbors import KNeighborsClassifier\n",
    "from sklearn.ensemble import RandomForestClassifier\n",
    "from sklearn.naive_bayes import GaussianNB,MultinomialNB,BernoulliNB\n",
    "from sklearn.metrics import accuracy_score,confusion_matrix,precision_score,f1_score, matthews_corrcoef"
   ]
  },
  {
   "cell_type": "code",
   "execution_count": 15,
   "id": "20fb1f15",
   "metadata": {},
   "outputs": [],
   "source": [
    "svc_Linear = SVC()\n",
    "svc_Polynomial = SVC(kernel='poly')\n",
    "svc_Gaussian = SVC(kernel='rbf')\n",
    "knc = KNeighborsClassifier(n_neighbors=3)\n",
    "dtc = DecisionTreeClassifier()\n",
    "lrc = LogisticRegression(solver='liblinear')\n",
    "rfc = RandomForestClassifier(n_estimators=80)\n",
    "gnb = GaussianNB()\n",
    "mnb = MultinomialNB()\n",
    "bnb = BernoulliNB()"
   ]
  },
  {
   "cell_type": "code",
   "execution_count": 16,
   "id": "3bfe4d19",
   "metadata": {},
   "outputs": [],
   "source": [
    "clfs = {\n",
    "    'SVM_Linear' : svc_Linear,\n",
    "    'SVM_Polynomial' : svc_Polynomial,\n",
    "    'SVM_Gaussian' : svc_Gaussian,\n",
    "    'KNNeighbor' : knc, \n",
    "    'CART': dtc, \n",
    "    'LogisticsRegression': lrc, \n",
    "    'RandomForest': rfc, \n",
    "    'GaussianNB': gnb,\n",
    "    'MultinomialNB': mnb,\n",
    "    'BernoulliNB':bnb\n",
    "}"
   ]
  },
  {
   "cell_type": "code",
   "execution_count": 17,
   "id": "c2815772",
   "metadata": {},
   "outputs": [],
   "source": [
    "def train_classifier(clf,X_train,y_train,X_test,y_test):\n",
    "    clf.fit(X_train,y_train)\n",
    "    y_pred = clf.predict(X_test)\n",
    "    accuracy = accuracy_score(y_test,y_pred)\n",
    "    precision = precision_score(y_test,y_pred)\n",
    "    f_score = f1_score(y_test, y_pred)\n",
    "    con_matrices =confusion_matrix(y_test,y_pred)\n",
    "    return accuracy,precision,f_score,con_matrices"
   ]
  },
  {
   "cell_type": "markdown",
   "id": "3decb08d",
   "metadata": {},
   "source": [
    "## Model Performance(UnOptimized)\n",
    "- Matthew correlation Coefficient\n",
    "- Accuracy\n",
    "- Precision\n",
    "- F_score\n",
    "- Confusion Matrix"
   ]
  },
  {
   "cell_type": "code",
   "execution_count": 18,
   "id": "f65583ef",
   "metadata": {},
   "outputs": [
    {
     "name": "stdout",
     "output_type": "stream",
     "text": [
      "==================\n",
      "SVM_Linear\n",
      "0.6709619415698816\n",
      "==================\n",
      "SVM_Polynomial\n",
      "0.33414717421827017\n",
      "==================\n",
      "SVM_Gaussian\n",
      "0.6709619415698816\n",
      "==================\n",
      "KNNeighbor\n",
      "0.2872183902209853\n",
      "==================\n",
      "CART\n",
      "0.5204442161097913\n",
      "==================\n",
      "LogisticsRegression\n",
      "0.6510023255949701\n",
      "==================\n",
      "RandomForest\n",
      "0.5959742794701739\n",
      "==================\n",
      "GaussianNB\n",
      "0.49912748569280796\n",
      "==================\n",
      "MultinomialNB\n",
      "0.7104651162790697\n",
      "==================\n",
      "BernoulliNB\n",
      "0.6332158475140235\n",
      "--------------------------------\n",
      "SVM_Linear\n",
      "Accuracy  0.8313253012048193\n",
      "Precision -  0.8918918918918919\n",
      "f1_scores 0.825\n",
      "Confusion Matrix\n",
      "  [[36  4]\n",
      " [10 33]]\n",
      "--------------------------------\n",
      "--------------------------------\n",
      "SVM_Polynomial\n",
      "Accuracy  0.6265060240963856\n",
      "Precision -  0.5833333333333334\n",
      "f1_scores 0.7304347826086957\n",
      "Confusion Matrix\n",
      "  [[10 30]\n",
      " [ 1 42]]\n",
      "--------------------------------\n",
      "--------------------------------\n",
      "SVM_Gaussian\n",
      "Accuracy  0.8313253012048193\n",
      "Precision -  0.8918918918918919\n",
      "f1_scores 0.825\n",
      "Confusion Matrix\n",
      "  [[36  4]\n",
      " [10 33]]\n",
      "--------------------------------\n",
      "--------------------------------\n",
      "KNNeighbor\n",
      "Accuracy  0.6265060240963856\n",
      "Precision -  0.5909090909090909\n",
      "f1_scores 0.7155963302752293\n",
      "Confusion Matrix\n",
      "  [[13 27]\n",
      " [ 4 39]]\n",
      "--------------------------------\n",
      "--------------------------------\n",
      "CART\n",
      "Accuracy  0.7710843373493976\n",
      "Precision -  0.75\n",
      "f1_scores 0.7912087912087912\n",
      "Confusion Matrix\n",
      "  [[28 12]\n",
      " [ 7 36]]\n",
      "--------------------------------\n",
      "--------------------------------\n",
      "LogisticsRegression\n",
      "Accuracy  0.8192771084337349\n",
      "Precision -  0.7692307692307693\n",
      "f1_scores 0.8421052631578948\n",
      "Confusion Matrix\n",
      "  [[28 12]\n",
      " [ 3 40]]\n",
      "--------------------------------\n",
      "--------------------------------\n",
      "RandomForest\n",
      "Accuracy  0.8072289156626506\n",
      "Precision -  0.7647058823529411\n",
      "f1_scores 0.8297872340425532\n",
      "Confusion Matrix\n",
      "  [[28 12]\n",
      " [ 4 39]]\n",
      "--------------------------------\n",
      "--------------------------------\n",
      "GaussianNB\n",
      "Accuracy  0.7469879518072289\n",
      "Precision -  0.7894736842105263\n",
      "f1_scores 0.7407407407407408\n",
      "Confusion Matrix\n",
      "  [[32  8]\n",
      " [13 30]]\n",
      "--------------------------------\n",
      "--------------------------------\n",
      "MultinomialNB\n",
      "Accuracy  0.8554216867469879\n",
      "Precision -  0.8604651162790697\n",
      "f1_scores 0.8604651162790697\n",
      "Confusion Matrix\n",
      "  [[34  6]\n",
      " [ 6 37]]\n",
      "--------------------------------\n",
      "--------------------------------\n",
      "BernoulliNB\n",
      "Accuracy  0.7831325301204819\n",
      "Precision -  1.0\n",
      "f1_scores 0.7352941176470588\n",
      "Confusion Matrix\n",
      "  [[40  0]\n",
      " [18 25]]\n",
      "--------------------------------\n"
     ]
    }
   ],
   "source": [
    "'''\n",
    "   Using the Matthews correlation coefficient\n",
    "'''\n",
    "\n",
    "mcc_scores = []\n",
    "for name, clf in clfs.items():\n",
    "    clf.fit(X_train,y_train)\n",
    "    current_mcc = matthews_corrcoef(y_test,clf.predict(X_test))\n",
    "   \n",
    "    print(\"==================\")\n",
    "    print(name)\n",
    "    print(current_mcc)\n",
    "    mcc_scores.append(current_mcc)\n",
    "\n",
    "\n",
    "'''\n",
    "    Checking the Accuracy, Precision, F-score and the confusion Matrix\n",
    "'''\n",
    "\n",
    "accuracy_scores = []\n",
    "precision_scores = []\n",
    "f1_scores = []\n",
    "confusion_matrices = []\n",
    "for name,clf in clfs.items():\n",
    "    \n",
    "    current_accuracy,current_precision,current_f1_score, confusion_matrice = train_classifier(clf, X_train,y_train,X_test,y_test)\n",
    "    print('--------------------------------')\n",
    "    print(name)\n",
    "    print(\"Accuracy \",current_accuracy)\n",
    "    print(\"Precision - \",current_precision)\n",
    "    print(\"f1_scores\" , current_f1_score) \n",
    "    print('Confusion Matrix\\n ',confusion_matrice)  \n",
    "    accuracy_scores.append(current_accuracy)\n",
    "    precision_scores.append(current_precision)\n",
    "    f1_scores.append(current_f1_score)\n",
    "    confusion_matrices.append(confusion_matrice)\n",
    "\n",
    "    print('--------------------------------')"
   ]
  },
  {
   "cell_type": "code",
   "execution_count": 19,
   "id": "46db2459",
   "metadata": {},
   "outputs": [
    {
     "data": {
      "text/html": [
       "<div>\n",
       "<style scoped>\n",
       "    .dataframe tbody tr th:only-of-type {\n",
       "        vertical-align: middle;\n",
       "    }\n",
       "\n",
       "    .dataframe tbody tr th {\n",
       "        vertical-align: top;\n",
       "    }\n",
       "\n",
       "    .dataframe thead th {\n",
       "        text-align: right;\n",
       "    }\n",
       "</style>\n",
       "<table border=\"1\" class=\"dataframe\">\n",
       "  <thead>\n",
       "    <tr style=\"text-align: right;\">\n",
       "      <th></th>\n",
       "      <th>Algorithm</th>\n",
       "      <th>Accuracy</th>\n",
       "      <th>Precision</th>\n",
       "      <th>F_scores</th>\n",
       "      <th>MCC_scores</th>\n",
       "    </tr>\n",
       "  </thead>\n",
       "  <tbody>\n",
       "    <tr>\n",
       "      <th>8</th>\n",
       "      <td>MultinomialNB</td>\n",
       "      <td>0.855422</td>\n",
       "      <td>0.860465</td>\n",
       "      <td>0.860465</td>\n",
       "      <td>0.710465</td>\n",
       "    </tr>\n",
       "    <tr>\n",
       "      <th>0</th>\n",
       "      <td>SVM_Linear</td>\n",
       "      <td>0.831325</td>\n",
       "      <td>0.891892</td>\n",
       "      <td>0.825000</td>\n",
       "      <td>0.670962</td>\n",
       "    </tr>\n",
       "    <tr>\n",
       "      <th>2</th>\n",
       "      <td>SVM_Gaussian</td>\n",
       "      <td>0.831325</td>\n",
       "      <td>0.891892</td>\n",
       "      <td>0.825000</td>\n",
       "      <td>0.670962</td>\n",
       "    </tr>\n",
       "    <tr>\n",
       "      <th>5</th>\n",
       "      <td>LogisticsRegression</td>\n",
       "      <td>0.819277</td>\n",
       "      <td>0.769231</td>\n",
       "      <td>0.842105</td>\n",
       "      <td>0.651002</td>\n",
       "    </tr>\n",
       "    <tr>\n",
       "      <th>9</th>\n",
       "      <td>BernoulliNB</td>\n",
       "      <td>0.783133</td>\n",
       "      <td>1.000000</td>\n",
       "      <td>0.735294</td>\n",
       "      <td>0.633216</td>\n",
       "    </tr>\n",
       "    <tr>\n",
       "      <th>6</th>\n",
       "      <td>RandomForest</td>\n",
       "      <td>0.807229</td>\n",
       "      <td>0.764706</td>\n",
       "      <td>0.829787</td>\n",
       "      <td>0.595974</td>\n",
       "    </tr>\n",
       "    <tr>\n",
       "      <th>4</th>\n",
       "      <td>CART</td>\n",
       "      <td>0.771084</td>\n",
       "      <td>0.750000</td>\n",
       "      <td>0.791209</td>\n",
       "      <td>0.520444</td>\n",
       "    </tr>\n",
       "    <tr>\n",
       "      <th>7</th>\n",
       "      <td>GaussianNB</td>\n",
       "      <td>0.746988</td>\n",
       "      <td>0.789474</td>\n",
       "      <td>0.740741</td>\n",
       "      <td>0.499127</td>\n",
       "    </tr>\n",
       "    <tr>\n",
       "      <th>1</th>\n",
       "      <td>SVM_Polynomial</td>\n",
       "      <td>0.626506</td>\n",
       "      <td>0.583333</td>\n",
       "      <td>0.730435</td>\n",
       "      <td>0.334147</td>\n",
       "    </tr>\n",
       "    <tr>\n",
       "      <th>3</th>\n",
       "      <td>KNNeighbor</td>\n",
       "      <td>0.626506</td>\n",
       "      <td>0.590909</td>\n",
       "      <td>0.715596</td>\n",
       "      <td>0.287218</td>\n",
       "    </tr>\n",
       "  </tbody>\n",
       "</table>\n",
       "</div>"
      ],
      "text/plain": [
       "             Algorithm  Accuracy  Precision  F_scores  MCC_scores\n",
       "8        MultinomialNB  0.855422   0.860465  0.860465    0.710465\n",
       "0           SVM_Linear  0.831325   0.891892  0.825000    0.670962\n",
       "2         SVM_Gaussian  0.831325   0.891892  0.825000    0.670962\n",
       "5  LogisticsRegression  0.819277   0.769231  0.842105    0.651002\n",
       "9          BernoulliNB  0.783133   1.000000  0.735294    0.633216\n",
       "6         RandomForest  0.807229   0.764706  0.829787    0.595974\n",
       "4                 CART  0.771084   0.750000  0.791209    0.520444\n",
       "7           GaussianNB  0.746988   0.789474  0.740741    0.499127\n",
       "1       SVM_Polynomial  0.626506   0.583333  0.730435    0.334147\n",
       "3           KNNeighbor  0.626506   0.590909  0.715596    0.287218"
      ]
     },
     "execution_count": 19,
     "metadata": {},
     "output_type": "execute_result"
    }
   ],
   "source": [
    "'''\n",
    "    Arranging the performance based on the Matthew correlation coefficient in descending order for each Algorithm\n",
    "'''\n",
    "performance_eminem = pd.DataFrame({'Algorithm':clfs.keys(),'Accuracy':accuracy_scores,'Precision':precision_scores, 'F_scores':f1_scores, 'MCC_scores': mcc_scores}).sort_values('MCC_scores', ascending=False)\n",
    "performance_eminem"
   ]
  },
  {
   "cell_type": "code",
   "execution_count": 20,
   "id": "23421b75",
   "metadata": {},
   "outputs": [
    {
     "data": {
      "text/plain": [
       "<AxesSubplot:xlabel='Algorithm'>"
      ]
     },
     "execution_count": 20,
     "metadata": {},
     "output_type": "execute_result"
    },
    {
     "data": {
      "image/png": "[encoded data removed]",
      "text/plain": [
       "<Figure size 720x432 with 1 Axes>"
      ]
     },
     "metadata": {
      "needs_background": "light"
     },
     "output_type": "display_data"
    }
   ],
   "source": [
    "performance_eminem.plot(x='Algorithm', y='Precision', label='Precision for Techniques used', figsize = [10,6] )"
   ]
  },
  {
   "cell_type": "markdown",
   "id": "9c193f1c",
   "metadata": {},
   "source": [
    "## TUNING RESULT USING GRID SEARCH  "
   ]
  },
  {
   "cell_type": "code",
   "execution_count": 21,
   "id": "0b230419",
   "metadata": {},
   "outputs": [
    {
     "name": "stdout",
     "output_type": "stream",
     "text": [
      "-----------\n",
      "C = 100\n",
      "gamma = 0.1\n",
      "kernel = rbf\n"
     ]
    }
   ],
   "source": [
    "'''\n",
    "    Tuning the support vectors for Linear, Polynomial and Gaussian to give the optimal parameter\n",
    "'''\n",
    "from sklearn.pipeline import Pipeline\n",
    "from sklearn.model_selection import GridSearchCV\n",
    "param_grid = [\n",
    "    {\n",
    "        'C':[0.5,1,10,100,0.1,0.01],\n",
    "        'gamma':['scale',1, 0.1, 0.01, 0.001, 0.0001],\n",
    "        'kernel':['rbf'] # ['rbf','poly','linear']\n",
    "    }\n",
    "]\n",
    "optimal_params = GridSearchCV(\n",
    "    SVC(),\n",
    "    param_grid,\n",
    "    cv=10,\n",
    "    scoring='accuracy',\n",
    "    verbose=0\n",
    ")\n",
    "C,g,k = optimal_params.fit(X_train, y_train).best_params_.values()\n",
    "print(f\"-----------\")\n",
    "print(f\"C = {C}\")\n",
    "print(f\"gamma = {g}\")\n",
    "print(f\"kernel = {k}\")\n"
   ]
  },
  {
   "cell_type": "code",
   "execution_count": 22,
   "id": "6c590ec9",
   "metadata": {},
   "outputs": [
    {
     "name": "stdout",
     "output_type": "stream",
     "text": [
      "Fitting 10 folds for each of 100 candidates, totalling 1000 fits\n",
      "GaussianNB(var_smoothing=0.0657933224657568)\n"
     ]
    }
   ],
   "source": [
    "\n",
    "'''\n",
    "    Tuning the Naive Bayes method for Bernoulli, Multinomial and Gaussian to give the optimal parameter\n",
    "'''\n",
    "\n",
    "param_grid_nb = {\n",
    "        'var_smoothing': np.logspace(0, -9, num = 100)\n",
    "    }\n",
    "\n",
    "optimal_params = GridSearchCV(estimator = GaussianNB(),param_grid= param_grid_nb,\n",
    "    cv=10,\n",
    "    scoring='accuracy',\n",
    "    verbose=1\n",
    ") # [multinomialNB, GaussianNB, BernouliNB]\n",
    "optimal_params.fit(X_train, y_train)\n",
    "print(optimal_params.best_estimator_)"
   ]
  },
  {
   "cell_type": "code",
   "execution_count": 23,
   "id": "8a79b904",
   "metadata": {},
   "outputs": [
    {
     "name": "stdout",
     "output_type": "stream",
     "text": [
      "KNeighborsClassifier(n_neighbors=1)\n"
     ]
    }
   ],
   "source": [
    "\n",
    "'''\n",
    "    Tuning the Naive Bayes method for KNNeigbor\n",
    "'''\n",
    "\n",
    "param_grid_knn = {\n",
    "        'n_neighbors': [1,3,5,7,9]\n",
    "    }\n",
    "\n",
    "optimal_params = GridSearchCV(estimator = KNeighborsClassifier(),param_grid= param_grid_knn,\n",
    "    cv=10,\n",
    "    scoring='accuracy',\n",
    "    verbose=0\n",
    ") \n",
    "optimal_params.fit(X_train, y_train)\n",
    "print(optimal_params.best_estimator_)\n"
   ]
  },
  {
   "cell_type": "code",
   "execution_count": 24,
   "id": "d0dc6248",
   "metadata": {},
   "outputs": [
    {
     "name": "stdout",
     "output_type": "stream",
     "text": [
      "RandomForestClassifier(n_estimators=80)\n"
     ]
    }
   ],
   "source": [
    "'''\n",
    "    Tuning the RandomForest \n",
    "'''\n",
    "\n",
    "param_grid_rfc = {\n",
    "        'n_estimators': [20,40,60,80,100]\n",
    "    }\n",
    "\n",
    "optimal_params = GridSearchCV(estimator = RandomForestClassifier(),param_grid= param_grid_rfc,\n",
    "    cv=10,\n",
    "    scoring='accuracy',\n",
    "    verbose=0\n",
    ") \n",
    "optimal_params.fit(X_train, y_train)\n",
    "print(optimal_params.best_estimator_)\n",
    "\n"
   ]
  },
  {
   "cell_type": "code",
   "execution_count": 25,
   "id": "8c71421a",
   "metadata": {},
   "outputs": [
    {
     "name": "stdout",
     "output_type": "stream",
     "text": [
      "LogisticRegression(C=10)\n"
     ]
    }
   ],
   "source": [
    "'''\n",
    "    Tuning the RandomForest \n",
    "'''\n",
    "param_grid_lrc = [\n",
    "{\n",
    "        'C': [10, 15,20,30],\n",
    "     }\n",
    "\n",
    "]\n",
    "\n",
    "optimal_params = GridSearchCV(estimator = LogisticRegression(),param_grid= param_grid_lrc,\n",
    "    cv=10,\n",
    "    scoring='accuracy',\n",
    "    verbose=0\n",
    ") \n",
    "optimal_params.fit(X_train, y_train)\n",
    "print(optimal_params.best_estimator_)\n"
   ]
  },
  {
   "cell_type": "code",
   "execution_count": 26,
   "id": "4000b789",
   "metadata": {},
   "outputs": [
    {
     "name": "stdout",
     "output_type": "stream",
     "text": [
      "DecisionTreeClassifier(random_state=2)\n"
     ]
    }
   ],
   "source": [
    "'''\n",
    "    Tuning the Decision Tree (CART) \n",
    "'''\n",
    "param_grid_dtc = [\n",
    "{\n",
    "        'criterion': [\"gini\"],\n",
    "        'random_state':[None, 1,2,4,8,10]\n",
    "     }\n",
    "\n",
    "]\n",
    "\n",
    "optimal_params = GridSearchCV(estimator = DecisionTreeClassifier(),param_grid= param_grid_dtc,\n",
    "    cv= 10,\n",
    "    scoring ='accuracy',\n",
    "    verbose=0\n",
    ") \n",
    "optimal_params.fit(X_train, y_train)\n",
    "print(optimal_params.best_estimator_)"
   ]
  },
  {
   "cell_type": "markdown",
   "id": "16acb6f7",
   "metadata": {},
   "source": [
    "## OPTIMIZED MODEL(Performance)"
   ]
  },
  {
   "cell_type": "code",
   "execution_count": 27,
   "id": "322d9b8d",
   "metadata": {},
   "outputs": [
    {
     "name": "stdout",
     "output_type": "stream",
     "text": [
      "             Algorithm  Accuracy  Precision  F_scores  MCC_scores\n",
      "8        MultinomialNB  0.855422   0.860465  0.860465    0.710465\n",
      "0           SVM_Linear  0.831325   0.891892  0.825000    0.670962\n",
      "2         SVM_Gaussian  0.831325   0.891892  0.825000    0.670962\n",
      "5  LogisticsRegression  0.819277   0.769231  0.842105    0.651002\n",
      "9          BernoulliNB  0.783133   1.000000  0.735294    0.633216\n",
      "6         RandomForest  0.807229   0.764706  0.829787    0.595974\n",
      "4                 CART  0.771084   0.750000  0.791209    0.520444\n",
      "7           GaussianNB  0.746988   0.789474  0.740741    0.499127\n",
      "1       SVM_Polynomial  0.626506   0.583333  0.730435    0.334147\n",
      "3           KNNeighbor  0.626506   0.590909  0.715596    0.287218\n"
     ]
    },
    {
     "data": {
      "text/plain": [
       "<AxesSubplot:xlabel='Algorithm'>"
      ]
     },
     "execution_count": 27,
     "metadata": {},
     "output_type": "execute_result"
    },
    {
     "data": {
      "image/png": "[encoded data removed]",
      "text/plain": [
       "<Figure size 720x432 with 1 Axes>"
      ]
     },
     "metadata": {
      "needs_background": "light"
     },
     "output_type": "display_data"
    },
    {
     "data": {
      "image/png": "[encoded data removed]",
      "text/plain": [
       "<Figure size 720x432 with 1 Axes>"
      ]
     },
     "metadata": {
      "needs_background": "light"
     },
     "output_type": "display_data"
    },
    {
     "data": {
      "image/png": "[encoded data removed]",
      "text/plain": [
       "<Figure size 720x432 with 1 Axes>"
      ]
     },
     "metadata": {
      "needs_background": "light"
     },
     "output_type": "display_data"
    }
   ],
   "source": [
    "svc_Linear = SVC(kernel='linear', C=1, gamma = \"scale\", random_state=0)\n",
    "svc_Polynomial = SVC(kernel='poly', C= 1, gamma = \"scale\")\n",
    "svc_Gaussian = SVC(kernel='sigmoid',C = 10, gamma= 0.1)\n",
    "knc = KNeighborsClassifier(n_neighbors=1, algorithm= \"auto\")\n",
    "mnb = MultinomialNB()\n",
    "dtc = DecisionTreeClassifier(random_state=2)\n",
    "lrc = LogisticRegression(solver='liblinear', penalty='l1', C = 10)\n",
    "rfc = RandomForestClassifier(n_estimators=20, random_state=40)\n",
    "gnb = GaussianNB( var_smoothing=0.0657933224657568)\n",
    "bnb = BernoulliNB()\n",
    "\n",
    "clfs = {\n",
    "    'SVM_Linear' : svc_Linear,\n",
    "    'SVM_Polynomial' : svc_Polynomial,\n",
    "    'SVM_Gaussian' : svc_Gaussian,\n",
    "    'KNNeighbor' : knc, \n",
    "    'CART': dtc, \n",
    "    'LogisticsRegression': lrc, \n",
    "    'RandomForest': rfc, \n",
    "    'GaussianNB': gnb,\n",
    "    'MultinomialNB': mnb,\n",
    "    'BernoulliNB':bnb\n",
    "}\n",
    "\n",
    "def train_classifier(clf,X_train,y_train,X_test,y_test):\n",
    "    clf.fit(X_train,y_train)\n",
    "    y_pred = clf.predict(X_test)\n",
    "    accuracy = accuracy_score(y_test,y_pred)\n",
    "    precision = precision_score(y_test,y_pred)\n",
    "    f_score = f1_score(y_test, y_pred)\n",
    "    con_matrices =confusion_matrix(y_test,y_pred)\n",
    "    return accuracy,precision,f_score,con_matrices\n",
    "\n",
    "'''\n",
    "    Arranging the performance based on the Matthew correlation coefficient in descending order for each Algorithm\n",
    "'''\n",
    "performance_eminem = pd.DataFrame({'Algorithm':clfs.keys(),'Accuracy':accuracy_scores,'Precision':precision_scores, 'F_scores':f1_scores, 'MCC_scores': mcc_scores}).sort_values('MCC_scores', ascending=False)\n",
    "print(performance_eminem)\n",
    "\n",
    "performance_eminem.plot(x='Algorithm', y='MCC_scores', label='MCC_ scores for Techniques ', figsize = [10,6] )\n",
    "\n",
    "performance_eminem.plot(x='Algorithm', y='Accuracy', label='Accuracy for Techniques ', figsize = [10,6] )\n",
    "\n",
    "performance_eminem.plot(x='Algorithm', y='Precision', label='Precision for Techniques ', figsize = [10,6] )"
   ]
  },
  {
   "cell_type": "code",
   "execution_count": 28,
   "id": "da58cfc4",
   "metadata": {},
   "outputs": [
    {
     "data": {
      "text/plain": [
       "<AxesSubplot:>"
      ]
     },
     "execution_count": 28,
     "metadata": {},
     "output_type": "execute_result"
    },
    {
     "data": {
      "image/png": "[encoded data removed]",
      "text/plain": [
       "<Figure size 504x648 with 2 Axes>"
      ]
     },
     "metadata": {
      "needs_background": "light"
     },
     "output_type": "display_data"
    }
   ],
   "source": [
    "import seaborn as sns\n",
    "\n",
    "'''\n",
    "    A Heatmap confusion matrix for the predicted outcome for Linear support Vector Algorithms\n",
    "'''\n",
    "svc_Linear.fit(X_train,y_train)\n",
    "y_pred_svc = svc_Linear.predict(X_test)\n",
    "cm = confusion_matrix(y_test,y_pred_svc)\n",
    "plt.figure(figsize=(7,9))\n",
    "sns.heatmap(cm/np.sum(cm), annot=True, fmt='.2%', cmap='Blues')\n"
   ]
  },
  {
   "cell_type": "code",
   "execution_count": 29,
   "id": "ed151cbb",
   "metadata": {},
   "outputs": [
    {
     "data": {
      "text/plain": [
       "<AxesSubplot:>"
      ]
     },
     "execution_count": 29,
     "metadata": {},
     "output_type": "execute_result"
    },
    {
     "data": {
      "image/png": "[encoded data removed]",
      "text/plain": [
       "<Figure size 504x648 with 2 Axes>"
      ]
     },
     "metadata": {
      "needs_background": "light"
     },
     "output_type": "display_data"
    }
   ],
   "source": [
    "'''\n",
    "    A Heatmap confusion matrix for the predicted outcome for Linear support Vector Algorithms\n",
    "'''\n",
    "mnb.fit(X_train,y_train)\n",
    "y_pred_mnb = mnb.predict(X_test)\n",
    "cm = confusion_matrix(y_test,y_pred_mnb)\n",
    "plt.figure(figsize=(7,9))\n",
    "sns.heatmap(cm/np.sum(cm), annot=True, fmt='.2%', cmap='Blues')\n"
   ]
  },
  {
   "cell_type": "code",
   "execution_count": null,
   "id": "73c136f7",
   "metadata": {},
   "outputs": [],
   "source": []
  }
 ],
 "metadata": {
  "kernelspec": {
   "display_name": "Python 3 (ipykernel)",
   "language": "python",
   "name": "python3"
  },
  "language_info": {
   "codemirror_mode": {
    "name": "ipython",
    "version": 3
   },
   "file_extension": ".py",
   "mimetype": "text/x-python",
   "name": "python",
   "nbconvert_exporter": "python",
   "pygments_lexer": "ipython3",
   "version": "3.8.8"
  }
 },
 "nbformat": 4,
 "nbformat_minor": 5
}
